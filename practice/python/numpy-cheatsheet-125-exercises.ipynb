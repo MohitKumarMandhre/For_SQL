{
 "cells": [
  {
   "cell_type": "code",
   "execution_count": 1,
   "metadata": {
    "_cell_guid": "b1076dfc-b9ad-4769-8c92-a6c4dae69d19",
    "_uuid": "8f2839f25d086af736a60e9eeb907d3b93b6e0e5",
    "execution": {
     "iopub.execute_input": "2020-10-20T03:46:58.806307Z",
     "iopub.status.busy": "2020-10-20T03:46:58.805665Z",
     "iopub.status.idle": "2020-10-20T03:46:58.814853Z",
     "shell.execute_reply": "2020-10-20T03:46:58.814255Z"
    },
    "papermill": {
     "duration": 0.139267,
     "end_time": "2020-10-20T03:46:58.814977",
     "exception": false,
     "start_time": "2020-10-20T03:46:58.675710",
     "status": "completed"
    },
    "tags": []
   },
   "outputs": [
    {
     "name": "stdout",
     "output_type": "stream",
     "text": [
      "/kaggle/input/60k-stack-overflow-questions-with-quality-rate/train.csv\n",
      "/kaggle/input/60k-stack-overflow-questions-with-quality-rate/valid.csv\n",
      "/kaggle/input/numpy-cheatsheet/cn_tower.jpg\n"
     ]
    }
   ],
   "source": [
    "# This Python 3 environment comes with many helpful analytics libraries installed\n",
    "# It is defined by the kaggle/python Docker image: https://github.com/kaggle/docker-python\n",
    "# For example, here's several helpful packages to load\n",
    "\n",
    "import numpy as np # linear algebra\n",
    "import pandas as pd # data processing, CSV file I/O (e.g. pd.read_csv)\n",
    "\n",
    "# Input data files are available in the read-only \"../input/\" directory\n",
    "# For example, running this (by clicking run or pressing Shift+Enter) will list all files under the input directory\n",
    "\n",
    "import os\n",
    "for dirname, _, filenames in os.walk('/kaggle/input'):\n",
    "    for filename in filenames:\n",
    "        print(os.path.join(dirname, filename))\n",
    "\n",
    "# You can write up to 5GB to the current directory (/kaggle/working/) that gets preserved as output when you create a version using \"Save & Run All\" \n",
    "# You can also write temporary files to /kaggle/temp/, but they won't be saved outside of the current session"
   ]
  },
  {
   "cell_type": "code",
   "execution_count": 2,
   "metadata": {
    "execution": {
     "iopub.execute_input": "2020-10-20T03:46:59.066159Z",
     "iopub.status.busy": "2020-10-20T03:46:59.065297Z",
     "iopub.status.idle": "2020-10-20T03:46:59.068181Z",
     "shell.execute_reply": "2020-10-20T03:46:59.067595Z"
    },
    "papermill": {
     "duration": 0.129383,
     "end_time": "2020-10-20T03:46:59.068288",
     "exception": false,
     "start_time": "2020-10-20T03:46:58.938905",
     "status": "completed"
    },
    "tags": []
   },
   "outputs": [],
   "source": [
    "import warnings\n",
    "warnings.filterwarnings('ignore')"
   ]
  },
  {
   "cell_type": "code",
   "execution_count": 3,
   "metadata": {
    "execution": {
     "iopub.execute_input": "2020-10-20T03:46:59.321876Z",
     "iopub.status.busy": "2020-10-20T03:46:59.321176Z",
     "iopub.status.idle": "2020-10-20T03:46:59.324512Z",
     "shell.execute_reply": "2020-10-20T03:46:59.323964Z"
    },
    "papermill": {
     "duration": 0.133278,
     "end_time": "2020-10-20T03:46:59.324630",
     "exception": false,
     "start_time": "2020-10-20T03:46:59.191352",
     "status": "completed"
    },
    "tags": []
   },
   "outputs": [],
   "source": [
    "# This will help us in truncating the longer array\n",
    "np.set_printoptions(threshold = 100)"
   ]
  },
  {
   "cell_type": "markdown",
   "metadata": {
    "papermill": {
     "duration": 0.121569,
     "end_time": "2020-10-20T03:46:59.570937",
     "exception": false,
     "start_time": "2020-10-20T03:46:59.449368",
     "status": "completed"
    },
    "tags": []
   },
   "source": [
    "<a id=\"top\"></a>\n",
    "\n",
    "<div class=\"list-group\" id=\"list-tab\" role=\"tablist\">\n",
    "\n",
    "<font color=\"teal\" size=+1><b>Content List</b></font>\n",
    "    \n",
    "* [0. Numpy version](#00)\n",
    "* [1. Create an empty array](#01)\n",
    "* [2. Check whether the array is empty](#02)\n",
    "* [3. Check elements count](#03)\n",
    "* [4. Arrange numpy between numbers](#04)\n",
    "* [5. Arrange numpy between numbers with intervals](#05)\n",
    "* [6. Array reshape](#06)\n",
    "* [7. Create a numpy with random integers](#07)\n",
    "* [8. Create a numpy with random integers and size](#08)\n",
    "* [9. Array of strings](#09)\n",
    "* [10. Numpy array with strings and explicit dtype](#10)\n",
    "* [11. Numpy array with strings and explicit dtype](#11)\n",
    "* [12. Print without truncation](#12)\n",
    "* [13. Save Numpy to CSV](#13)\n",
    "* [14. Dataframe to Numpy](#14)\n",
    "* [15. Get the nth column of an array](#15)\n",
    "* [16. Reshape with -1 (lazy option)](#16)\n",
    "* [17. Numpy with precision](#17)\n",
    "* [18. Argsort on Numpy array](#18)\n",
    "* [19. Numpy view](#19)\n",
    "* [20. Using Flipud](#20)\n",
    "* [21. Numpy inverse](#21)\n",
    "* [22. Numpy Inverse](#22)\n",
    "* [23. Numpy compare](#23)\n",
    "* [24. Numpy compare with nonzero count](#24)\n",
    "* [25. Flip a numpy array by using flipud](#25)\n",
    "* [26. Flip a numpy array by using flipud without sharing the memory](#26)\n",
    "* [27. Flip a numpy array by using fliplr (horizontally)](#27)\n",
    "* [28. Flip a numpy array by using flip (both horizontally and vertically)](#28)\n",
    "* [29. Flipping the numpy array using slices](#29)\n",
    "* [30. Convert numpy array to list](#30)\n",
    "* [31. Numpy Where](#31)\n",
    "* [32. Numpy where with multiple conditions](#32)\n",
    "* [33. Numpy where with multiple conditions - apply only on matching conditions](#33)\n",
    "* [34. Process with where](#34)\n",
    "* [35. List to numpy array](#35)\n",
    "* [36. List to numpy array with explicit dtype](#36)\n",
    "* [37. 2D list to numpy array](#37)\n",
    "* [38. Convert list to float numpy array](#38)\n",
    "* [39. Convert list to numpy array with explicit datatype](#39)\n",
    "* [40. Find common values between two numpy array](#40)\n",
    "* [41. Get today in numpy and deltas](#41)\n",
    "* [42. Between two Dates](#42)\n",
    "* [43. Random array and sorting](#43)\n",
    "* [44. Random int array and sorting](#44)\n",
    "* [45. String to nump,y array](#45)\n",
    "* [46. Find the nearest element in the array](#46)\n",
    "* [47. Swap rows](#47)\n",
    "* [48. Shuffle](#48)\n",
    "* [49. Get specific element](#49)\n",
    "* [50. Repeat an array](#50)\n",
    "* [51. Min, Max, Sum](#51)\n",
    "* [52. Get min of axis = 1](#52)\n",
    "* [53. Using amin function](#53)\n",
    "* [54. Using amax function](#54)\n",
    "* [55. Get min of axis = 0](#55)\n",
    "* [56. Calculate 90th percentile of an axis](#56)\n",
    "* [57. Find median](#57)\n",
    "* [58. Covariance matrix](#58)\n",
    "* [59. Pearson product-moment correlation](#59)\n",
    "* [60. Cross correlation](#60)\n",
    "* [61. Count the number of occurrences](#61)\n",
    "* [62. Create random int numpy array with specific shape](#62)\n",
    "* [63. Create 4 different integers from 0, 40. ](#63)\n",
    "* [64. Create 4 different integers from 0, 4. ](#64)\n",
    "* [65. Shuffle](#65)\n",
    "* [66. Shuffling by permutation](#66)\n",
    "* [67. Seed for random](#67)\n",
    "* [68. Get unique elements](#68)\n",
    "* [69. Create a boolean array with a shape of x](#69)\n",
    "* [70. Find unique intersection](#70)\n",
    "* [71. Find the diff](#71)\n",
    "* [72. Trying to inverse a singular matrix](#72)\n",
    "* [73. Find the union](#73)\n",
    "* [74. Element Sum](#74)\n",
    "* [75. Pretty print - suppress the scientific notation](#75)\n",
    "* [76. Print with decimal format](#76)\n",
    "* [77. Convert flot array to int array](#77)\n",
    "* [78. array vs asarray](#78)\n",
    "* [79. Numpy Datetime](#79)\n",
    "* [80. Numpy Datetime with arange](#80)\n",
    "* [81. Compare Numpy datetime](#81)\n",
    "* [82. Numpy 2D array flat list](#82)\n",
    "* [83. Numpy 2D array to flat list](#83)\n",
    "* [84. Numpy array to Pandas Dataframe](#84)\n",
    "* [85. Numpy to Dataframe by using from_records](#85)\n",
    "* [86. Append with hstack](#86)\n",
    "* [87. Ravel vs. Flatten](#87)\n",
    "* [88. Ravel and Flatten with assignment](#88)\n",
    "* [89. Numpy Concatenate](#89)\n",
    "* [90. Reverse 1D array](#90)\n",
    "* [91. Reverse 2D Array](#91)\n",
    "* [92. Reverse 2D array with elements](#92)\n",
    "* [93. Image as an array](#93)\n",
    "* [94. Array with prefilled values](#94)\n",
    "* [95. Delete specific indices](#95)\n",
    "* [96. Deleting specific elements](#96)\n",
    "* [97. Boolean Numpy Array](#97)\n",
    "* [98. Array of NaN](#98)\n",
    "* [99. Replace values with specific condition](#99)\n",
    "* [100. Selecting specific columns](#100)  \n",
    "* [101. Vectorize](#101)\n",
    "* [102. If condition on Numpy array on the fly](#102)\n",
    "* [103. If condition and sum on Numpy colum](#103)\n",
    "* [104. Using Vectorize function on Numpy](#104)\n",
    "* [105. Apply Along Axis on Numpy Matrix](#105)\n",
    "* [106. Sort the arry by using](#106)\n",
    "* [107. Numpy Roll](#107)\n",
    "* [108. Roll elements](#108)\n",
    "* [109. Array Append on Axis 0 and Axis 1](#109)\n",
    "* [110. Rearrange array with specified index](#110)\n",
    "* [111. Serialize array with pickle](#111)\n",
    "* [112. Transpose](#112)\n",
    "* [113. Continguous Array](#113)\n",
    "* [114. Numpy Reshape with Order](#114)  \n",
    "* [115. Element-wise math](#115)  \n",
    "* [116. Where with multiple condition](#116)  \n",
    "* [117. Subtract Outer](#117)  \n",
    "* [118. Multiply Outer](#118)  \n",
    "* [119. Immutable Array](#119)  \n",
    "* [120. Float anomalies in Numpy Arange](#120)  \n",
    "* [121. Complex number and absolute value](#121)  \n",
    "* [122. Set Error in Numpy](#122)  \n",
    "* [123. Convert List of List String to Numpy Array](#123)  \n",
    "* [124. Resize a list with rounds](#124)  \n",
    "* [125. Print columns by index](#125)  \n",
    "* [126. Initalize array with tuples](#126)  \n",
    "* [127. Rearrange with permutation](#127)  \n"
   ]
  },
  {
   "cell_type": "code",
   "execution_count": 4,
   "metadata": {
    "execution": {
     "iopub.execute_input": "2020-10-20T03:46:59.820623Z",
     "iopub.status.busy": "2020-10-20T03:46:59.819801Z",
     "iopub.status.idle": "2020-10-20T03:46:59.822515Z",
     "shell.execute_reply": "2020-10-20T03:46:59.822025Z"
    },
    "papermill": {
     "duration": 0.129141,
     "end_time": "2020-10-20T03:46:59.822637",
     "exception": false,
     "start_time": "2020-10-20T03:46:59.693496",
     "status": "completed"
    },
    "tags": []
   },
   "outputs": [],
   "source": [
    "# for i in range(114, 128):\n",
    "#     print(f'* [{i}. ](#{i})  ')"
   ]
  },
  {
   "cell_type": "markdown",
   "metadata": {
    "papermill": {
     "duration": 0.122522,
     "end_time": "2020-10-20T03:47:00.067970",
     "exception": false,
     "start_time": "2020-10-20T03:46:59.945448",
     "status": "completed"
    },
    "tags": []
   },
   "source": [
    "<div style=\"\">\n",
    "    <div style=\"float: left; width: 80%;\">\n",
    "        <a id=\"00\"></a>\n",
    "        <font><b>Task 00:</b></font>\n",
    "        <br><br>\n",
    "        Numpy version\n",
    "    </div>\n",
    "    <div style=\"float: right;\">\n",
    "        <a href=\"#top\" class=\"btn btn-primary btn-sm\" role=\"button\" aria-pressed=\"true\" style=\"color:white\" data-toggle=\"popover\" title=\"go to Top\">Go to Top</a>\n",
    "    </div>\n",
    "    <br style=\"clear: left;\" />\n",
    "</div> "
   ]
  },
  {
   "cell_type": "code",
   "execution_count": 5,
   "metadata": {
    "execution": {
     "iopub.execute_input": "2020-10-20T03:47:00.319338Z",
     "iopub.status.busy": "2020-10-20T03:47:00.318538Z",
     "iopub.status.idle": "2020-10-20T03:47:00.322236Z",
     "shell.execute_reply": "2020-10-20T03:47:00.322747Z"
    },
    "papermill": {
     "duration": 0.132083,
     "end_time": "2020-10-20T03:47:00.322890",
     "exception": false,
     "start_time": "2020-10-20T03:47:00.190807",
     "status": "completed"
    },
    "tags": []
   },
   "outputs": [
    {
     "data": {
      "text/plain": [
       "'1.18.5'"
      ]
     },
     "execution_count": 5,
     "metadata": {},
     "output_type": "execute_result"
    }
   ],
   "source": [
    "# 0. Numpy version\n",
    "\n",
    "np.__version__"
   ]
  },
  {
   "cell_type": "markdown",
   "metadata": {
    "papermill": {
     "duration": 0.167499,
     "end_time": "2020-10-20T03:47:00.613270",
     "exception": false,
     "start_time": "2020-10-20T03:47:00.445771",
     "status": "completed"
    },
    "tags": []
   },
   "source": [
    "<div style=\"\">\n",
    "    <div style=\"float: left; width: 80%;\">\n",
    "        <a id=\"01\"></a>\n",
    "        <font><b>Task 01:</b></font>\n",
    "        <br><br>\n",
    "        Create an empty array\n",
    "    </div>\n",
    "    <div style=\"float: right;\">\n",
    "        <a href=\"#top\" class=\"btn btn-primary btn-sm\" role=\"button\" aria-pressed=\"true\" style=\"color:white\" data-toggle=\"popover\" title=\"go to Top\">Go to Top</a>\n",
    "    </div>\n",
    "    <br style=\"clear: left;\" />\n",
    "</div> "
   ]
  },
  {
   "cell_type": "code",
   "execution_count": 6,
   "metadata": {
    "_cell_guid": "79c7e3d0-c299-4dcb-8224-4455121ee9b0",
    "_uuid": "d629ff2d2480ee46fbb7e2d37f6b5fab8052498a",
    "execution": {
     "iopub.execute_input": "2020-10-20T03:47:00.865540Z",
     "iopub.status.busy": "2020-10-20T03:47:00.864712Z",
     "iopub.status.idle": "2020-10-20T03:47:00.867710Z",
     "shell.execute_reply": "2020-10-20T03:47:00.868341Z"
    },
    "papermill": {
     "duration": 0.132412,
     "end_time": "2020-10-20T03:47:00.868542",
     "exception": false,
     "start_time": "2020-10-20T03:47:00.736130",
     "status": "completed"
    },
    "tags": []
   },
   "outputs": [
    {
     "name": "stdout",
     "output_type": "stream",
     "text": [
      "[[1 1]\n",
      " [1 0]]\n",
      "(2, 2)\n",
      "4\n"
     ]
    }
   ],
   "source": [
    "# 1. Create an empty array\n",
    "\n",
    "empty_array = np.empty([2, 2], int)\n",
    "\n",
    "print(empty_array)\n",
    "\n",
    "print(empty_array.shape)\n",
    "\n",
    "print(empty_array.size)"
   ]
  },
  {
   "cell_type": "markdown",
   "metadata": {
    "papermill": {
     "duration": 0.122915,
     "end_time": "2020-10-20T03:47:01.115437",
     "exception": false,
     "start_time": "2020-10-20T03:47:00.992522",
     "status": "completed"
    },
    "tags": []
   },
   "source": [
    "<div style=\"\">\n",
    "    <div style=\"float: left; width: 80%;\">\n",
    "        <a id=\"02\"></a>\n",
    "        <font><b>Task 02:</b></font>\n",
    "        <br><br>\n",
    "        Check whether the array is empty\n",
    "    </div>\n",
    "    <div style=\"float: right;\">\n",
    "        <a href=\"#top\" class=\"btn btn-primary btn-sm\" role=\"button\" aria-pressed=\"true\" style=\"color:white\" data-toggle=\"popover\" title=\"go to Top\">Go to Top</a>\n",
    "    </div>\n",
    "    <br style=\"clear: left;\" />\n",
    "</div> "
   ]
  },
  {
   "cell_type": "code",
   "execution_count": 7,
   "metadata": {
    "execution": {
     "iopub.execute_input": "2020-10-20T03:47:01.369976Z",
     "iopub.status.busy": "2020-10-20T03:47:01.369304Z",
     "iopub.status.idle": "2020-10-20T03:47:01.372966Z",
     "shell.execute_reply": "2020-10-20T03:47:01.372172Z"
    },
    "papermill": {
     "duration": 0.133684,
     "end_time": "2020-10-20T03:47:01.373105",
     "exception": false,
     "start_time": "2020-10-20T03:47:01.239421",
     "status": "completed"
    },
    "tags": []
   },
   "outputs": [
    {
     "name": "stdout",
     "output_type": "stream",
     "text": [
      "[]  : Empty\n",
      "[1 2]  : Non Empty\n"
     ]
    }
   ],
   "source": [
    "# 2. Check whether the array is empty\n",
    "\n",
    "a = np.array([])\n",
    "b = np.array([1, 2])\n",
    "\n",
    "def check_empty(a):\n",
    "    if a.size == 0:\n",
    "        print(a, ' : Empty')\n",
    "    else:\n",
    "        print(b, ' : Non Empty')\n",
    "        \n",
    "check_empty(a)\n",
    "check_empty(b)"
   ]
  },
  {
   "cell_type": "markdown",
   "metadata": {
    "papermill": {
     "duration": 0.123344,
     "end_time": "2020-10-20T03:47:01.622026",
     "exception": false,
     "start_time": "2020-10-20T03:47:01.498682",
     "status": "completed"
    },
    "tags": []
   },
   "source": [
    "<div style=\"\">\n",
    "    <div style=\"float: left; width: 80%;\">\n",
    "        <a id=\"03\"></a>\n",
    "        <font><b>Task 03:</b></font>\n",
    "        <br><br>\n",
    "        Check elements count\n",
    "    </div>\n",
    "    <div style=\"float: right;\">\n",
    "        <a href=\"#top\" class=\"btn btn-primary btn-sm\" role=\"button\" aria-pressed=\"true\" style=\"color:white\" data-toggle=\"popover\" title=\"go to Top\">Go to Top</a>\n",
    "    </div>\n",
    "    <br style=\"clear: left;\" />\n",
    "</div> "
   ]
  },
  {
   "cell_type": "code",
   "execution_count": 8,
   "metadata": {
    "execution": {
     "iopub.execute_input": "2020-10-20T03:47:01.876112Z",
     "iopub.status.busy": "2020-10-20T03:47:01.875360Z",
     "iopub.status.idle": "2020-10-20T03:47:01.878628Z",
     "shell.execute_reply": "2020-10-20T03:47:01.879056Z"
    },
    "papermill": {
     "duration": 0.133488,
     "end_time": "2020-10-20T03:47:01.879198",
     "exception": false,
     "start_time": "2020-10-20T03:47:01.745710",
     "status": "completed"
    },
    "tags": []
   },
   "outputs": [
    {
     "name": "stdout",
     "output_type": "stream",
     "text": [
      "[] , elements_count :  0\n",
      "[1 2] , elements_count :  2\n"
     ]
    }
   ],
   "source": [
    "# 3. Check elements count\n",
    "\n",
    "c = np.array([])\n",
    "d = np.array([1, 2])\n",
    "\n",
    "def get_elements(c_array):\n",
    "    return c_array.ndim and c_array.size\n",
    "        \n",
    "print(c, ', elements_count : ', get_elements(c))\n",
    "print(d, ', elements_count : ', get_elements(d))"
   ]
  },
  {
   "cell_type": "markdown",
   "metadata": {
    "papermill": {
     "duration": 0.123919,
     "end_time": "2020-10-20T03:47:02.127682",
     "exception": false,
     "start_time": "2020-10-20T03:47:02.003763",
     "status": "completed"
    },
    "tags": []
   },
   "source": [
    "<div style=\"\">\n",
    "    <div style=\"float: left; width: 80%;\">\n",
    "        <a id=\"04\"></a>\n",
    "        <font><b>Task 04:</b></font>\n",
    "        <br><br>\n",
    "        Arrange numpy between numbers\n",
    "    </div>\n",
    "    <div style=\"float: right;\">\n",
    "        <a href=\"#top\" class=\"btn btn-primary btn-sm\" role=\"button\" aria-pressed=\"true\" style=\"color:white\" data-toggle=\"popover\" title=\"go to Top\">Go to Top</a>\n",
    "    </div>\n",
    "    <br style=\"clear: left;\" />\n",
    "</div> "
   ]
  },
  {
   "cell_type": "code",
   "execution_count": 9,
   "metadata": {
    "execution": {
     "iopub.execute_input": "2020-10-20T03:47:02.385440Z",
     "iopub.status.busy": "2020-10-20T03:47:02.384616Z",
     "iopub.status.idle": "2020-10-20T03:47:02.388137Z",
     "shell.execute_reply": "2020-10-20T03:47:02.387622Z"
    },
    "papermill": {
     "duration": 0.134365,
     "end_time": "2020-10-20T03:47:02.388245",
     "exception": false,
     "start_time": "2020-10-20T03:47:02.253880",
     "status": "completed"
    },
    "tags": []
   },
   "outputs": [
    {
     "name": "stdout",
     "output_type": "stream",
     "text": [
      "[ 4  5  6  7  8  9 10 11]\n",
      "[ 4  5  6  7  8  9 10 11] .shape :  (8,)\n"
     ]
    }
   ],
   "source": [
    "# 4. Arrange numpy between numbers\n",
    "\n",
    "a = np.arange(4, 12) #0 and n-1\n",
    "\n",
    "print(a)\n",
    "print(a, '.shape : ', a.shape)"
   ]
  },
  {
   "cell_type": "markdown",
   "metadata": {
    "papermill": {
     "duration": 0.131239,
     "end_time": "2020-10-20T03:47:02.649049",
     "exception": false,
     "start_time": "2020-10-20T03:47:02.517810",
     "status": "completed"
    },
    "tags": []
   },
   "source": [
    "<div style=\"\">\n",
    "    <div style=\"float: left; width: 80%;\">\n",
    "        <a id=\"05\"></a>\n",
    "        <font><b>Task 05:</b></font>\n",
    "        <br><br>\n",
    "        Arrange numpy between numbers with intervals\n",
    "    </div>\n",
    "    <div style=\"float: right;\">\n",
    "        <a href=\"#top\" class=\"btn btn-primary btn-sm\" role=\"button\" aria-pressed=\"true\" style=\"color:white\" data-toggle=\"popover\" title=\"go to Top\">Go to Top</a>\n",
    "    </div>\n",
    "    <br style=\"clear: left;\" />\n",
    "</div> "
   ]
  },
  {
   "cell_type": "code",
   "execution_count": 10,
   "metadata": {
    "execution": {
     "iopub.execute_input": "2020-10-20T03:47:02.912584Z",
     "iopub.status.busy": "2020-10-20T03:47:02.911802Z",
     "iopub.status.idle": "2020-10-20T03:47:02.915217Z",
     "shell.execute_reply": "2020-10-20T03:47:02.914592Z"
    },
    "papermill": {
     "duration": 0.138096,
     "end_time": "2020-10-20T03:47:02.915342",
     "exception": false,
     "start_time": "2020-10-20T03:47:02.777246",
     "status": "completed"
    },
    "tags": []
   },
   "outputs": [
    {
     "name": "stdout",
     "output_type": "stream",
     "text": [
      "[12 15 18 21 24 27]\n",
      "[12 15 18 21 24 27] .shape :  (6,)\n"
     ]
    }
   ],
   "source": [
    "# 5. Arrange numpy between numbers with intervals\n",
    "\n",
    "c = np.arange(12, 30, 3)\n",
    "\n",
    "print(c)\n",
    "print(c, '.shape : ', c.shape)"
   ]
  },
  {
   "cell_type": "markdown",
   "metadata": {
    "papermill": {
     "duration": 0.125657,
     "end_time": "2020-10-20T03:47:03.167013",
     "exception": false,
     "start_time": "2020-10-20T03:47:03.041356",
     "status": "completed"
    },
    "tags": []
   },
   "source": [
    "<div style=\"\">\n",
    "    <div style=\"float: left; width: 80%;\">\n",
    "        <a id=\"06\"></a>\n",
    "        <font><b>Task 06:</b></font>\n",
    "        <br><br>\n",
    "        Array reshape\n",
    "    </div>\n",
    "    <div style=\"float: right;\">\n",
    "        <a href=\"#top\" class=\"btn btn-primary btn-sm\" role=\"button\" aria-pressed=\"true\" style=\"color:white\" data-toggle=\"popover\" title=\"go to Top\">Go to Top</a>\n",
    "    </div>\n",
    "    <br style=\"clear: left;\" />\n",
    "</div> "
   ]
  },
  {
   "cell_type": "code",
   "execution_count": 11,
   "metadata": {
    "execution": {
     "iopub.execute_input": "2020-10-20T03:47:03.428884Z",
     "iopub.status.busy": "2020-10-20T03:47:03.428017Z",
     "iopub.status.idle": "2020-10-20T03:47:03.432086Z",
     "shell.execute_reply": "2020-10-20T03:47:03.431271Z"
    },
    "papermill": {
     "duration": 0.137394,
     "end_time": "2020-10-20T03:47:03.432218",
     "exception": false,
     "start_time": "2020-10-20T03:47:03.294824",
     "status": "completed"
    },
    "tags": []
   },
   "outputs": [
    {
     "name": "stdout",
     "output_type": "stream",
     "text": [
      "[12 15 18 21 24 27]\n",
      "[12 15 18 21 24 27] .shape :  (6,)\n",
      "\n",
      "After reshaping : \n",
      "[[12 15 18]\n",
      " [21 24 27]]\n",
      "[[12 15 18]\n",
      " [21 24 27]] .shape :  (2, 3)\n"
     ]
    }
   ],
   "source": [
    "# 6. Array reshape\n",
    "\n",
    "c = np.arange(12, 30, 3)\n",
    "d = c.reshape(2, 3) # 2 rows and 3 columns\n",
    "\n",
    "print(c)\n",
    "print(c, '.shape : ', c.shape)\n",
    "print('\\nAfter reshaping : ')\n",
    "print(d)\n",
    "print(d, '.shape : ', d.shape)"
   ]
  },
  {
   "cell_type": "markdown",
   "metadata": {
    "papermill": {
     "duration": 0.128435,
     "end_time": "2020-10-20T03:47:03.690727",
     "exception": false,
     "start_time": "2020-10-20T03:47:03.562292",
     "status": "completed"
    },
    "tags": []
   },
   "source": [
    "<div style=\"\">\n",
    "    <div style=\"float: left; width: 80%;\">\n",
    "        <a id=\"07\"></a>\n",
    "        <font><b>Task 07:</b></font>\n",
    "        <br><br>\n",
    "        Create a numpy with random integers\n",
    "    </div>\n",
    "    <div style=\"float: right;\">\n",
    "        <a href=\"#top\" class=\"btn btn-primary btn-sm\" role=\"button\" aria-pressed=\"true\" style=\"color:white\" data-toggle=\"popover\" title=\"go to Top\">Go to Top</a>\n",
    "    </div>\n",
    "    <br style=\"clear: left;\" />\n",
    "</div> "
   ]
  },
  {
   "cell_type": "code",
   "execution_count": 12,
   "metadata": {
    "execution": {
     "iopub.execute_input": "2020-10-20T03:47:03.947361Z",
     "iopub.status.busy": "2020-10-20T03:47:03.946437Z",
     "iopub.status.idle": "2020-10-20T03:47:03.950172Z",
     "shell.execute_reply": "2020-10-20T03:47:03.949569Z"
    },
    "papermill": {
     "duration": 0.134136,
     "end_time": "2020-10-20T03:47:03.950280",
     "exception": false,
     "start_time": "2020-10-20T03:47:03.816144",
     "status": "completed"
    },
    "tags": []
   },
   "outputs": [
    {
     "name": "stdout",
     "output_type": "stream",
     "text": [
      "[2 6 0 5 4]\n"
     ]
    }
   ],
   "source": [
    "# 7. Create a numpy with random integers\n",
    "\n",
    "a = np.random.randint(10, size = 5)\n",
    "\n",
    "print(a)"
   ]
  },
  {
   "cell_type": "markdown",
   "metadata": {
    "papermill": {
     "duration": 0.126246,
     "end_time": "2020-10-20T03:47:04.202147",
     "exception": false,
     "start_time": "2020-10-20T03:47:04.075901",
     "status": "completed"
    },
    "tags": []
   },
   "source": [
    "<div style=\"\">\n",
    "    <div style=\"float: left; width: 80%;\">\n",
    "        <a id=\"08\"></a>\n",
    "        <font><b>Task 08:</b></font>\n",
    "        <br><br>\n",
    "        Create a numpy with random integers and size\n",
    "    </div>\n",
    "    <div style=\"float: right;\">\n",
    "        <a href=\"#top\" class=\"btn btn-primary btn-sm\" role=\"button\" aria-pressed=\"true\" style=\"color:white\" data-toggle=\"popover\" title=\"go to Top\">Go to Top</a>\n",
    "    </div>\n",
    "    <br style=\"clear: left;\" />\n",
    "</div> "
   ]
  },
  {
   "cell_type": "code",
   "execution_count": 13,
   "metadata": {
    "execution": {
     "iopub.execute_input": "2020-10-20T03:47:04.462050Z",
     "iopub.status.busy": "2020-10-20T03:47:04.461125Z",
     "iopub.status.idle": "2020-10-20T03:47:04.465075Z",
     "shell.execute_reply": "2020-10-20T03:47:04.464436Z"
    },
    "papermill": {
     "duration": 0.13748,
     "end_time": "2020-10-20T03:47:04.465183",
     "exception": false,
     "start_time": "2020-10-20T03:47:04.327703",
     "status": "completed"
    },
    "tags": []
   },
   "outputs": [
    {
     "name": "stdout",
     "output_type": "stream",
     "text": [
      "[[0 5 0]\n",
      " [2 7 7]]\n",
      "[[0 5 0]\n",
      " [2 7 7]] .shape :  (2, 3)\n",
      "datatype :  int64\n"
     ]
    }
   ],
   "source": [
    "# 8. Create a numpy with random integers and size\n",
    "\n",
    "a = np.random.randint(10, size = (2, 3))\n",
    "\n",
    "print(a)\n",
    "print(a, '.shape : ', a.shape)\n",
    "print('datatype : ', a.dtype)"
   ]
  },
  {
   "cell_type": "markdown",
   "metadata": {
    "papermill": {
     "duration": 0.136362,
     "end_time": "2020-10-20T03:47:04.740704",
     "exception": false,
     "start_time": "2020-10-20T03:47:04.604342",
     "status": "completed"
    },
    "tags": []
   },
   "source": [
    "<div style=\"\">\n",
    "    <div style=\"float: left; width: 80%;\">\n",
    "        <a id=\"09\"></a>\n",
    "        <font><b>Task 09:</b></font>\n",
    "        <br><br>\n",
    "        Array of strings\n",
    "    </div>\n",
    "    <div style=\"float: right;\">\n",
    "        <a href=\"#top\" class=\"btn btn-primary btn-sm\" role=\"button\" aria-pressed=\"true\" style=\"color:white\" data-toggle=\"popover\" title=\"go to Top\">Go to Top</a>\n",
    "    </div>\n",
    "    <br style=\"clear: left;\" />\n",
    "</div> "
   ]
  },
  {
   "cell_type": "code",
   "execution_count": 14,
   "metadata": {
    "execution": {
     "iopub.execute_input": "2020-10-20T03:47:04.998325Z",
     "iopub.status.busy": "2020-10-20T03:47:04.997519Z",
     "iopub.status.idle": "2020-10-20T03:47:05.000555Z",
     "shell.execute_reply": "2020-10-20T03:47:05.001129Z"
    },
    "papermill": {
     "duration": 0.13488,
     "end_time": "2020-10-20T03:47:05.001276",
     "exception": false,
     "start_time": "2020-10-20T03:47:04.866396",
     "status": "completed"
    },
    "tags": []
   },
   "outputs": [
    {
     "name": "stdout",
     "output_type": "stream",
     "text": [
      "['Toronto' 'Montreal' 'New York']\n",
      "<U8\n"
     ]
    }
   ],
   "source": [
    "# 9. Array of strings\n",
    "\n",
    "a = np.array(('Toronto','Montreal','New York'))\n",
    "print(a)\n",
    "print(a.dtype)"
   ]
  },
  {
   "cell_type": "markdown",
   "metadata": {
    "papermill": {
     "duration": 0.1386,
     "end_time": "2020-10-20T03:47:05.267599",
     "exception": false,
     "start_time": "2020-10-20T03:47:05.128999",
     "status": "completed"
    },
    "tags": []
   },
   "source": [
    "<div style=\"\">\n",
    "    <div style=\"float: left; width: 80%;\">\n",
    "        <a id=\"10\"></a>\n",
    "        <font><b>Task 10:</b></font>\n",
    "        <br><br>\n",
    "        Numpy array with strings and explicit dtype\n",
    "    </div>\n",
    "    <div style=\"float: right;\">\n",
    "        <a href=\"#top\" class=\"btn btn-primary btn-sm\" role=\"button\" aria-pressed=\"true\" style=\"color:white\" data-toggle=\"popover\" title=\"go to Top\">Go to Top</a>\n",
    "    </div>\n",
    "    <br style=\"clear: left;\" />\n",
    "</div> "
   ]
  },
  {
   "cell_type": "code",
   "execution_count": 15,
   "metadata": {
    "execution": {
     "iopub.execute_input": "2020-10-20T03:47:05.530344Z",
     "iopub.status.busy": "2020-10-20T03:47:05.529573Z",
     "iopub.status.idle": "2020-10-20T03:47:05.532452Z",
     "shell.execute_reply": "2020-10-20T03:47:05.532957Z"
    },
    "papermill": {
     "duration": 0.137752,
     "end_time": "2020-10-20T03:47:05.533092",
     "exception": false,
     "start_time": "2020-10-20T03:47:05.395340",
     "status": "completed"
    },
    "tags": []
   },
   "outputs": [
    {
     "name": "stdout",
     "output_type": "stream",
     "text": [
      "['Toronto' 'Montreal']\n",
      "<U8\n"
     ]
    }
   ],
   "source": [
    "# 10. Numpy array with strings and explicit dtype\n",
    "\n",
    "x = np.array(['Toronto', 'Montreal'], dtype=str)\n",
    "\n",
    "print(x)\n",
    "print(x.dtype)"
   ]
  },
  {
   "cell_type": "markdown",
   "metadata": {
    "papermill": {
     "duration": 0.126335,
     "end_time": "2020-10-20T03:47:05.785969",
     "exception": false,
     "start_time": "2020-10-20T03:47:05.659634",
     "status": "completed"
    },
    "tags": []
   },
   "source": [
    "<div style=\"\">\n",
    "    <div style=\"float: left; width: 80%;\">\n",
    "        <a id=\"11\"></a>\n",
    "        <font><b>Task 11:</b></font>\n",
    "        <br><br>\n",
    "        Numpy array with strings and explicit dtype\n",
    "    </div>\n",
    "    <div style=\"float: right;\">\n",
    "        <a href=\"#top\" class=\"btn btn-primary btn-sm\" role=\"button\" aria-pressed=\"true\" style=\"color:white\" data-toggle=\"popover\" title=\"go to Top\">Go to Top</a>\n",
    "    </div>\n",
    "    <br style=\"clear: left;\" />\n",
    "</div> "
   ]
  },
  {
   "cell_type": "code",
   "execution_count": 16,
   "metadata": {
    "execution": {
     "iopub.execute_input": "2020-10-20T03:47:06.045629Z",
     "iopub.status.busy": "2020-10-20T03:47:06.044869Z",
     "iopub.status.idle": "2020-10-20T03:47:06.048531Z",
     "shell.execute_reply": "2020-10-20T03:47:06.047831Z"
    },
    "papermill": {
     "duration": 0.136036,
     "end_time": "2020-10-20T03:47:06.048676",
     "exception": false,
     "start_time": "2020-10-20T03:47:05.912640",
     "status": "completed"
    },
    "tags": []
   },
   "outputs": [
    {
     "name": "stdout",
     "output_type": "stream",
     "text": [
      "[[b'T' b'' b'' b'' b'o' b'' b'' b'']]\n"
     ]
    }
   ],
   "source": [
    "# 11. Numpy array with strings and explicit dtype\n",
    "\n",
    "x = np.array(['To'], dtype=str)\n",
    "y = x.view('S1').reshape(x.size, -1)\n",
    "\n",
    "print(y)"
   ]
  },
  {
   "cell_type": "markdown",
   "metadata": {
    "papermill": {
     "duration": 0.127123,
     "end_time": "2020-10-20T03:47:06.303361",
     "exception": false,
     "start_time": "2020-10-20T03:47:06.176238",
     "status": "completed"
    },
    "tags": []
   },
   "source": [
    "<div style=\"\">\n",
    "    <div style=\"float: left; width: 80%;\">\n",
    "        <a id=\"12\"></a>\n",
    "        <font><b>Task 12:</b></font>\n",
    "        <br><br>\n",
    "        Print without truncation\n",
    "    </div>\n",
    "    <div style=\"float: right;\">\n",
    "        <a href=\"#top\" class=\"btn btn-primary btn-sm\" role=\"button\" aria-pressed=\"true\" style=\"color:white\" data-toggle=\"popover\" title=\"go to Top\">Go to Top</a>\n",
    "    </div>\n",
    "    <br style=\"clear: left;\" />\n",
    "</div>"
   ]
  },
  {
   "cell_type": "code",
   "execution_count": 17,
   "metadata": {
    "execution": {
     "iopub.execute_input": "2020-10-20T03:47:06.565486Z",
     "iopub.status.busy": "2020-10-20T03:47:06.564639Z",
     "iopub.status.idle": "2020-10-20T03:47:06.568340Z",
     "shell.execute_reply": "2020-10-20T03:47:06.567570Z"
    },
    "papermill": {
     "duration": 0.136966,
     "end_time": "2020-10-20T03:47:06.568508",
     "exception": false,
     "start_time": "2020-10-20T03:47:06.431542",
     "status": "completed"
    },
    "tags": []
   },
   "outputs": [
    {
     "name": "stdout",
     "output_type": "stream",
     "text": [
      "Before setting print options : \n",
      "[   0    1    2 ... 9997 9998 9999]\n"
     ]
    }
   ],
   "source": [
    "# 12. Print without truncation\n",
    "\n",
    "x = np.arange(10000)\n",
    "\n",
    "print('Before setting print options : ')\n",
    "print(x) # this will print with the truncation\n",
    "\n",
    "# set\n",
    "import sys\n",
    "# np.set_printoptions(threshold = sys.maxsize)\n",
    "\n",
    "# print('\\nAfter setting print options : ')\n",
    "# print(a) # this will print everything without truncation"
   ]
  },
  {
   "cell_type": "markdown",
   "metadata": {
    "papermill": {
     "duration": 0.127808,
     "end_time": "2020-10-20T03:47:06.825587",
     "exception": false,
     "start_time": "2020-10-20T03:47:06.697779",
     "status": "completed"
    },
    "tags": []
   },
   "source": [
    "<div style=\"\">\n",
    "    <div style=\"float: left; width: 80%;\">\n",
    "        <a id=\"13\"></a>\n",
    "        <font><b>Task 13:</b></font>\n",
    "        <br><br>\n",
    "        Save Numpy to CSV\n",
    "    </div>\n",
    "    <div style=\"float: right;\">\n",
    "        <a href=\"#top\" class=\"btn btn-primary btn-sm\" role=\"button\" aria-pressed=\"true\" style=\"color:white\" data-toggle=\"popover\" title=\"go to Top\">Go to Top</a>\n",
    "    </div>\n",
    "    <br style=\"clear: left;\" />\n",
    "</div>"
   ]
  },
  {
   "cell_type": "code",
   "execution_count": 18,
   "metadata": {
    "execution": {
     "iopub.execute_input": "2020-10-20T03:47:07.086517Z",
     "iopub.status.busy": "2020-10-20T03:47:07.085772Z",
     "iopub.status.idle": "2020-10-20T03:47:07.088836Z",
     "shell.execute_reply": "2020-10-20T03:47:07.089283Z"
    },
    "papermill": {
     "duration": 0.136577,
     "end_time": "2020-10-20T03:47:07.089428",
     "exception": false,
     "start_time": "2020-10-20T03:47:06.952851",
     "status": "completed"
    },
    "tags": []
   },
   "outputs": [
    {
     "name": "stdout",
     "output_type": "stream",
     "text": [
      "[[1 2 3]\n",
      " [4 5 6]]\n"
     ]
    }
   ],
   "source": [
    "# 13. Save Numpy to CSV\n",
    "#df.to_csv('abc.csv')\n",
    "a = np.asarray([ [1,2,3], [4,5,6]])\n",
    "print(a)\n",
    "# numpy.savetxt(\"abc.csv\", a, delimiter=\",\") # this will save the numpy to csv file"
   ]
  },
  {
   "cell_type": "markdown",
   "metadata": {
    "papermill": {
     "duration": 0.130382,
     "end_time": "2020-10-20T03:47:07.348731",
     "exception": false,
     "start_time": "2020-10-20T03:47:07.218349",
     "status": "completed"
    },
    "tags": []
   },
   "source": [
    "<div style=\"\">\n",
    "    <div style=\"float: left; width: 80%;\">\n",
    "        <a id=\"14\"></a>\n",
    "        <font><b>Task 14:</b></font>\n",
    "        <br><br>\n",
    "        Dataframe to Numpy\n",
    "    </div>\n",
    "    <div style=\"float: right;\">\n",
    "        <a href=\"#top\" class=\"btn btn-primary btn-sm\" role=\"button\" aria-pressed=\"true\" style=\"color:white\" data-toggle=\"popover\" title=\"go to Top\">Go to Top</a>\n",
    "    </div>\n",
    "    <br style=\"clear: left;\" />\n",
    "</div>"
   ]
  },
  {
   "cell_type": "code",
   "execution_count": 19,
   "metadata": {
    "execution": {
     "iopub.execute_input": "2020-10-20T03:47:07.622832Z",
     "iopub.status.busy": "2020-10-20T03:47:07.621496Z",
     "iopub.status.idle": "2020-10-20T03:47:07.626622Z",
     "shell.execute_reply": "2020-10-20T03:47:07.625980Z"
    },
    "papermill": {
     "duration": 0.148312,
     "end_time": "2020-10-20T03:47:07.626732",
     "exception": false,
     "start_time": "2020-10-20T03:47:07.478420",
     "status": "completed"
    },
    "tags": []
   },
   "outputs": [
    {
     "name": "stdout",
     "output_type": "stream",
     "text": [
      "Dataframe:\n",
      "   a1  a2\n",
      "X   1   4\n",
      "Y   2   5\n",
      "Z   3   6\n",
      "\n",
      "Dataframe to Numpy:\n",
      "[[1 4]\n",
      " [2 5]\n",
      " [3 6]]\n",
      "\n",
      "Dataframe Indices to Numpy:\n",
      "['X' 'Y' 'Z']\n",
      "\n",
      "Dataframe Series to Numpy:\n",
      "[1 2 3]\n"
     ]
    }
   ],
   "source": [
    "# 14. Dataframe to Numpy\n",
    "\n",
    "df = pd.DataFrame({'a1': [1, 2, 3], \n",
    "                   'a2': [4, 5, 6]}, \n",
    "                  index = ['X', 'Y', 'Z'])\n",
    "\n",
    "print('Dataframe:')\n",
    "print(df)\n",
    "\n",
    "x = df.to_numpy() # dataframe is converted into an array or  matrix\n",
    "\n",
    "print('\\nDataframe to Numpy:')\n",
    "print(x)\n",
    "\n",
    "y = df.index.to_numpy()\n",
    "print('\\nDataframe Indices to Numpy:')\n",
    "print(y)\n",
    "\n",
    "z = df['a1'].to_numpy()\n",
    "print('\\nDataframe Series to Numpy:')\n",
    "print(z)"
   ]
  },
  {
   "cell_type": "markdown",
   "metadata": {
    "papermill": {
     "duration": 0.130562,
     "end_time": "2020-10-20T03:47:07.887279",
     "exception": false,
     "start_time": "2020-10-20T03:47:07.756717",
     "status": "completed"
    },
    "tags": []
   },
   "source": [
    "<div style=\"\">\n",
    "    <div style=\"float: left; width: 80%;\">\n",
    "        <a id=\"15\"></a>\n",
    "        <font><b>Task 15:</b></font>\n",
    "        <br><br>\n",
    "        Get the nth column of an array\n",
    "    </div>\n",
    "    <div style=\"float: right;\">\n",
    "        <a href=\"#top\" class=\"btn btn-primary btn-sm\" role=\"button\" aria-pressed=\"true\" style=\"color:white\" data-toggle=\"popover\" title=\"go to Top\">Go to Top</a>\n",
    "    </div>\n",
    "    <br style=\"clear: left;\" />\n",
    "</div>"
   ]
  },
  {
   "cell_type": "code",
   "execution_count": 20,
   "metadata": {
    "execution": {
     "iopub.execute_input": "2020-10-20T03:47:08.189806Z",
     "iopub.status.busy": "2020-10-20T03:47:08.189126Z",
     "iopub.status.idle": "2020-10-20T03:47:08.192649Z",
     "shell.execute_reply": "2020-10-20T03:47:08.191876Z"
    },
    "papermill": {
     "duration": 0.139329,
     "end_time": "2020-10-20T03:47:08.192773",
     "exception": false,
     "start_time": "2020-10-20T03:47:08.053444",
     "status": "completed"
    },
    "tags": []
   },
   "outputs": [
    {
     "name": "stdout",
     "output_type": "stream",
     "text": [
      "Numpy array:\n",
      "[[1 2]\n",
      " [3 4]\n",
      " [5 6]]\n",
      "\n",
      "x[:,0]:\n",
      "[1 3 5]\n",
      "\n",
      "x[:, 1]:\n",
      "[2 4 6]\n",
      "\n",
      "x[1,:]:\n",
      "[3 4]\n"
     ]
    }
   ],
   "source": [
    "# 15. Get the nth column of an array\n",
    "\n",
    "x = np.array([[1, 2], \n",
    "              [3, 4], \n",
    "              [5, 6]])\n",
    "\n",
    "print('Numpy array:')\n",
    "print(x)\n",
    "\n",
    "y = x[:,0] #: means select all the rows\n",
    "print('\\nx[:,0]:')\n",
    "print(y)\n",
    "\n",
    "z = x[:, 1]\n",
    "print('\\nx[:, 1]:')\n",
    "print(z)\n",
    "\n",
    "a = x[1,:]\n",
    "print('\\nx[1,:]:')\n",
    "print(a)"
   ]
  },
  {
   "cell_type": "markdown",
   "metadata": {
    "papermill": {
     "duration": 0.136398,
     "end_time": "2020-10-20T03:47:08.458084",
     "exception": false,
     "start_time": "2020-10-20T03:47:08.321686",
     "status": "completed"
    },
    "tags": []
   },
   "source": [
    "<div style=\"\">\n",
    "    <div style=\"float: left; width: 80%;\">\n",
    "        <a id=\"16\"></a>\n",
    "        <font><b>Task 16:</b></font>\n",
    "        <br><br>\n",
    "        Reshape with -1 (lazy option)\n",
    "    </div>\n",
    "    <div style=\"float: right;\">\n",
    "        <a href=\"#top\" class=\"btn btn-primary btn-sm\" role=\"button\" aria-pressed=\"true\" style=\"color:white\" data-toggle=\"popover\" title=\"go to Top\">Go to Top</a>\n",
    "    </div>\n",
    "    <br style=\"clear: left;\" />\n",
    "</div>"
   ]
  },
  {
   "cell_type": "code",
   "execution_count": 21,
   "metadata": {
    "execution": {
     "iopub.execute_input": "2020-10-20T03:47:08.728079Z",
     "iopub.status.busy": "2020-10-20T03:47:08.725345Z",
     "iopub.status.idle": "2020-10-20T03:47:08.733892Z",
     "shell.execute_reply": "2020-10-20T03:47:08.733120Z"
    },
    "papermill": {
     "duration": 0.146143,
     "end_time": "2020-10-20T03:47:08.734037",
     "exception": false,
     "start_time": "2020-10-20T03:47:08.587894",
     "status": "completed"
    },
    "tags": []
   },
   "outputs": [
    {
     "name": "stdout",
     "output_type": "stream",
     "text": [
      "Original Numpy Array:\n",
      "[[ 1  2  3  4]\n",
      " [ 5  6  7  8]\n",
      " [10 11 12 21]]\n",
      "original shape:  (3, 4)\n",
      "\n",
      "np.reshape(a, -1):\n",
      "[[ 1  2  3  4  5  6  7  8 10 11 12 21]]\n",
      "new shape:  (1, 12)\n",
      "\n",
      "np.reshape(a, (1, -1)):\n",
      "[[ 1  2  3  4  5  6  7  8 10 11 12 21]]\n",
      "new shape:  (1, 12)\n",
      "\n",
      "np.reshape(a, (2, -1)):\n",
      "[[ 1  2  3  4  5  6]\n",
      " [ 7  8 10 11 12 21]]\n",
      "new shape:  (2, 6)\n",
      "\n",
      "np.reshape(a, (3, -1)):\n",
      "[[ 1  2  3  4]\n",
      " [ 5  6  7  8]\n",
      " [10 11 12 21]]\n",
      "new shape:  (3, 4)\n",
      "\n",
      "np.reshape(a, (4, -1)):\n",
      "[[ 1  2  3]\n",
      " [ 4  5  6]\n",
      " [ 7  8 10]\n",
      " [11 12 21]]\n",
      "new shape:  (4, 3)\n"
     ]
    }
   ],
   "source": [
    "# 16. Reshape with -1 (lazy option)\n",
    "\n",
    "a = np.matrix([[1, 2, 3, 4], [5, 6, 7, 8], [10, 11, 12, 21]])\n",
    "print('Original Numpy Array:')\n",
    "print(a)\n",
    "print('original shape: ', a.shape)\n",
    "\n",
    "c = np.reshape(a, -1)\n",
    "print('\\nnp.reshape(a, -1):')\n",
    "print(c)\n",
    "print('new shape: ', c.shape)\n",
    "\n",
    "d = np.reshape(a, (1, -1))\n",
    "print('\\nnp.reshape(a, (1, -1)):')\n",
    "print(d)\n",
    "print('new shape: ', d.shape)\n",
    "\n",
    "e = np.reshape(a, (2, -1))\n",
    "print('\\nnp.reshape(a, (2, -1)):')\n",
    "print(e)\n",
    "print('new shape: ', e.shape)\n",
    "\n",
    "f = np.reshape(a, (3, -1))\n",
    "print('\\nnp.reshape(a, (3, -1)):')\n",
    "print(f)\n",
    "print('new shape: ', f.shape)\n",
    "\n",
    "g = np.reshape(a, (4, -1))\n",
    "print('\\nnp.reshape(a, (4, -1)):')\n",
    "print(g)\n",
    "print('new shape: ', g.shape)"
   ]
  },
  {
   "cell_type": "markdown",
   "metadata": {
    "papermill": {
     "duration": 0.129755,
     "end_time": "2020-10-20T03:47:08.994911",
     "exception": false,
     "start_time": "2020-10-20T03:47:08.865156",
     "status": "completed"
    },
    "tags": []
   },
   "source": [
    "<div style=\"\">\n",
    "    <div style=\"float: left; width: 80%;\">\n",
    "        <a id=\"17\"></a>\n",
    "        <font><b>Task 17:</b></font>\n",
    "        <br><br>\n",
    "        Numpy with precision\n",
    "    </div>\n",
    "    <div style=\"float: right;\">\n",
    "        <a href=\"#top\" class=\"btn btn-primary btn-sm\" role=\"button\" aria-pressed=\"true\" style=\"color:white\" data-toggle=\"popover\" title=\"go to Top\">Go to Top</a>\n",
    "    </div>\n",
    "    <br style=\"clear: left;\" />\n",
    "</div>"
   ]
  },
  {
   "cell_type": "code",
   "execution_count": 22,
   "metadata": {
    "execution": {
     "iopub.execute_input": "2020-10-20T03:47:09.262317Z",
     "iopub.status.busy": "2020-10-20T03:47:09.261415Z",
     "iopub.status.idle": "2020-10-20T03:47:09.264432Z",
     "shell.execute_reply": "2020-10-20T03:47:09.264959Z"
    },
    "papermill": {
     "duration": 0.140926,
     "end_time": "2020-10-20T03:47:09.265095",
     "exception": false,
     "start_time": "2020-10-20T03:47:09.124169",
     "status": "completed"
    },
    "tags": []
   },
   "outputs": [
    {
     "name": "stdout",
     "output_type": "stream",
     "text": [
      "Original Array:\n",
      "[0.78228924 0.17329022 0.86935989 0.38473771 0.432908   0.35423355\n",
      " 0.54249355 0.46442135 0.70441211 0.88354572]\n",
      "\n",
      "After setting presicion:\n",
      "[0.78 0.17 0.87 0.38 0.43 0.35 0.54 0.46 0.7  0.88]\n"
     ]
    }
   ],
   "source": [
    "# 17. Numpy with precision\n",
    "\n",
    "x = np.random.random(10)\n",
    "\n",
    "print('Original Array:')\n",
    "print(x)\n",
    "\n",
    "print('\\nAfter setting presicion:')\n",
    "np.set_printoptions(precision = 2)\n",
    "print(x)\n",
    "\n",
    "# resetting precision to default (8)\n",
    "np.set_printoptions(precision = 8)"
   ]
  },
  {
   "cell_type": "markdown",
   "metadata": {
    "papermill": {
     "duration": 0.130693,
     "end_time": "2020-10-20T03:47:09.527763",
     "exception": false,
     "start_time": "2020-10-20T03:47:09.397070",
     "status": "completed"
    },
    "tags": []
   },
   "source": [
    "<div style=\"\">\n",
    "    <div style=\"float: left; width: 80%;\">\n",
    "        <a id=\"18\"></a>\n",
    "        <font><b>Task 18:</b></font>\n",
    "        <br><br>\n",
    "        Argsort on Numpy array\n",
    "    </div>\n",
    "    <div style=\"float: right;\">\n",
    "        <a href=\"#top\" class=\"btn btn-primary btn-sm\" role=\"button\" aria-pressed=\"true\" style=\"color:white\" data-toggle=\"popover\" title=\"go to Top\">Go to Top</a>\n",
    "    </div>\n",
    "    <br style=\"clear: left;\" />\n",
    "</div> "
   ]
  },
  {
   "cell_type": "code",
   "execution_count": 23,
   "metadata": {
    "execution": {
     "iopub.execute_input": "2020-10-20T03:47:09.796911Z",
     "iopub.status.busy": "2020-10-20T03:47:09.796117Z",
     "iopub.status.idle": "2020-10-20T03:47:09.799035Z",
     "shell.execute_reply": "2020-10-20T03:47:09.799540Z"
    },
    "papermill": {
     "duration": 0.14109,
     "end_time": "2020-10-20T03:47:09.799682",
     "exception": false,
     "start_time": "2020-10-20T03:47:09.658592",
     "status": "completed"
    },
    "tags": []
   },
   "outputs": [
    {
     "name": "stdout",
     "output_type": "stream",
     "text": [
      "Before : \n",
      "[[9 4 6]\n",
      " [7 6 7]\n",
      " [3 2 2]]\n",
      "\n",
      "After : \n",
      "[[3 2 2]\n",
      " [9 4 6]\n",
      " [7 6 7]]\n"
     ]
    }
   ],
   "source": [
    "# 18. Argsort on Numpy array\n",
    "\n",
    "a = np.random.randint(0, 10, (3,3))\n",
    "print('Before : ')\n",
    "print(a)\n",
    "\n",
    "print('\\nAfter : ')\n",
    "b = a[a[: ,2].argsort()]\n",
    "print(b)"
   ]
  },
  {
   "cell_type": "markdown",
   "metadata": {
    "papermill": {
     "duration": 0.131594,
     "end_time": "2020-10-20T03:47:10.064614",
     "exception": false,
     "start_time": "2020-10-20T03:47:09.933020",
     "status": "completed"
    },
    "tags": []
   },
   "source": [
    "<div style=\"\">\n",
    "    <div style=\"float: left; width: 80%;\">\n",
    "        <a id=\"19\"></a>\n",
    "        <font><b>Task 19:</b></font>\n",
    "        <br><br>\n",
    "        Numpy view\n",
    "    </div>\n",
    "    <div style=\"float: right;\">\n",
    "        <a href=\"#top\" class=\"btn btn-primary btn-sm\" role=\"button\" aria-pressed=\"true\" style=\"color:white\" data-toggle=\"popover\" title=\"go to Top\">Go to Top</a>\n",
    "    </div>\n",
    "    <br style=\"clear: left;\" />\n",
    "</div> "
   ]
  },
  {
   "cell_type": "code",
   "execution_count": 24,
   "metadata": {
    "execution": {
     "iopub.execute_input": "2020-10-20T03:47:10.337536Z",
     "iopub.status.busy": "2020-10-20T03:47:10.336669Z",
     "iopub.status.idle": "2020-10-20T03:47:10.339787Z",
     "shell.execute_reply": "2020-10-20T03:47:10.340277Z"
    },
    "papermill": {
     "duration": 0.144804,
     "end_time": "2020-10-20T03:47:10.340416",
     "exception": false,
     "start_time": "2020-10-20T03:47:10.195612",
     "status": "completed"
    },
    "tags": []
   },
   "outputs": [
    {
     "name": "stdout",
     "output_type": "stream",
     "text": [
      "[(1, 2)]\n",
      "[('a', 'i1'), ('b', 'i1')]\n",
      "[[513]]\n",
      "int16\n"
     ]
    }
   ],
   "source": [
    "# 19. Numpy view\n",
    "\n",
    "x = np.array([(1, 2)], dtype=[('a', np.int8), ('b', np.int8)])\n",
    "print(x)\n",
    "print(x.dtype)\n",
    "\n",
    "y = x.view(dtype=np.int16, type=np.matrix)\n",
    "print(y)\n",
    "print(y.dtype)"
   ]
  },
  {
   "cell_type": "markdown",
   "metadata": {
    "papermill": {
     "duration": 0.131509,
     "end_time": "2020-10-20T03:47:10.603196",
     "exception": false,
     "start_time": "2020-10-20T03:47:10.471687",
     "status": "completed"
    },
    "tags": []
   },
   "source": [
    "<div style=\"\">\n",
    "    <div style=\"float: left; width: 80%;\">\n",
    "        <a id=\"20\"></a>\n",
    "        <font><b>Task 20:</b></font>\n",
    "        <br><br>\n",
    "        Using Flipud\n",
    "    </div>\n",
    "    <div style=\"float: right;\">\n",
    "        <a href=\"#top\" class=\"btn btn-primary btn-sm\" role=\"button\" aria-pressed=\"true\" style=\"color:white\" data-toggle=\"popover\" title=\"go to Top\">Go to Top</a>\n",
    "    </div>\n",
    "    <br style=\"clear: left;\" />\n",
    "</div> "
   ]
  },
  {
   "cell_type": "code",
   "execution_count": 25,
   "metadata": {
    "execution": {
     "iopub.execute_input": "2020-10-20T03:47:10.874543Z",
     "iopub.status.busy": "2020-10-20T03:47:10.873892Z",
     "iopub.status.idle": "2020-10-20T03:47:11.431003Z",
     "shell.execute_reply": "2020-10-20T03:47:11.430457Z"
    },
    "papermill": {
     "duration": 0.694989,
     "end_time": "2020-10-20T03:47:11.431111",
     "exception": false,
     "start_time": "2020-10-20T03:47:10.736122",
     "status": "completed"
    },
    "tags": []
   },
   "outputs": [
    {
     "data": {
      "image/png": "[encoded data removed]",
      "text/plain": [
       "<Figure size 432x288 with 1 Axes>"
      ]
     },
     "metadata": {
      "needs_background": "light"
     },
     "output_type": "display_data"
    }
   ],
   "source": [
    "# 20. Using Flipud\n",
    "\n",
    "import numpy as np \n",
    "import matplotlib.pyplot as plt\n",
    "import matplotlib.image as mp_img\n",
    "\n",
    "image_a = mp_img.imread('/kaggle/input/numpy-cheatsheet/cn_tower.jpg')\n",
    "\n",
    "image_b = np.flipud(image_a)\n",
    "plt.imshow(image_b)\n",
    "\n",
    "# plt.savefig(\"/kaggle/input/numpy-cheatsheet/cn_tower_ver.jpg\", dpi=200)\n",
    "plt.show()"
   ]
  },
  {
   "cell_type": "markdown",
   "metadata": {
    "papermill": {
     "duration": 0.132715,
     "end_time": "2020-10-20T03:47:11.701517",
     "exception": false,
     "start_time": "2020-10-20T03:47:11.568802",
     "status": "completed"
    },
    "tags": []
   },
   "source": [
    "<div style=\"\">\n",
    "    <div style=\"float: left; width: 80%;\">\n",
    "        <a id=\"21\"></a>\n",
    "        <font><b>Task 21:</b></font>\n",
    "        <br><br>\n",
    "        Numpy inverse\n",
    "    </div>\n",
    "    <div style=\"float: right;\">\n",
    "        <a href=\"#top\" class=\"btn btn-primary btn-sm\" role=\"button\" aria-pressed=\"true\" style=\"color:white\" data-toggle=\"popover\" title=\"go to Top\">Go to Top</a>\n",
    "    </div>\n",
    "    <br style=\"clear: left;\" />\n",
    "</div> "
   ]
  },
  {
   "cell_type": "code",
   "execution_count": 26,
   "metadata": {
    "execution": {
     "iopub.execute_input": "2020-10-20T03:47:11.987642Z",
     "iopub.status.busy": "2020-10-20T03:47:11.986639Z",
     "iopub.status.idle": "2020-10-20T03:47:11.991843Z",
     "shell.execute_reply": "2020-10-20T03:47:11.991170Z"
    },
    "papermill": {
     "duration": 0.157988,
     "end_time": "2020-10-20T03:47:11.991968",
     "exception": false,
     "start_time": "2020-10-20T03:47:11.833980",
     "status": "completed"
    },
    "tags": []
   },
   "outputs": [
    {
     "name": "stdout",
     "output_type": "stream",
     "text": [
      "Before Inverse : \n",
      "[[2 3]\n",
      " [4 5]]\n",
      "After Inverse : \n",
      "[[-2.5  1.5]\n",
      " [ 2.  -1. ]]\n"
     ]
    }
   ],
   "source": [
    "# 21. Numpy inverse\n",
    "\n",
    "b = np.array([[2,3],[4,5]])\n",
    "print('Before Inverse : ')\n",
    "print(b)\n",
    "\n",
    "c = np.linalg.inv(b)\n",
    "print('After Inverse : ')\n",
    "print(c)"
   ]
  },
  {
   "cell_type": "markdown",
   "metadata": {
    "papermill": {
     "duration": 0.14149,
     "end_time": "2020-10-20T03:47:12.266525",
     "exception": false,
     "start_time": "2020-10-20T03:47:12.125035",
     "status": "completed"
    },
    "tags": []
   },
   "source": [
    "<div style=\"\">\n",
    "    <div style=\"float: left; width: 80%;\">\n",
    "        <a id=\"22\"></a>\n",
    "        <font><b>Task 22:</b></font>\n",
    "        <br><br>\n",
    "        Numpy Inverse\n",
    "    </div>\n",
    "    <div style=\"float: right;\">\n",
    "        <a href=\"#top\" class=\"btn btn-primary btn-sm\" role=\"button\" aria-pressed=\"true\" style=\"color:white\" data-toggle=\"popover\" title=\"go to Top\">Go to Top</a>\n",
    "    </div>\n",
    "    <br style=\"clear: left;\" />\n",
    "</div> "
   ]
  },
  {
   "cell_type": "code",
   "execution_count": 27,
   "metadata": {
    "execution": {
     "iopub.execute_input": "2020-10-20T03:47:12.553841Z",
     "iopub.status.busy": "2020-10-20T03:47:12.552915Z",
     "iopub.status.idle": "2020-10-20T03:47:12.557190Z",
     "shell.execute_reply": "2020-10-20T03:47:12.557710Z"
    },
    "papermill": {
     "duration": 0.154045,
     "end_time": "2020-10-20T03:47:12.557857",
     "exception": false,
     "start_time": "2020-10-20T03:47:12.403812",
     "status": "completed"
    },
    "tags": []
   },
   "outputs": [
    {
     "name": "stdout",
     "output_type": "stream",
     "text": [
      "Before Inverse : \n",
      "[[10 20]\n",
      " [60 70]]\n",
      "After Inverse : \n",
      "[[-0.14  0.04]\n",
      " [ 0.12 -0.02]]\n"
     ]
    }
   ],
   "source": [
    "# 22. Numpy Inverse\n",
    "\n",
    "x = np.matrix([[10, 20], [60, 70]])\n",
    "print('Before Inverse : ')\n",
    "print(x)\n",
    "\n",
    "print('After Inverse : ')\n",
    "print(x.I)"
   ]
  },
  {
   "cell_type": "markdown",
   "metadata": {
    "papermill": {
     "duration": 0.135054,
     "end_time": "2020-10-20T03:47:12.827905",
     "exception": false,
     "start_time": "2020-10-20T03:47:12.692851",
     "status": "completed"
    },
    "tags": []
   },
   "source": [
    "<div style=\"\">\n",
    "    <div style=\"float: left; width: 80%;\">\n",
    "        <a id=\"23\"></a>\n",
    "        <font><b>Task 23:</b></font>\n",
    "        <br><br>\n",
    "        Numpy compare\n",
    "    </div>\n",
    "    <div style=\"float: right;\">\n",
    "        <a href=\"#top\" class=\"btn btn-primary btn-sm\" role=\"button\" aria-pressed=\"true\" style=\"color:white\" data-toggle=\"popover\" title=\"go to Top\">Go to Top</a>\n",
    "    </div>\n",
    "    <br style=\"clear: left;\" />\n",
    "</div> "
   ]
  },
  {
   "cell_type": "code",
   "execution_count": 28,
   "metadata": {
    "execution": {
     "iopub.execute_input": "2020-10-20T03:47:13.101898Z",
     "iopub.status.busy": "2020-10-20T03:47:13.101057Z",
     "iopub.status.idle": "2020-10-20T03:47:13.104034Z",
     "shell.execute_reply": "2020-10-20T03:47:13.104528Z"
    },
    "papermill": {
     "duration": 0.142284,
     "end_time": "2020-10-20T03:47:13.104667",
     "exception": false,
     "start_time": "2020-10-20T03:47:12.962383",
     "status": "completed"
    },
    "tags": []
   },
   "outputs": [
    {
     "name": "stdout",
     "output_type": "stream",
     "text": [
      "[[ 0  1  2  3]\n",
      " [ 4  5  6  7]\n",
      " [ 8  9 10 11]]\n",
      "[[ True  True  True  True]\n",
      " [ True  True False False]\n",
      " [False False False False]]\n"
     ]
    }
   ],
   "source": [
    "# 23. Numpy compare\n",
    "\n",
    "a = np.arange(12).reshape((3, 4))\n",
    "print(a)\n",
    "\n",
    "a_bool = a < 6\n",
    "print(a_bool)"
   ]
  },
  {
   "cell_type": "markdown",
   "metadata": {
    "papermill": {
     "duration": 0.135386,
     "end_time": "2020-10-20T03:47:13.377943",
     "exception": false,
     "start_time": "2020-10-20T03:47:13.242557",
     "status": "completed"
    },
    "tags": []
   },
   "source": [
    "<div style=\"\">\n",
    "    <div style=\"float: left; width: 80%;\">\n",
    "        <a id=\"24\"></a>\n",
    "        <font><b>Task 24:</b></font>\n",
    "        <br><br>\n",
    "        Numpy compare with nonzero count\n",
    "    </div>\n",
    "    <div style=\"float: right;\">\n",
    "        <a href=\"#top\" class=\"btn btn-primary btn-sm\" role=\"button\" aria-pressed=\"true\" style=\"color:white\" data-toggle=\"popover\" title=\"go to Top\">Go to Top</a>\n",
    "    </div>\n",
    "    <br style=\"clear: left;\" />\n",
    "</div> "
   ]
  },
  {
   "cell_type": "code",
   "execution_count": 29,
   "metadata": {
    "execution": {
     "iopub.execute_input": "2020-10-20T03:47:13.654223Z",
     "iopub.status.busy": "2020-10-20T03:47:13.653233Z",
     "iopub.status.idle": "2020-10-20T03:47:13.657322Z",
     "shell.execute_reply": "2020-10-20T03:47:13.656695Z"
    },
    "papermill": {
     "duration": 0.146281,
     "end_time": "2020-10-20T03:47:13.657433",
     "exception": false,
     "start_time": "2020-10-20T03:47:13.511152",
     "status": "completed"
    },
    "tags": []
   },
   "outputs": [
    {
     "name": "stdout",
     "output_type": "stream",
     "text": [
      "Before : \n",
      "[[ 0  1  2  3]\n",
      " [ 4  5  6  7]\n",
      " [ 8  9 10 11]]\n",
      "6\n",
      "[[False  True False False]\n",
      " [ True False False  True]\n",
      " [False False  True False]]\n",
      "4\n"
     ]
    }
   ],
   "source": [
    "# 24. Numpy compare with nonzero count\n",
    "\n",
    "a = np.arange(12).reshape((3, 4))\n",
    "print('Before : ')\n",
    "print(a)\n",
    "\n",
    "print(np.count_nonzero(a > 5))\n",
    "\n",
    "print(a % 3 == 1)\n",
    "print(np.count_nonzero(a % 3 == 1))"
   ]
  },
  {
   "cell_type": "markdown",
   "metadata": {
    "papermill": {
     "duration": 0.135592,
     "end_time": "2020-10-20T03:47:13.927652",
     "exception": false,
     "start_time": "2020-10-20T03:47:13.792060",
     "status": "completed"
    },
    "tags": []
   },
   "source": [
    "<div style=\"\">\n",
    "    <div style=\"float: left; width: 80%;\">\n",
    "        <a id=\"25\"></a>\n",
    "        <font><b>Task 25:</b></font>\n",
    "        <br><br>\n",
    "        Flip a numpy array by using flipud\n",
    "    </div>\n",
    "    <div style=\"float: right;\">\n",
    "        <a href=\"#top\" class=\"btn btn-primary btn-sm\" role=\"button\" aria-pressed=\"true\" style=\"color:white\" data-toggle=\"popover\" title=\"go to Top\">Go to Top</a>\n",
    "    </div>\n",
    "    <br style=\"clear: left;\" />\n",
    "</div> "
   ]
  },
  {
   "cell_type": "code",
   "execution_count": 30,
   "metadata": {
    "execution": {
     "iopub.execute_input": "2020-10-20T03:47:14.208215Z",
     "iopub.status.busy": "2020-10-20T03:47:14.207176Z",
     "iopub.status.idle": "2020-10-20T03:47:14.212646Z",
     "shell.execute_reply": "2020-10-20T03:47:14.213152Z"
    },
    "papermill": {
     "duration": 0.151092,
     "end_time": "2020-10-20T03:47:14.213306",
     "exception": false,
     "start_time": "2020-10-20T03:47:14.062214",
     "status": "completed"
    },
    "tags": []
   },
   "outputs": [
    {
     "name": "stdout",
     "output_type": "stream",
     "text": [
      "Before : \n",
      "[[0 1]\n",
      " [2 3]]\n",
      "\n",
      "After : \n",
      "[[2 3]\n",
      " [0 1]]\n",
      "Shared memory? : True\n"
     ]
    }
   ],
   "source": [
    "# 25. Flip a numpy array by using flipud\n",
    "# flipup = flip ud = up / down\n",
    "\n",
    "a = np.arange(4).reshape(2, 2)\n",
    "print('Before : ')\n",
    "print(a)\n",
    "\n",
    "print('\\nAfter : ')\n",
    "b = np.flipud(a)\n",
    "print(b)\n",
    "\n",
    "# Note: b returns a view \n",
    "print('Shared memory? :', np.shares_memory(a, b))"
   ]
  },
  {
   "cell_type": "markdown",
   "metadata": {
    "papermill": {
     "duration": 0.134999,
     "end_time": "2020-10-20T03:47:14.489565",
     "exception": false,
     "start_time": "2020-10-20T03:47:14.354566",
     "status": "completed"
    },
    "tags": []
   },
   "source": [
    "<div style=\"\">\n",
    "    <div style=\"float: left; width: 80%;\">\n",
    "        <a id=\"26\"></a>\n",
    "        <font><b>Task 26:</b></font>\n",
    "        <br><br>\n",
    "        Flip a numpy array by using flipud without sharing the memory\n",
    "    </div>\n",
    "    <div style=\"float: right;\">\n",
    "        <a href=\"#top\" class=\"btn btn-primary btn-sm\" role=\"button\" aria-pressed=\"true\" style=\"color:white\" data-toggle=\"popover\" title=\"go to Top\">Go to Top</a>\n",
    "    </div>\n",
    "    <br style=\"clear: left;\" />\n",
    "</div> "
   ]
  },
  {
   "cell_type": "code",
   "execution_count": 31,
   "metadata": {
    "execution": {
     "iopub.execute_input": "2020-10-20T03:47:14.768097Z",
     "iopub.status.busy": "2020-10-20T03:47:14.767301Z",
     "iopub.status.idle": "2020-10-20T03:47:14.770778Z",
     "shell.execute_reply": "2020-10-20T03:47:14.771599Z"
    },
    "papermill": {
     "duration": 0.146167,
     "end_time": "2020-10-20T03:47:14.771814",
     "exception": false,
     "start_time": "2020-10-20T03:47:14.625647",
     "status": "completed"
    },
    "tags": []
   },
   "outputs": [
    {
     "name": "stdout",
     "output_type": "stream",
     "text": [
      "Before : \n",
      "[[0 1]\n",
      " [2 3]]\n",
      "\n",
      "After : \n",
      "[[2 3]\n",
      " [0 1]]\n",
      "Shared memory? : False\n"
     ]
    }
   ],
   "source": [
    "# 26. Flip a numpy array by using flipud without sharing the memory\n",
    "\n",
    "a = np.arange(4).reshape(2, 2)\n",
    "print('Before : ')\n",
    "print(a)\n",
    "\n",
    "print('\\nAfter : ')\n",
    "b = np.flipud(a).copy()\n",
    "print(b)\n",
    "\n",
    "# Note: b returns a view \n",
    "print('Shared memory? :', np.shares_memory(a, b))"
   ]
  },
  {
   "cell_type": "markdown",
   "metadata": {
    "papermill": {
     "duration": 0.134696,
     "end_time": "2020-10-20T03:47:15.041874",
     "exception": false,
     "start_time": "2020-10-20T03:47:14.907178",
     "status": "completed"
    },
    "tags": []
   },
   "source": [
    "<div style=\"\">\n",
    "    <div style=\"float: left; width: 80%;\">\n",
    "        <a id=\"27\"></a>\n",
    "        <font><b>Task 27:</b></font>\n",
    "        <br><br>\n",
    "        Flip a numpy array by using fliplr (horizontally)\n",
    "    </div>\n",
    "    <div style=\"float: right;\">\n",
    "        <a href=\"#top\" class=\"btn btn-primary btn-sm\" role=\"button\" aria-pressed=\"true\" style=\"color:white\" data-toggle=\"popover\" title=\"go to Top\">Go to Top</a>\n",
    "    </div>\n",
    "    <br style=\"clear: left;\" />\n",
    "</div> "
   ]
  },
  {
   "cell_type": "code",
   "execution_count": 32,
   "metadata": {
    "execution": {
     "iopub.execute_input": "2020-10-20T03:47:15.324974Z",
     "iopub.status.busy": "2020-10-20T03:47:15.324237Z",
     "iopub.status.idle": "2020-10-20T03:47:15.328029Z",
     "shell.execute_reply": "2020-10-20T03:47:15.327423Z"
    },
    "papermill": {
     "duration": 0.149509,
     "end_time": "2020-10-20T03:47:15.328158",
     "exception": false,
     "start_time": "2020-10-20T03:47:15.178649",
     "status": "completed"
    },
    "tags": []
   },
   "outputs": [
    {
     "name": "stdout",
     "output_type": "stream",
     "text": [
      "Before : \n",
      "[[0 1 2 3 4]\n",
      " [5 6 7 8 9]]\n",
      "\n",
      "After : \n",
      "[[4 3 2 1 0]\n",
      " [9 8 7 6 5]]\n"
     ]
    }
   ],
   "source": [
    "# 27. Flip a numpy array by using fliplr (horizontally)\n",
    "\n",
    "a = np.arange(10).reshape(2, 5)\n",
    "print('Before : ')\n",
    "print(a)\n",
    "\n",
    "print('\\nAfter : ')\n",
    "b = np.fliplr(a)\n",
    "print(b)"
   ]
  },
  {
   "cell_type": "markdown",
   "metadata": {
    "papermill": {
     "duration": 0.13599,
     "end_time": "2020-10-20T03:47:15.601211",
     "exception": false,
     "start_time": "2020-10-20T03:47:15.465221",
     "status": "completed"
    },
    "tags": []
   },
   "source": [
    "<div style=\"\">\n",
    "    <div style=\"float: left; width: 80%;\">\n",
    "        <a id=\"28\"></a>\n",
    "        <font><b>Task 28:</b></font>\n",
    "        <br><br>\n",
    "        Flip a numpy array by using flip (both horizontally and vertically)\n",
    "    </div>\n",
    "    <div style=\"float: right;\">\n",
    "        <a href=\"#top\" class=\"btn btn-primary btn-sm\" role=\"button\" aria-pressed=\"true\" style=\"color:white\" data-toggle=\"popover\" title=\"go to Top\">Go to Top</a>\n",
    "    </div>\n",
    "    <br style=\"clear: left;\" />\n",
    "</div> "
   ]
  },
  {
   "cell_type": "code",
   "execution_count": 33,
   "metadata": {
    "execution": {
     "iopub.execute_input": "2020-10-20T03:47:15.879118Z",
     "iopub.status.busy": "2020-10-20T03:47:15.878415Z",
     "iopub.status.idle": "2020-10-20T03:47:15.882093Z",
     "shell.execute_reply": "2020-10-20T03:47:15.881587Z"
    },
    "papermill": {
     "duration": 0.144955,
     "end_time": "2020-10-20T03:47:15.882201",
     "exception": false,
     "start_time": "2020-10-20T03:47:15.737246",
     "status": "completed"
    },
    "tags": []
   },
   "outputs": [
    {
     "name": "stdout",
     "output_type": "stream",
     "text": [
      "Before : \n",
      "[[0 1 2 3 4]\n",
      " [5 6 7 8 9]]\n",
      "\n",
      "After : \n",
      "[[9 8 7 6 5]\n",
      " [4 3 2 1 0]]\n"
     ]
    }
   ],
   "source": [
    "# 28. Flip a numpy array by using flip (both horizontally and vertically)\n",
    "\n",
    "a = np.arange(10).reshape(2, 5)\n",
    "print('Before : ')\n",
    "print(a)\n",
    "\n",
    "print('\\nAfter : ')\n",
    "b = np.flip(a)\n",
    "print(b)"
   ]
  },
  {
   "cell_type": "markdown",
   "metadata": {
    "papermill": {
     "duration": 0.135931,
     "end_time": "2020-10-20T03:47:16.154077",
     "exception": false,
     "start_time": "2020-10-20T03:47:16.018146",
     "status": "completed"
    },
    "tags": []
   },
   "source": [
    "<div style=\"\">\n",
    "    <div style=\"float: left; width: 80%;\">\n",
    "        <a id=\"29\"></a>\n",
    "        <font><b>Task 29:</b></font>\n",
    "        <br><br>\n",
    "        Flipping the numpy array using slices\n",
    "    </div>\n",
    "    <div style=\"float: right;\">\n",
    "        <a href=\"#top\" class=\"btn btn-primary btn-sm\" role=\"button\" aria-pressed=\"true\" style=\"color:white\" data-toggle=\"popover\" title=\"go to Top\">Go to Top</a>\n",
    "    </div>\n",
    "    <br style=\"clear: left;\" />\n",
    "</div> "
   ]
  },
  {
   "cell_type": "code",
   "execution_count": 34,
   "metadata": {
    "execution": {
     "iopub.execute_input": "2020-10-20T03:47:16.505270Z",
     "iopub.status.busy": "2020-10-20T03:47:16.504203Z",
     "iopub.status.idle": "2020-10-20T03:47:16.507670Z",
     "shell.execute_reply": "2020-10-20T03:47:16.508414Z"
    },
    "papermill": {
     "duration": 0.19715,
     "end_time": "2020-10-20T03:47:16.508638",
     "exception": false,
     "start_time": "2020-10-20T03:47:16.311488",
     "status": "completed"
    },
    "tags": []
   },
   "outputs": [
    {
     "name": "stdout",
     "output_type": "stream",
     "text": [
      "Before : \n",
      "[[0 1 2 3 4]\n",
      " [5 6 7 8 9]]\n",
      "\n",
      "After : \n",
      "[[9 8 7 6 5]\n",
      " [4 3 2 1 0]]\n"
     ]
    }
   ],
   "source": [
    "# 29. Flipping the numpy array using slices\n",
    "\n",
    "a = np.arange(10).reshape(2, 5)\n",
    "print('Before : ')\n",
    "print(a)\n",
    "\n",
    "print('\\nAfter : ')\n",
    "b = a[::-1, ::-1]\n",
    "print(b)"
   ]
  },
  {
   "cell_type": "markdown",
   "metadata": {
    "papermill": {
     "duration": 0.141778,
     "end_time": "2020-10-20T03:47:16.795088",
     "exception": false,
     "start_time": "2020-10-20T03:47:16.653310",
     "status": "completed"
    },
    "tags": []
   },
   "source": [
    "<div style=\"\">\n",
    "    <div style=\"float: left; width: 80%;\">\n",
    "        <a id=\"30\"></a>\n",
    "        <font><b>Task 30:</b></font>\n",
    "        <br><br>\n",
    "        Convert numpy array to list\n",
    "    </div>\n",
    "    <div style=\"float: right;\">\n",
    "        <a href=\"#top\" class=\"btn btn-primary btn-sm\" role=\"button\" aria-pressed=\"true\" style=\"color:white\" data-toggle=\"popover\" title=\"go to Top\">Go to Top</a>\n",
    "    </div>\n",
    "    <br style=\"clear: left;\" />\n",
    "</div> "
   ]
  },
  {
   "cell_type": "code",
   "execution_count": 35,
   "metadata": {
    "execution": {
     "iopub.execute_input": "2020-10-20T03:47:17.153162Z",
     "iopub.status.busy": "2020-10-20T03:47:17.152343Z",
     "iopub.status.idle": "2020-10-20T03:47:17.155906Z",
     "shell.execute_reply": "2020-10-20T03:47:17.156686Z"
    },
    "papermill": {
     "duration": 0.211812,
     "end_time": "2020-10-20T03:47:17.156901",
     "exception": false,
     "start_time": "2020-10-20T03:47:16.945089",
     "status": "completed"
    },
    "tags": []
   },
   "outputs": [
    {
     "name": "stdout",
     "output_type": "stream",
     "text": [
      "Before : \n",
      "[[0 1 2 3 4]\n",
      " [5 6 7 8 9]]\n",
      "<class 'numpy.ndarray'>\n",
      "<class 'numpy.ndarray'>\n",
      "<class 'numpy.int64'>\n",
      "\n",
      "After : \n",
      "[[0, 1, 2, 3, 4], [5, 6, 7, 8, 9]]\n",
      "<class 'list'>\n",
      "<class 'list'>\n",
      "<class 'int'>\n"
     ]
    }
   ],
   "source": [
    "# 30. Convert numpy array to list\n",
    "\n",
    "a = np.arange(10).reshape(2, 5)\n",
    "print('Before : ')\n",
    "print(a)\n",
    "# print(d.dtype)\n",
    "print(type(a))\n",
    "print(type(a[0]))\n",
    "print(type(a[0][0]))\n",
    "\n",
    "b = a.tolist()\n",
    "print('\\nAfter : ')\n",
    "print(b)\n",
    "print(type(b))\n",
    "print(type(b[0]))\n",
    "print(type(b[0][0]))"
   ]
  },
  {
   "cell_type": "markdown",
   "metadata": {
    "papermill": {
     "duration": 0.137384,
     "end_time": "2020-10-20T03:47:17.435907",
     "exception": false,
     "start_time": "2020-10-20T03:47:17.298523",
     "status": "completed"
    },
    "tags": []
   },
   "source": [
    "<div style=\"\">\n",
    "    <div style=\"float: left; width: 80%;\">\n",
    "        <a id=\"31\"></a>\n",
    "        <font><b>Task 31:</b></font>\n",
    "        <br><br>\n",
    "        Numpy Where\n",
    "    </div>\n",
    "    <div style=\"float: right;\">\n",
    "        <a href=\"#top\" class=\"btn btn-primary btn-sm\" role=\"button\" aria-pressed=\"true\" style=\"color:white\" data-toggle=\"popover\" title=\"go to Top\">Go to Top</a>\n",
    "    </div>\n",
    "    <br style=\"clear: left;\" />\n",
    "</div> "
   ]
  },
  {
   "cell_type": "code",
   "execution_count": 36,
   "metadata": {
    "execution": {
     "iopub.execute_input": "2020-10-20T03:47:17.718688Z",
     "iopub.status.busy": "2020-10-20T03:47:17.717679Z",
     "iopub.status.idle": "2020-10-20T03:47:17.721041Z",
     "shell.execute_reply": "2020-10-20T03:47:17.721580Z"
    },
    "papermill": {
     "duration": 0.149482,
     "end_time": "2020-10-20T03:47:17.721733",
     "exception": false,
     "start_time": "2020-10-20T03:47:17.572251",
     "status": "completed"
    },
    "tags": []
   },
   "outputs": [
    {
     "name": "stdout",
     "output_type": "stream",
     "text": [
      "Before : \n",
      "[[0 1 2 3]\n",
      " [4 5 6 7]]\n",
      "\n",
      "After : \n",
      "[[ 0  0  0  0]\n",
      " [20 20 20 20]]\n"
     ]
    }
   ],
   "source": [
    "# 31. Numpy Where\n",
    "\n",
    "a = np.arange(8).reshape((2, 4))\n",
    "print('Before : ')\n",
    "print(a)\n",
    "\n",
    "print('\\nAfter : ')\n",
    "b = np.where(a < 4, 0, 20)\n",
    "print(b)\n",
    "\n",
    "# Note: it matches, replace with 0, if not replace with 20"
   ]
  },
  {
   "cell_type": "markdown",
   "metadata": {
    "papermill": {
     "duration": 0.139242,
     "end_time": "2020-10-20T03:47:18.000147",
     "exception": false,
     "start_time": "2020-10-20T03:47:17.860905",
     "status": "completed"
    },
    "tags": []
   },
   "source": [
    "<div style=\"\">\n",
    "    <div style=\"float: left; width: 80%;\">\n",
    "        <a id=\"32\"></a>\n",
    "        <font><b>Task 32:</b></font>\n",
    "        <br><br>\n",
    "        Numpy where with multiple conditions\n",
    "    </div>\n",
    "    <div style=\"float: right;\">\n",
    "        <a href=\"#top\" class=\"btn btn-primary btn-sm\" role=\"button\" aria-pressed=\"true\" style=\"color:white\" data-toggle=\"popover\" title=\"go to Top\">Go to Top</a>\n",
    "    </div>\n",
    "    <br style=\"clear: left;\" />\n",
    "</div>"
   ]
  },
  {
   "cell_type": "code",
   "execution_count": 37,
   "metadata": {
    "execution": {
     "iopub.execute_input": "2020-10-20T03:47:18.294872Z",
     "iopub.status.busy": "2020-10-20T03:47:18.293843Z",
     "iopub.status.idle": "2020-10-20T03:47:18.299170Z",
     "shell.execute_reply": "2020-10-20T03:47:18.298517Z"
    },
    "papermill": {
     "duration": 0.160529,
     "end_time": "2020-10-20T03:47:18.299332",
     "exception": false,
     "start_time": "2020-10-20T03:47:18.138803",
     "status": "completed"
    },
    "tags": []
   },
   "outputs": [
    {
     "name": "stdout",
     "output_type": "stream",
     "text": [
      "Before : \n",
      "[[0 1 2 3]\n",
      " [4 5 6 7]]\n",
      "\n",
      "After : \n",
      "[[20 20 20 20]\n",
      " [ 0  0  0 20]]\n"
     ]
    }
   ],
   "source": [
    "# 32. Numpy where with multiple conditions\n",
    "\n",
    "a = np.arange(8).reshape((2, 4))\n",
    "print('Before : ')\n",
    "print(a)\n",
    "\n",
    "print('\\nAfter : ')\n",
    "b = np.where((a > 3) & (a < 7), 0, 20)\n",
    "print(b)"
   ]
  },
  {
   "cell_type": "markdown",
   "metadata": {
    "papermill": {
     "duration": 0.136305,
     "end_time": "2020-10-20T03:47:18.573667",
     "exception": false,
     "start_time": "2020-10-20T03:47:18.437362",
     "status": "completed"
    },
    "tags": []
   },
   "source": [
    "<div style=\"\">\n",
    "    <div style=\"float: left; width: 80%;\">\n",
    "        <a id=\"33\"></a>\n",
    "        <font><b>Task 33:</b></font>\n",
    "        <br><br>\n",
    "        Numpy where with multiple conditions - apply only on matching conditions\n",
    "    </div>\n",
    "    <div style=\"float: right;\">\n",
    "        <a href=\"#top\" class=\"btn btn-primary btn-sm\" role=\"button\" aria-pressed=\"true\" style=\"color:white\" data-toggle=\"popover\" title=\"go to Top\">Go to Top</a>\n",
    "    </div>\n",
    "    <br style=\"clear: left;\" />\n",
    "</div>"
   ]
  },
  {
   "cell_type": "code",
   "execution_count": 38,
   "metadata": {
    "execution": {
     "iopub.execute_input": "2020-10-20T03:47:18.855364Z",
     "iopub.status.busy": "2020-10-20T03:47:18.854411Z",
     "iopub.status.idle": "2020-10-20T03:47:18.858676Z",
     "shell.execute_reply": "2020-10-20T03:47:18.858001Z"
    },
    "papermill": {
     "duration": 0.147423,
     "end_time": "2020-10-20T03:47:18.858830",
     "exception": false,
     "start_time": "2020-10-20T03:47:18.711407",
     "status": "completed"
    },
    "tags": []
   },
   "outputs": [
    {
     "name": "stdout",
     "output_type": "stream",
     "text": [
      "Before : \n",
      "[[0 1 2 3 4]\n",
      " [5 6 7 8 9]]\n",
      "\n",
      "After : \n",
      "[[0 1 2 3 0]\n",
      " [0 0 7 8 9]]\n"
     ]
    }
   ],
   "source": [
    "# 33. Numpy where with multiple conditions - apply only on matching conditions\n",
    "\n",
    "a = np.arange(10).reshape((2, 5))\n",
    "print('Before : ')\n",
    "print(a)\n",
    "\n",
    "print('\\nAfter : ')\n",
    "b = np.where((a > 3) & (a < 7), 0, a)\n",
    "print(b)"
   ]
  },
  {
   "cell_type": "markdown",
   "metadata": {
    "papermill": {
     "duration": 0.137918,
     "end_time": "2020-10-20T03:47:19.174818",
     "exception": false,
     "start_time": "2020-10-20T03:47:19.036900",
     "status": "completed"
    },
    "tags": []
   },
   "source": [
    "<div style=\"\">\n",
    "    <div style=\"float: left; width: 80%;\">\n",
    "        <a id=\"34\"></a>\n",
    "        <font><b>Task 34:</b></font>\n",
    "        <br><br>\n",
    "        Process with where\n",
    "    </div>\n",
    "    <div style=\"float: right;\">\n",
    "        <a href=\"#top\" class=\"btn btn-primary btn-sm\" role=\"button\" aria-pressed=\"true\" style=\"color:white\" data-toggle=\"popover\" title=\"go to Top\">Go to Top</a>\n",
    "    </div>\n",
    "    <br style=\"clear: left;\" />\n",
    "</div>"
   ]
  },
  {
   "cell_type": "code",
   "execution_count": 39,
   "metadata": {
    "execution": {
     "iopub.execute_input": "2020-10-20T03:47:19.461328Z",
     "iopub.status.busy": "2020-10-20T03:47:19.460446Z",
     "iopub.status.idle": "2020-10-20T03:47:19.463498Z",
     "shell.execute_reply": "2020-10-20T03:47:19.464517Z"
    },
    "papermill": {
     "duration": 0.149594,
     "end_time": "2020-10-20T03:47:19.464698",
     "exception": false,
     "start_time": "2020-10-20T03:47:19.315104",
     "status": "completed"
    },
    "tags": []
   },
   "outputs": [
    {
     "name": "stdout",
     "output_type": "stream",
     "text": [
      "Before : \n",
      "[[0 1 2 3 4]\n",
      " [5 6 7 8 9]]\n",
      "\n",
      "After : \n",
      "[[ 0  0  0  0 12]\n",
      " [15 18  0  0  0]]\n"
     ]
    }
   ],
   "source": [
    "# 34. Process with where\n",
    "\n",
    "a = np.arange(10).reshape((2, 5))\n",
    "print('Before : ')\n",
    "print(a)\n",
    "\n",
    "print('\\nAfter : ')\n",
    "b = np.where((a > 3) & (a < 7),  a * 3, 0)\n",
    "print(b)"
   ]
  },
  {
   "cell_type": "markdown",
   "metadata": {
    "papermill": {
     "duration": 0.138471,
     "end_time": "2020-10-20T03:47:19.742427",
     "exception": false,
     "start_time": "2020-10-20T03:47:19.603956",
     "status": "completed"
    },
    "tags": []
   },
   "source": [
    "<div style=\"\">\n",
    "    <div style=\"float: left; width: 80%;\">\n",
    "        <a id=\"35\"></a>\n",
    "        <font><b>Task 35:</b></font>\n",
    "        <br><br>\n",
    "        List to numpy array\n",
    "    </div>\n",
    "    <div style=\"float: right;\">\n",
    "        <a href=\"#top\" class=\"btn btn-primary btn-sm\" role=\"button\" aria-pressed=\"true\" style=\"color:white\" data-toggle=\"popover\" title=\"go to Top\">Go to Top</a>\n",
    "    </div>\n",
    "    <br style=\"clear: left;\" />\n",
    "</div>"
   ]
  },
  {
   "cell_type": "code",
   "execution_count": 40,
   "metadata": {
    "execution": {
     "iopub.execute_input": "2020-10-20T03:47:20.028138Z",
     "iopub.status.busy": "2020-10-20T03:47:20.027145Z",
     "iopub.status.idle": "2020-10-20T03:47:20.030645Z",
     "shell.execute_reply": "2020-10-20T03:47:20.031240Z"
    },
    "papermill": {
     "duration": 0.149949,
     "end_time": "2020-10-20T03:47:20.031378",
     "exception": false,
     "start_time": "2020-10-20T03:47:19.881429",
     "status": "completed"
    },
    "tags": []
   },
   "outputs": [
    {
     "name": "stdout",
     "output_type": "stream",
     "text": [
      "Before : \n",
      "[0, 1, 2]\n",
      "\n",
      "After : \n",
      "[0 1 2]\n",
      "int64\n"
     ]
    }
   ],
   "source": [
    "# 35. List to numpy array\n",
    "\n",
    "a = [0, 1, 2]\n",
    "print('Before : ')\n",
    "print(a)\n",
    "\n",
    "print('\\nAfter : ')\n",
    "b = np.array(a)\n",
    "print(b)\n",
    "print(b.dtype)"
   ]
  },
  {
   "cell_type": "markdown",
   "metadata": {
    "papermill": {
     "duration": 0.144771,
     "end_time": "2020-10-20T03:47:20.314909",
     "exception": false,
     "start_time": "2020-10-20T03:47:20.170138",
     "status": "completed"
    },
    "tags": []
   },
   "source": [
    "<div style=\"\">\n",
    "    <div style=\"float: left; width: 80%;\">\n",
    "        <a id=\"36\"></a>\n",
    "        <font><b>Task 36:</b></font>\n",
    "        <br><br>\n",
    "        List to numpy array with explicit dtype\n",
    "    </div>\n",
    "    <div style=\"float: right;\">\n",
    "        <a href=\"#top\" class=\"btn btn-primary btn-sm\" role=\"button\" aria-pressed=\"true\" style=\"color:white\" data-toggle=\"popover\" title=\"go to Top\">Go to Top</a>\n",
    "    </div>\n",
    "    <br style=\"clear: left;\" />\n",
    "</div>"
   ]
  },
  {
   "cell_type": "code",
   "execution_count": 41,
   "metadata": {
    "execution": {
     "iopub.execute_input": "2020-10-20T03:47:20.600632Z",
     "iopub.status.busy": "2020-10-20T03:47:20.599847Z",
     "iopub.status.idle": "2020-10-20T03:47:20.602834Z",
     "shell.execute_reply": "2020-10-20T03:47:20.603586Z"
    },
    "papermill": {
     "duration": 0.148916,
     "end_time": "2020-10-20T03:47:20.603786",
     "exception": false,
     "start_time": "2020-10-20T03:47:20.454870",
     "status": "completed"
    },
    "tags": []
   },
   "outputs": [
    {
     "name": "stdout",
     "output_type": "stream",
     "text": [
      "Before : \n",
      "[0, 1, 2]\n",
      "\n",
      "After : \n",
      "[0. 1. 2.]\n",
      "float64\n"
     ]
    }
   ],
   "source": [
    "# 36. List to numpy array with explicit dtype\n",
    "\n",
    "a = [0, 1, 2]\n",
    "print('Before : ')\n",
    "print(a)\n",
    "\n",
    "print('\\nAfter : ')\n",
    "b = np.array(a, dtype = float)\n",
    "print(b)\n",
    "print(b.dtype)"
   ]
  },
  {
   "cell_type": "markdown",
   "metadata": {
    "papermill": {
     "duration": 0.141335,
     "end_time": "2020-10-20T03:47:20.885407",
     "exception": false,
     "start_time": "2020-10-20T03:47:20.744072",
     "status": "completed"
    },
    "tags": []
   },
   "source": [
    "<div style=\"\">\n",
    "    <div style=\"float: left; width: 80%;\">\n",
    "        <a id=\"37\"></a>\n",
    "        <font><b>Task 37:</b></font>\n",
    "        <br><br>\n",
    "        2D list to numpy array\n",
    "    </div>\n",
    "    <div style=\"float: right;\">\n",
    "        <a href=\"#top\" class=\"btn btn-primary btn-sm\" role=\"button\" aria-pressed=\"true\" style=\"color:white\" data-toggle=\"popover\" title=\"go to Top\">Go to Top</a>\n",
    "    </div>\n",
    "    <br style=\"clear: left;\" />\n",
    "</div>"
   ]
  },
  {
   "cell_type": "code",
   "execution_count": 42,
   "metadata": {
    "execution": {
     "iopub.execute_input": "2020-10-20T03:47:21.177228Z",
     "iopub.status.busy": "2020-10-20T03:47:21.176371Z",
     "iopub.status.idle": "2020-10-20T03:47:21.184817Z",
     "shell.execute_reply": "2020-10-20T03:47:21.185539Z"
    },
    "papermill": {
     "duration": 0.161847,
     "end_time": "2020-10-20T03:47:21.185765",
     "exception": false,
     "start_time": "2020-10-20T03:47:21.023918",
     "status": "completed"
    },
    "tags": []
   },
   "outputs": [
    {
     "name": "stdout",
     "output_type": "stream",
     "text": [
      "Before : \n",
      "[[0, 1, 2], [21, 22, 23]]\n",
      "<class 'list'>\n",
      "\n",
      "After : \n",
      "[[ 0  1  2]\n",
      " [21 22 23]]\n",
      "<class 'numpy.ndarray'>\n",
      "int64\n",
      "(2, 3)\n"
     ]
    }
   ],
   "source": [
    "# 37. 2D list to numpy array\n",
    "\n",
    "a = [[0, 1, 2], [21, 22, 23]]\n",
    "print('Before : ')\n",
    "print(a)\n",
    "print(type(a))\n",
    "\n",
    "print('\\nAfter : ')\n",
    "b = np.array(a)\n",
    "print(b)\n",
    "print(type(b))\n",
    "print(b.dtype)\n",
    "print(b.shape)"
   ]
  },
  {
   "cell_type": "markdown",
   "metadata": {
    "papermill": {
     "duration": 0.145628,
     "end_time": "2020-10-20T03:47:21.555002",
     "exception": false,
     "start_time": "2020-10-20T03:47:21.409374",
     "status": "completed"
    },
    "tags": []
   },
   "source": [
    "<div style=\"\">\n",
    "    <div style=\"float: left; width: 80%;\">\n",
    "        <a id=\"38\"></a>\n",
    "        <font><b>Task 38:</b></font>\n",
    "        <br><br>\n",
    "        Convert list to float numpy array\n",
    "    </div>\n",
    "    <div style=\"float: right;\">\n",
    "        <a href=\"#top\" class=\"btn btn-primary btn-sm\" role=\"button\" aria-pressed=\"true\" style=\"color:white\" data-toggle=\"popover\" title=\"go to Top\">Go to Top</a>\n",
    "    </div>\n",
    "    <br style=\"clear: left;\" />\n",
    "</div>"
   ]
  },
  {
   "cell_type": "code",
   "execution_count": 43,
   "metadata": {
    "execution": {
     "iopub.execute_input": "2020-10-20T03:47:21.848632Z",
     "iopub.status.busy": "2020-10-20T03:47:21.847868Z",
     "iopub.status.idle": "2020-10-20T03:47:21.851732Z",
     "shell.execute_reply": "2020-10-20T03:47:21.850801Z"
    },
    "papermill": {
     "duration": 0.1561,
     "end_time": "2020-10-20T03:47:21.851849",
     "exception": false,
     "start_time": "2020-10-20T03:47:21.695749",
     "status": "completed"
    },
    "tags": []
   },
   "outputs": [
    {
     "name": "stdout",
     "output_type": "stream",
     "text": [
      "Before : \n",
      "[1, 2]\n",
      "<class 'list'>\n",
      "\n",
      "After : \n",
      "[1. 2.]\n",
      "<class 'numpy.ndarray'>\n",
      "float64\n",
      "\n",
      "After : \n",
      "[1. 2.]\n",
      "<class 'numpy.ndarray'>\n",
      "float64\n"
     ]
    }
   ],
   "source": [
    "# 38. Convert list to float numpy array\n",
    "\n",
    "x = [1, 2]\n",
    "print('Before : ')\n",
    "print(x)\n",
    "print(type(x))\n",
    "\n",
    "print('\\nAfter : ')\n",
    "b = np.asfarray(x)\n",
    "print(b)\n",
    "print(type(b))\n",
    "print(b.dtype)\n",
    "\n",
    "print('\\nAfter : ')\n",
    "c = np.asarray(x, float)\n",
    "print(c)\n",
    "print(type(c))\n",
    "print(c.dtype)"
   ]
  },
  {
   "cell_type": "markdown",
   "metadata": {
    "papermill": {
     "duration": 0.144764,
     "end_time": "2020-10-20T03:47:22.139908",
     "exception": false,
     "start_time": "2020-10-20T03:47:21.995144",
     "status": "completed"
    },
    "tags": []
   },
   "source": [
    "<div style=\"\">\n",
    "    <div style=\"float: left; width: 80%;\">\n",
    "        <a id=\"39\"></a>\n",
    "        <font><b>Task 39:</b></font>\n",
    "        <br><br>\n",
    "        Convert list to numpy array with explicit datatype\n",
    "    </div>\n",
    "    <div style=\"float: right;\">\n",
    "        <a href=\"#top\" class=\"btn btn-primary btn-sm\" role=\"button\" aria-pressed=\"true\" style=\"color:white\" data-toggle=\"popover\" title=\"go to Top\">Go to Top</a>\n",
    "    </div>\n",
    "    <br style=\"clear: left;\" />\n",
    "</div>"
   ]
  },
  {
   "cell_type": "code",
   "execution_count": 44,
   "metadata": {
    "execution": {
     "iopub.execute_input": "2020-10-20T03:47:22.428484Z",
     "iopub.status.busy": "2020-10-20T03:47:22.427609Z",
     "iopub.status.idle": "2020-10-20T03:47:22.433712Z",
     "shell.execute_reply": "2020-10-20T03:47:22.434149Z"
    },
    "papermill": {
     "duration": 0.151855,
     "end_time": "2020-10-20T03:47:22.434286",
     "exception": false,
     "start_time": "2020-10-20T03:47:22.282431",
     "status": "completed"
    },
    "tags": []
   },
   "outputs": [
    {
     "name": "stdout",
     "output_type": "stream",
     "text": [
      "Before : \n",
      "[1, 2]\n",
      "<class 'list'>\n",
      "\n",
      "After : \n",
      "[1. 2.]\n",
      "<class 'numpy.ndarray'>\n",
      "float64\n"
     ]
    }
   ],
   "source": [
    "# 39. Convert list to numpy array with explicit datatype\n",
    "\n",
    "x = [1, 2]\n",
    "print('Before : ')\n",
    "print(x)\n",
    "print(type(x))\n",
    "\n",
    "print('\\nAfter : ')\n",
    "c = np.asarray(x, float)\n",
    "print(c)\n",
    "print(type(c))\n",
    "print(c.dtype)"
   ]
  },
  {
   "cell_type": "markdown",
   "metadata": {
    "papermill": {
     "duration": 0.140699,
     "end_time": "2020-10-20T03:47:22.718149",
     "exception": false,
     "start_time": "2020-10-20T03:47:22.577450",
     "status": "completed"
    },
    "tags": []
   },
   "source": [
    "<div style=\"\">\n",
    "    <div style=\"float: left; width: 80%;\">\n",
    "        <a id=\"40\"></a>\n",
    "        <font><b>Task 40:</b></font>\n",
    "        <br><br>\n",
    "        Find common values between two numpy array\n",
    "    </div>\n",
    "    <div style=\"float: right;\">\n",
    "        <a href=\"#top\" class=\"btn btn-primary btn-sm\" role=\"button\" aria-pressed=\"true\" style=\"color:white\" data-toggle=\"popover\" title=\"go to Top\">Go to Top</a>\n",
    "    </div>\n",
    "    <br style=\"clear: left;\" />\n",
    "</div>"
   ]
  },
  {
   "cell_type": "code",
   "execution_count": 45,
   "metadata": {
    "execution": {
     "iopub.execute_input": "2020-10-20T03:47:23.004220Z",
     "iopub.status.busy": "2020-10-20T03:47:23.003426Z",
     "iopub.status.idle": "2020-10-20T03:47:23.006402Z",
     "shell.execute_reply": "2020-10-20T03:47:23.006934Z"
    },
    "papermill": {
     "duration": 0.149789,
     "end_time": "2020-10-20T03:47:23.007086",
     "exception": false,
     "start_time": "2020-10-20T03:47:22.857297",
     "status": "completed"
    },
    "tags": []
   },
   "outputs": [
    {
     "name": "stdout",
     "output_type": "stream",
     "text": [
      "[0 8 1 1 1 5 7 1 4 5]\n",
      "[8 6 8 8 9 2 3 7 7 4]\n",
      "common values between a and b :  [4 7 8]\n"
     ]
    }
   ],
   "source": [
    "# 40. Find common values between two numpy array\n",
    "\n",
    "a = np.random.randint(0, 10, 10)\n",
    "b = np.random.randint(0, 10, 10)\n",
    "print(a)\n",
    "print(b)\n",
    "print('common values between a and b : ', np.intersect1d(a,b))"
   ]
  },
  {
   "cell_type": "markdown",
   "metadata": {
    "papermill": {
     "duration": 0.142227,
     "end_time": "2020-10-20T03:47:23.289206",
     "exception": false,
     "start_time": "2020-10-20T03:47:23.146979",
     "status": "completed"
    },
    "tags": []
   },
   "source": [
    "<div style=\"\">\n",
    "    <div style=\"float: left; width: 80%;\">\n",
    "        <a id=\"41\"></a>\n",
    "        <font><b>Task 41:</b></font>\n",
    "        <br><br>\n",
    "        Get today in numpy and deltas\n",
    "    </div>\n",
    "    <div style=\"float: right;\">\n",
    "        <a href=\"#top\" class=\"btn btn-primary btn-sm\" role=\"button\" aria-pressed=\"true\" style=\"color:white\" data-toggle=\"popover\" title=\"go to Top\">Go to Top</a>\n",
    "    </div>\n",
    "    <br style=\"clear: left;\" />\n",
    "</div>"
   ]
  },
  {
   "cell_type": "code",
   "execution_count": 46,
   "metadata": {
    "execution": {
     "iopub.execute_input": "2020-10-20T03:47:23.577724Z",
     "iopub.status.busy": "2020-10-20T03:47:23.576947Z",
     "iopub.status.idle": "2020-10-20T03:47:23.581574Z",
     "shell.execute_reply": "2020-10-20T03:47:23.580895Z"
    },
    "papermill": {
     "duration": 0.151838,
     "end_time": "2020-10-20T03:47:23.581716",
     "exception": false,
     "start_time": "2020-10-20T03:47:23.429878",
     "status": "completed"
    },
    "tags": []
   },
   "outputs": [
    {
     "name": "stdout",
     "output_type": "stream",
     "text": [
      "today          :  2020-10-20\n",
      "after 2 days   :  2020-10-22\n",
      "before 3 days  :  2020-10-17\n",
      "after 1 week   :  2020-10-27\n",
      "after 10 weeks :  2020-12-29\n"
     ]
    }
   ],
   "source": [
    "# 41. Get today in numpy and deltas\n",
    "\n",
    "today = np.datetime64('today', 'D')\n",
    "print('today          : ', today)\n",
    "\n",
    "after2days = np.datetime64('today', 'D') + np.timedelta64(2, 'D')\n",
    "print('after 2 days   : ', after2days)\n",
    "\n",
    "before3days = np.datetime64('today', 'D') - np.timedelta64(3, 'D')\n",
    "print('before 3 days  : ', before3days)\n",
    "\n",
    "after1week = np.datetime64('today', 'D') + np.timedelta64(1, 'W')\n",
    "print('after 1 week   : ', after1week)\n",
    "\n",
    "after10weeks = np.datetime64('today', 'D') + np.timedelta64(10, 'W')\n",
    "print('after 10 weeks : ', after10weeks)"
   ]
  },
  {
   "cell_type": "markdown",
   "metadata": {
    "papermill": {
     "duration": 0.141134,
     "end_time": "2020-10-20T03:47:23.865293",
     "exception": false,
     "start_time": "2020-10-20T03:47:23.724159",
     "status": "completed"
    },
    "tags": []
   },
   "source": [
    "<div style=\"\">\n",
    "    <div style=\"float: left; width: 80%;\">\n",
    "        <a id=\"42\"></a>\n",
    "        <font><b>Task 42:</b></font>\n",
    "        <br><br>\n",
    "        Between two Dates\n",
    "    </div>\n",
    "    <div style=\"float: right;\">\n",
    "        <a href=\"#top\" class=\"btn btn-primary btn-sm\" role=\"button\" aria-pressed=\"true\" style=\"color:white\" data-toggle=\"popover\" title=\"go to Top\">Go to Top</a>\n",
    "    </div>\n",
    "    <br style=\"clear: left;\" />\n",
    "</div>"
   ]
  },
  {
   "cell_type": "code",
   "execution_count": 47,
   "metadata": {
    "execution": {
     "iopub.execute_input": "2020-10-20T03:47:24.155025Z",
     "iopub.status.busy": "2020-10-20T03:47:24.154258Z",
     "iopub.status.idle": "2020-10-20T03:47:24.157973Z",
     "shell.execute_reply": "2020-10-20T03:47:24.157298Z"
    },
    "papermill": {
     "duration": 0.151463,
     "end_time": "2020-10-20T03:47:24.158089",
     "exception": false,
     "start_time": "2020-10-20T03:47:24.006626",
     "status": "completed"
    },
    "tags": []
   },
   "outputs": [
    {
     "name": "stdout",
     "output_type": "stream",
     "text": [
      "Between two dates : 2020-09-15 and 2020-09-25\n",
      "['2020-09-15' '2020-09-16' '2020-09-17' '2020-09-18' '2020-09-19'\n",
      " '2020-09-20' '2020-09-21' '2020-09-22' '2020-09-23' '2020-09-24']\n",
      "\n",
      "Between 2 months : 2020-09 and 2020-10\n",
      "['2020-09-01' '2020-09-02' '2020-09-03' '2020-09-04' '2020-09-05'\n",
      " '2020-09-06' '2020-09-07' '2020-09-08' '2020-09-09' '2020-09-10'\n",
      " '2020-09-11' '2020-09-12' '2020-09-13' '2020-09-14' '2020-09-15'\n",
      " '2020-09-16' '2020-09-17' '2020-09-18' '2020-09-19' '2020-09-20'\n",
      " '2020-09-21' '2020-09-22' '2020-09-23' '2020-09-24' '2020-09-25'\n",
      " '2020-09-26' '2020-09-27' '2020-09-28' '2020-09-29' '2020-09-30']\n"
     ]
    }
   ],
   "source": [
    "# 42. Between two Dates\n",
    "\n",
    "a = np.arange('2020-09-15', '2020-09-25', dtype='datetime64[D]')\n",
    "print('Between two dates : 2020-09-15 and 2020-09-25')\n",
    "print(a)\n",
    "\n",
    "a = np.arange('2020-09', '2020-10', dtype='datetime64[D]')\n",
    "print('\\nBetween 2 months : 2020-09 and 2020-10')\n",
    "print(a)"
   ]
  },
  {
   "cell_type": "markdown",
   "metadata": {
    "papermill": {
     "duration": 0.142086,
     "end_time": "2020-10-20T03:47:24.442171",
     "exception": false,
     "start_time": "2020-10-20T03:47:24.300085",
     "status": "completed"
    },
    "tags": []
   },
   "source": [
    "<div style=\"\">\n",
    "    <div style=\"float: left; width: 80%;\">\n",
    "        <a id=\"43\"></a>\n",
    "        <font><b>Task 43:</b></font>\n",
    "        <br><br>\n",
    "        Random array and sorting\n",
    "    </div>\n",
    "    <div style=\"float: right;\">\n",
    "        <a href=\"#top\" class=\"btn btn-primary btn-sm\" role=\"button\" aria-pressed=\"true\" style=\"color:white\" data-toggle=\"popover\" title=\"go to Top\">Go to Top</a>\n",
    "    </div>\n",
    "    <br style=\"clear: left;\" />\n",
    "</div>"
   ]
  },
  {
   "cell_type": "code",
   "execution_count": 48,
   "metadata": {
    "execution": {
     "iopub.execute_input": "2020-10-20T03:47:24.731789Z",
     "iopub.status.busy": "2020-10-20T03:47:24.731165Z",
     "iopub.status.idle": "2020-10-20T03:47:24.735205Z",
     "shell.execute_reply": "2020-10-20T03:47:24.734490Z"
    },
    "papermill": {
     "duration": 0.152274,
     "end_time": "2020-10-20T03:47:24.735326",
     "exception": false,
     "start_time": "2020-10-20T03:47:24.583052",
     "status": "completed"
    },
    "tags": []
   },
   "outputs": [
    {
     "name": "stdout",
     "output_type": "stream",
     "text": [
      "Before : \n",
      "[0.92839216 0.68083866 0.8738732  0.55436918 0.05125383]\n",
      "\n",
      "After : \n",
      "[0.05125383 0.55436918 0.68083866 0.8738732  0.92839216]\n"
     ]
    }
   ],
   "source": [
    "# 43. Random array and sorting\n",
    "\n",
    "a = np.random.random(5)\n",
    "\n",
    "print('Before : ')\n",
    "print(a)\n",
    "\n",
    "a.sort()\n",
    "print('\\nAfter : ')\n",
    "print(a)"
   ]
  },
  {
   "cell_type": "markdown",
   "metadata": {
    "papermill": {
     "duration": 0.140886,
     "end_time": "2020-10-20T03:47:25.018103",
     "exception": false,
     "start_time": "2020-10-20T03:47:24.877217",
     "status": "completed"
    },
    "tags": []
   },
   "source": [
    "<div style=\"\">\n",
    "    <div style=\"float: left; width: 80%;\">\n",
    "        <a id=\"44\"></a>\n",
    "        <font><b>Task 44:</b></font>\n",
    "        <br><br>\n",
    "        Random int array and sorting\n",
    "    </div>\n",
    "    <div style=\"float: right;\">\n",
    "        <a href=\"#top\" class=\"btn btn-primary btn-sm\" role=\"button\" aria-pressed=\"true\" style=\"color:white\" data-toggle=\"popover\" title=\"go to Top\">Go to Top</a>\n",
    "    </div>\n",
    "    <br style=\"clear: left;\" />\n",
    "</div>"
   ]
  },
  {
   "cell_type": "code",
   "execution_count": 49,
   "metadata": {
    "execution": {
     "iopub.execute_input": "2020-10-20T03:47:25.310449Z",
     "iopub.status.busy": "2020-10-20T03:47:25.309811Z",
     "iopub.status.idle": "2020-10-20T03:47:25.314285Z",
     "shell.execute_reply": "2020-10-20T03:47:25.313796Z"
    },
    "papermill": {
     "duration": 0.152678,
     "end_time": "2020-10-20T03:47:25.314398",
     "exception": false,
     "start_time": "2020-10-20T03:47:25.161720",
     "status": "completed"
    },
    "tags": []
   },
   "outputs": [
    {
     "name": "stdout",
     "output_type": "stream",
     "text": [
      "Before : \n",
      "[62 84 58 75 96]\n",
      "\n",
      "After : \n",
      "[58 62 75 84 96]\n"
     ]
    }
   ],
   "source": [
    "# 44. Random int array and sorting\n",
    "\n",
    "a = np.random.randint(50, 100, 5)\n",
    "\n",
    "print('Before : ')\n",
    "print(a)\n",
    "\n",
    "a.sort()\n",
    "print('\\nAfter : ')\n",
    "print(a)"
   ]
  },
  {
   "cell_type": "markdown",
   "metadata": {
    "papermill": {
     "duration": 0.14336,
     "end_time": "2020-10-20T03:47:25.599941",
     "exception": false,
     "start_time": "2020-10-20T03:47:25.456581",
     "status": "completed"
    },
    "tags": []
   },
   "source": [
    "<div style=\"\">\n",
    "    <div style=\"float: left; width: 80%;\">\n",
    "        <a id=\"45\"></a>\n",
    "        <font><b>Task 45:</b></font>\n",
    "        <br><br>\n",
    "        String to nump,y array\n",
    "    </div>\n",
    "    <div style=\"float: right;\">\n",
    "        <a href=\"#top\" class=\"btn btn-primary btn-sm\" role=\"button\" aria-pressed=\"true\" style=\"color:white\" data-toggle=\"popover\" title=\"go to Top\">Go to Top</a>\n",
    "    </div>\n",
    "    <br style=\"clear: left;\" />\n",
    "</div>"
   ]
  },
  {
   "cell_type": "code",
   "execution_count": 50,
   "metadata": {
    "execution": {
     "iopub.execute_input": "2020-10-20T03:47:25.890888Z",
     "iopub.status.busy": "2020-10-20T03:47:25.890258Z",
     "iopub.status.idle": "2020-10-20T03:47:25.892842Z",
     "shell.execute_reply": "2020-10-20T03:47:25.893354Z"
    },
    "papermill": {
     "duration": 0.15075,
     "end_time": "2020-10-20T03:47:25.893516",
     "exception": false,
     "start_time": "2020-10-20T03:47:25.742766",
     "status": "completed"
    },
    "tags": []
   },
   "outputs": [
    {
     "name": "stdout",
     "output_type": "stream",
     "text": [
      "[[ 1  2  3]\n",
      " [ 6 -1  8]\n",
      " [20 -1 20]]\n"
     ]
    }
   ],
   "source": [
    "# 45. String to nump,y array\n",
    "\n",
    "from io import StringIO\n",
    "\n",
    "content = StringIO('''\n",
    "1, 2, 3\n",
    "6, ,  8\n",
    "20, , 20\n",
    "''')\n",
    "a = np.genfromtxt(content, delimiter=\",\", dtype=np.int)\n",
    "print(a)"
   ]
  },
  {
   "cell_type": "markdown",
   "metadata": {
    "papermill": {
     "duration": 0.143365,
     "end_time": "2020-10-20T03:47:26.180236",
     "exception": false,
     "start_time": "2020-10-20T03:47:26.036871",
     "status": "completed"
    },
    "tags": []
   },
   "source": [
    "<div style=\"\">\n",
    "    <div style=\"float: left; width: 80%;\">\n",
    "        <a id=\"46\"></a>\n",
    "        <font><b>Task 46:</b></font>\n",
    "        <br><br>\n",
    "        Find the nearest element in the array\n",
    "    </div>\n",
    "    <div style=\"float: right;\">\n",
    "        <a href=\"#top\" class=\"btn btn-primary btn-sm\" role=\"button\" aria-pressed=\"true\" style=\"color:white\" data-toggle=\"popover\" title=\"go to Top\">Go to Top</a>\n",
    "    </div>\n",
    "    <br style=\"clear: left;\" />\n",
    "</div>"
   ]
  },
  {
   "cell_type": "code",
   "execution_count": 51,
   "metadata": {
    "execution": {
     "iopub.execute_input": "2020-10-20T03:47:26.479211Z",
     "iopub.status.busy": "2020-10-20T03:47:26.478337Z",
     "iopub.status.idle": "2020-10-20T03:47:26.482315Z",
     "shell.execute_reply": "2020-10-20T03:47:26.481623Z"
    },
    "papermill": {
     "duration": 0.155627,
     "end_time": "2020-10-20T03:47:26.482511",
     "exception": false,
     "start_time": "2020-10-20T03:47:26.326884",
     "status": "completed"
    },
    "tags": []
   },
   "outputs": [
    {
     "name": "stdout",
     "output_type": "stream",
     "text": [
      "[10 17 24 31 38 45 52 59]\n",
      "Elemenet near by 23 : 24\n"
     ]
    }
   ],
   "source": [
    "# 46. Find the nearest element in the array\n",
    "\n",
    "a = np.arange(10, 60, 7)\n",
    "print(a)\n",
    "\n",
    "b = 23\n",
    "c = a.flat[np.abs(a - b).argmin()]\n",
    "print(f'Elemenet near by {b} : {c}')"
   ]
  },
  {
   "cell_type": "markdown",
   "metadata": {
    "papermill": {
     "duration": 0.146707,
     "end_time": "2020-10-20T03:47:26.823235",
     "exception": false,
     "start_time": "2020-10-20T03:47:26.676528",
     "status": "completed"
    },
    "tags": []
   },
   "source": [
    "<div style=\"\">\n",
    "    <div style=\"float: left; width: 80%;\">\n",
    "        <a id=\"47\"></a>\n",
    "        <font><b>Task 47:</b></font>\n",
    "        <br><br>\n",
    "        Swap rows\n",
    "    </div>\n",
    "    <div style=\"float: right;\">\n",
    "        <a href=\"#top\" class=\"btn btn-primary btn-sm\" role=\"button\" aria-pressed=\"true\" style=\"color:white\" data-toggle=\"popover\" title=\"go to Top\">Go to Top</a>\n",
    "    </div>\n",
    "    <br style=\"clear: left;\" />\n",
    "</div>"
   ]
  },
  {
   "cell_type": "code",
   "execution_count": 52,
   "metadata": {
    "execution": {
     "iopub.execute_input": "2020-10-20T03:47:27.119616Z",
     "iopub.status.busy": "2020-10-20T03:47:27.118990Z",
     "iopub.status.idle": "2020-10-20T03:47:27.122456Z",
     "shell.execute_reply": "2020-10-20T03:47:27.121948Z"
    },
    "papermill": {
     "duration": 0.153215,
     "end_time": "2020-10-20T03:47:27.122617",
     "exception": false,
     "start_time": "2020-10-20T03:47:26.969402",
     "status": "completed"
    },
    "tags": []
   },
   "outputs": [
    {
     "name": "stdout",
     "output_type": "stream",
     "text": [
      "Before : \n",
      "[[0 1 2]\n",
      " [3 4 5]\n",
      " [6 7 8]]\n",
      "\n",
      "After : \n",
      "[[3 4 5]\n",
      " [0 1 2]\n",
      " [6 7 8]]\n"
     ]
    }
   ],
   "source": [
    "# 47. Swap rows\n",
    "\n",
    "a = np.arange(9).reshape(3, 3)\n",
    "print('Before : ')\n",
    "print(a)\n",
    "\n",
    "a[[0,1]] = a[[1, 0]]\n",
    "\n",
    "print('\\nAfter : ')\n",
    "print(a)"
   ]
  },
  {
   "cell_type": "markdown",
   "metadata": {
    "papermill": {
     "duration": 0.145829,
     "end_time": "2020-10-20T03:47:27.418963",
     "exception": false,
     "start_time": "2020-10-20T03:47:27.273134",
     "status": "completed"
    },
    "tags": []
   },
   "source": [
    "<div style=\"\">\n",
    "    <div style=\"float: left; width: 80%;\">\n",
    "        <a id=\"48\"></a>\n",
    "        <font><b>Task 48:</b></font>\n",
    "        <br><br>\n",
    "        Shuffle\n",
    "    </div>\n",
    "    <div style=\"float: right;\">\n",
    "        <a href=\"#top\" class=\"btn btn-primary btn-sm\" role=\"button\" aria-pressed=\"true\" style=\"color:white\" data-toggle=\"popover\" title=\"go to Top\">Go to Top</a>\n",
    "    </div>\n",
    "    <br style=\"clear: left;\" />\n",
    "</div>"
   ]
  },
  {
   "cell_type": "code",
   "execution_count": 53,
   "metadata": {
    "execution": {
     "iopub.execute_input": "2020-10-20T03:47:27.712420Z",
     "iopub.status.busy": "2020-10-20T03:47:27.711753Z",
     "iopub.status.idle": "2020-10-20T03:47:27.716237Z",
     "shell.execute_reply": "2020-10-20T03:47:27.715392Z"
    },
    "papermill": {
     "duration": 0.153718,
     "end_time": "2020-10-20T03:47:27.716377",
     "exception": false,
     "start_time": "2020-10-20T03:47:27.562659",
     "status": "completed"
    },
    "tags": []
   },
   "outputs": [
    {
     "name": "stdout",
     "output_type": "stream",
     "text": [
      "Before : \n",
      "[ 0  1  2  3  4  5  6  7  8  9 10 11 12 13 14 15 16 17 18 19]\n",
      "\n",
      "After : \n",
      "[19  9  1  3 13 11 14  7  8 12  6  5 10 17 18 15  0  2  4 16]\n"
     ]
    }
   ],
   "source": [
    "# 48. Shuffle\n",
    "\n",
    "a = np.arange(20)\n",
    "print('Before : ')\n",
    "print(a)\n",
    "\n",
    "np.random.shuffle(a)\n",
    "\n",
    "print('\\nAfter : ')\n",
    "print(a)"
   ]
  },
  {
   "cell_type": "markdown",
   "metadata": {
    "papermill": {
     "duration": 0.143519,
     "end_time": "2020-10-20T03:47:28.005063",
     "exception": false,
     "start_time": "2020-10-20T03:47:27.861544",
     "status": "completed"
    },
    "tags": []
   },
   "source": [
    "<div style=\"\">\n",
    "    <div style=\"float: left; width: 80%;\">\n",
    "        <a id=\"49\"></a>\n",
    "        <font><b>Task 49:</b></font>\n",
    "        <br><br>\n",
    "        Get specific element\n",
    "    </div>\n",
    "    <div style=\"float: right;\">\n",
    "        <a href=\"#top\" class=\"btn btn-primary btn-sm\" role=\"button\" aria-pressed=\"true\" style=\"color:white\" data-toggle=\"popover\" title=\"go to Top\">Go to Top</a>\n",
    "    </div>\n",
    "    <br style=\"clear: left;\" />\n",
    "</div>"
   ]
  },
  {
   "cell_type": "code",
   "execution_count": 54,
   "metadata": {
    "execution": {
     "iopub.execute_input": "2020-10-20T03:47:28.298982Z",
     "iopub.status.busy": "2020-10-20T03:47:28.298198Z",
     "iopub.status.idle": "2020-10-20T03:47:28.302208Z",
     "shell.execute_reply": "2020-10-20T03:47:28.301350Z"
    },
    "papermill": {
     "duration": 0.154118,
     "end_time": "2020-10-20T03:47:28.302358",
     "exception": false,
     "start_time": "2020-10-20T03:47:28.148240",
     "status": "completed"
    },
    "tags": []
   },
   "outputs": [
    {
     "name": "stdout",
     "output_type": "stream",
     "text": [
      "[[[ 0  1  2]\n",
      "  [ 3  4  5]\n",
      "  [ 6  7  8]]\n",
      "\n",
      " [[ 9 10 11]\n",
      "  [12 13 14]\n",
      "  [15 16 17]]\n",
      "\n",
      " [[18 19 20]\n",
      "  [21 22 23]\n",
      "  [24 25 26]]]\n",
      "4\n"
     ]
    }
   ],
   "source": [
    "# 49. Get specific element\n",
    "\n",
    "a = np.arange(27).reshape(3, 3, 3)\n",
    "print(a)\n",
    "\n",
    "print(a[0, 1, 1])"
   ]
  },
  {
   "cell_type": "markdown",
   "metadata": {
    "papermill": {
     "duration": 0.143684,
     "end_time": "2020-10-20T03:47:28.591782",
     "exception": false,
     "start_time": "2020-10-20T03:47:28.448098",
     "status": "completed"
    },
    "tags": []
   },
   "source": [
    "<div style=\"\">\n",
    "    <div style=\"float: left; width: 80%;\">\n",
    "        <a id=\"50\"></a>\n",
    "        <font><b>Task 50:</b></font>\n",
    "        <br><br>\n",
    "        Repeat an array\n",
    "    </div>\n",
    "    <div style=\"float: right;\">\n",
    "        <a href=\"#top\" class=\"btn btn-primary btn-sm\" role=\"button\" aria-pressed=\"true\" style=\"color:white\" data-toggle=\"popover\" title=\"go to Top\">Go to Top</a>\n",
    "    </div>\n",
    "    <br style=\"clear: left;\" />\n",
    "</div>"
   ]
  },
  {
   "cell_type": "code",
   "execution_count": 55,
   "metadata": {
    "execution": {
     "iopub.execute_input": "2020-10-20T03:47:28.890868Z",
     "iopub.status.busy": "2020-10-20T03:47:28.890057Z",
     "iopub.status.idle": "2020-10-20T03:47:28.893103Z",
     "shell.execute_reply": "2020-10-20T03:47:28.893649Z"
    },
    "papermill": {
     "duration": 0.156663,
     "end_time": "2020-10-20T03:47:28.893792",
     "exception": false,
     "start_time": "2020-10-20T03:47:28.737129",
     "status": "completed"
    },
    "tags": []
   },
   "outputs": [
    {
     "name": "stdout",
     "output_type": "stream",
     "text": [
      "Before : \n",
      "[[1 2 3]]\n",
      "\n",
      "After : \n",
      "[[1 2 3]\n",
      " [1 2 3]\n",
      " [1 2 3]]\n"
     ]
    }
   ],
   "source": [
    "# 50. Repeat an array\n",
    "\n",
    "a = np.array([[1, 2, 3]])\n",
    "print('Before : ')\n",
    "print(a)\n",
    "\n",
    "b = np.repeat(a, 3, axis=0)\n",
    "print('\\nAfter : ')\n",
    "print(b)"
   ]
  },
  {
   "cell_type": "markdown",
   "metadata": {
    "papermill": {
     "duration": 0.146547,
     "end_time": "2020-10-20T03:47:29.185581",
     "exception": false,
     "start_time": "2020-10-20T03:47:29.039034",
     "status": "completed"
    },
    "tags": []
   },
   "source": [
    "<div style=\"\">\n",
    "    <div style=\"float: left; width: 80%;\">\n",
    "        <a id=\"51\"></a>\n",
    "        <font><b>Task 51:</b></font>\n",
    "        <br><br>\n",
    "        Min, Max, Sum\n",
    "    </div>\n",
    "    <div style=\"float: right;\">\n",
    "        <a href=\"#top\" class=\"btn btn-primary btn-sm\" role=\"button\" aria-pressed=\"true\" style=\"color:white\" data-toggle=\"popover\" title=\"go to Top\">Go to Top</a>\n",
    "    </div>\n",
    "    <br style=\"clear: left;\" />\n",
    "</div>"
   ]
  },
  {
   "cell_type": "code",
   "execution_count": 56,
   "metadata": {
    "execution": {
     "iopub.execute_input": "2020-10-20T03:47:29.485323Z",
     "iopub.status.busy": "2020-10-20T03:47:29.484389Z",
     "iopub.status.idle": "2020-10-20T03:47:29.488881Z",
     "shell.execute_reply": "2020-10-20T03:47:29.488003Z"
    },
    "papermill": {
     "duration": 0.157698,
     "end_time": "2020-10-20T03:47:29.488999",
     "exception": false,
     "start_time": "2020-10-20T03:47:29.331301",
     "status": "completed"
    },
    "tags": []
   },
   "outputs": [
    {
     "name": "stdout",
     "output_type": "stream",
     "text": [
      "[[1 2 3]\n",
      " [4 5 6]]\n",
      "Mean :  1\n",
      "Max :  6\n",
      "Sum :  21\n"
     ]
    }
   ],
   "source": [
    "# 51. Min, Max, Sum\n",
    "\n",
    "a = np.arange(6).reshape(2, 3)\n",
    "a += 1\n",
    "print(a)\n",
    "\n",
    "a_mean = np.min(a)\n",
    "print('Mean : ', a_mean)\n",
    "\n",
    "a_max = np.max(a)\n",
    "print('Max : ', a_max)\n",
    "\n",
    "a_sum = np.sum(a)\n",
    "print('Sum : ', a_sum)"
   ]
  },
  {
   "cell_type": "markdown",
   "metadata": {
    "papermill": {
     "duration": 0.145389,
     "end_time": "2020-10-20T03:47:29.779970",
     "exception": false,
     "start_time": "2020-10-20T03:47:29.634581",
     "status": "completed"
    },
    "tags": []
   },
   "source": [
    "<div style=\"\">\n",
    "    <div style=\"float: left; width: 80%;\">\n",
    "        <a id=\"52\"></a>\n",
    "        <font><b>Task 52:</b></font>\n",
    "        <br><br>\n",
    "        Get min of axis = 1\n",
    "    </div>\n",
    "    <div style=\"float: right;\">\n",
    "        <a href=\"#top\" class=\"btn btn-primary btn-sm\" role=\"button\" aria-pressed=\"true\" style=\"color:white\" data-toggle=\"popover\" title=\"go to Top\">Go to Top</a>\n",
    "    </div>\n",
    "    <br style=\"clear: left;\" />\n",
    "</div>"
   ]
  },
  {
   "cell_type": "code",
   "execution_count": 57,
   "metadata": {
    "execution": {
     "iopub.execute_input": "2020-10-20T03:47:30.076908Z",
     "iopub.status.busy": "2020-10-20T03:47:30.076135Z",
     "iopub.status.idle": "2020-10-20T03:47:30.080260Z",
     "shell.execute_reply": "2020-10-20T03:47:30.079336Z"
    },
    "papermill": {
     "duration": 0.155504,
     "end_time": "2020-10-20T03:47:30.080423",
     "exception": false,
     "start_time": "2020-10-20T03:47:29.924919",
     "status": "completed"
    },
    "tags": []
   },
   "outputs": [
    {
     "name": "stdout",
     "output_type": "stream",
     "text": [
      "x:\n",
      "[[0 1 2 3 4]\n",
      " [5 6 7 8 9]]\n",
      "\n",
      "x.min(axis = 1) : \n",
      "[0 5]\n"
     ]
    }
   ],
   "source": [
    "# 52. Get min of axis = 1\n",
    "\n",
    "x = np.arange(10).reshape((2, 5))\n",
    "\n",
    "print('x:')\n",
    "print(x)\n",
    "\n",
    "print('\\nx.min(axis = 1) : ')\n",
    "print(x.min(axis = 1))"
   ]
  },
  {
   "cell_type": "markdown",
   "metadata": {
    "papermill": {
     "duration": 0.14719,
     "end_time": "2020-10-20T03:47:30.376883",
     "exception": false,
     "start_time": "2020-10-20T03:47:30.229693",
     "status": "completed"
    },
    "tags": []
   },
   "source": [
    "<div style=\"\">\n",
    "    <div style=\"float: left; width: 80%;\">\n",
    "        <a id=\"53\"></a>\n",
    "        <font><b>Task 53:</b></font>\n",
    "        <br><br>\n",
    "        Using amin function\n",
    "    </div>\n",
    "    <div style=\"float: right;\">\n",
    "        <a href=\"#top\" class=\"btn btn-primary btn-sm\" role=\"button\" aria-pressed=\"true\" style=\"color:white\" data-toggle=\"popover\" title=\"go to Top\">Go to Top</a>\n",
    "    </div>\n",
    "    <br style=\"clear: left;\" />\n",
    "</div>"
   ]
  },
  {
   "cell_type": "code",
   "execution_count": 58,
   "metadata": {
    "execution": {
     "iopub.execute_input": "2020-10-20T03:47:30.674278Z",
     "iopub.status.busy": "2020-10-20T03:47:30.673645Z",
     "iopub.status.idle": "2020-10-20T03:47:30.678108Z",
     "shell.execute_reply": "2020-10-20T03:47:30.677539Z"
    },
    "papermill": {
     "duration": 0.155363,
     "end_time": "2020-10-20T03:47:30.678218",
     "exception": false,
     "start_time": "2020-10-20T03:47:30.522855",
     "status": "completed"
    },
    "tags": []
   },
   "outputs": [
    {
     "name": "stdout",
     "output_type": "stream",
     "text": [
      "x:\n",
      "[[0 1 2 3 4]\n",
      " [5 6 7 8 9]]\n",
      "\n",
      "np.amin(x, 1) : \n",
      "[0 5]\n"
     ]
    }
   ],
   "source": [
    "# 53. Using amin function\n",
    "\n",
    "x = np.arange(10).reshape((2, 5))\n",
    "print('x:')\n",
    "print(x)\n",
    "\n",
    "print('\\nnp.amin(x, 1) : ')\n",
    "print(np.amin(x, 1))"
   ]
  },
  {
   "cell_type": "markdown",
   "metadata": {
    "papermill": {
     "duration": 0.145553,
     "end_time": "2020-10-20T03:47:30.971077",
     "exception": false,
     "start_time": "2020-10-20T03:47:30.825524",
     "status": "completed"
    },
    "tags": []
   },
   "source": [
    "<div style=\"\">\n",
    "    <div style=\"float: left; width: 80%;\">\n",
    "        <a id=\"54\"></a>\n",
    "        <font><b>Task 54:</b></font>\n",
    "        <br><br>\n",
    "        Using amax function\n",
    "    </div>\n",
    "    <div style=\"float: right;\">\n",
    "        <a href=\"#top\" class=\"btn btn-primary btn-sm\" role=\"button\" aria-pressed=\"true\" style=\"color:white\" data-toggle=\"popover\" title=\"go to Top\">Go to Top</a>\n",
    "    </div>\n",
    "    <br style=\"clear: left;\" />\n",
    "</div>"
   ]
  },
  {
   "cell_type": "code",
   "execution_count": 59,
   "metadata": {
    "execution": {
     "iopub.execute_input": "2020-10-20T03:47:31.271978Z",
     "iopub.status.busy": "2020-10-20T03:47:31.271137Z",
     "iopub.status.idle": "2020-10-20T03:47:31.274316Z",
     "shell.execute_reply": "2020-10-20T03:47:31.275009Z"
    },
    "papermill": {
     "duration": 0.157948,
     "end_time": "2020-10-20T03:47:31.275193",
     "exception": false,
     "start_time": "2020-10-20T03:47:31.117245",
     "status": "completed"
    },
    "tags": []
   },
   "outputs": [
    {
     "name": "stdout",
     "output_type": "stream",
     "text": [
      "x:\n",
      "[[0 1 2 3 4]\n",
      " [5 6 7 8 9]]\n",
      "\n",
      "np.amax(x, 1) : \n",
      "[4 9]\n"
     ]
    }
   ],
   "source": [
    "# 54. Using amax function\n",
    "\n",
    "x = np.arange(10).reshape((2, 5))\n",
    "print('x:')\n",
    "print(x)\n",
    "\n",
    "print('\\nnp.amax(x, 1) : ')\n",
    "print(np.amax(x, 1))"
   ]
  },
  {
   "cell_type": "markdown",
   "metadata": {
    "papermill": {
     "duration": 0.146365,
     "end_time": "2020-10-20T03:47:31.570418",
     "exception": false,
     "start_time": "2020-10-20T03:47:31.424053",
     "status": "completed"
    },
    "tags": []
   },
   "source": [
    "<div style=\"\">\n",
    "    <div style=\"float: left; width: 80%;\">\n",
    "        <a id=\"55\"></a>\n",
    "        <font><b>Task 55:</b></font>\n",
    "        <br><br>\n",
    "        Get min of axis = 0\n",
    "    </div>\n",
    "    <div style=\"float: right;\">\n",
    "        <a href=\"#top\" class=\"btn btn-primary btn-sm\" role=\"button\" aria-pressed=\"true\" style=\"color:white\" data-toggle=\"popover\" title=\"go to Top\">Go to Top</a>\n",
    "    </div>\n",
    "    <br style=\"clear: left;\" />\n",
    "</div>"
   ]
  },
  {
   "cell_type": "code",
   "execution_count": 60,
   "metadata": {
    "execution": {
     "iopub.execute_input": "2020-10-20T03:47:31.871302Z",
     "iopub.status.busy": "2020-10-20T03:47:31.870510Z",
     "iopub.status.idle": "2020-10-20T03:47:31.873544Z",
     "shell.execute_reply": "2020-10-20T03:47:31.874260Z"
    },
    "papermill": {
     "duration": 0.157504,
     "end_time": "2020-10-20T03:47:31.874457",
     "exception": false,
     "start_time": "2020-10-20T03:47:31.716953",
     "status": "completed"
    },
    "tags": []
   },
   "outputs": [
    {
     "name": "stdout",
     "output_type": "stream",
     "text": [
      "x:\n",
      "[[0 1 2]\n",
      " [3 4 5]]\n",
      "\n",
      "x.min(axis = 0) : \n",
      "[0 1 2]\n"
     ]
    }
   ],
   "source": [
    "# 55. Get min of axis = 0\n",
    "\n",
    "x = np.arange(6).reshape((2, 3))\n",
    "print('x:')\n",
    "print(x)\n",
    "\n",
    "print('\\nx.min(axis = 0) : ')\n",
    "print(x.min(axis = 0))"
   ]
  },
  {
   "cell_type": "markdown",
   "metadata": {
    "papermill": {
     "duration": 0.148194,
     "end_time": "2020-10-20T03:47:32.169966",
     "exception": false,
     "start_time": "2020-10-20T03:47:32.021772",
     "status": "completed"
    },
    "tags": []
   },
   "source": [
    "<div style=\"\">\n",
    "    <div style=\"float: left; width: 80%;\">\n",
    "        <a id=\"56\"></a>\n",
    "        <font><b>Task 56:</b></font>\n",
    "        <br><br>\n",
    "        Calculate 90th percentile of an axis\n",
    "    </div>\n",
    "    <div style=\"float: right;\">\n",
    "        <a href=\"#top\" class=\"btn btn-primary btn-sm\" role=\"button\" aria-pressed=\"true\" style=\"color:white\" data-toggle=\"popover\" title=\"go to Top\">Go to Top</a>\n",
    "    </div>\n",
    "    <br style=\"clear: left;\" />\n",
    "</div>"
   ]
  },
  {
   "cell_type": "code",
   "execution_count": 61,
   "metadata": {
    "execution": {
     "iopub.execute_input": "2020-10-20T03:47:32.476151Z",
     "iopub.status.busy": "2020-10-20T03:47:32.475327Z",
     "iopub.status.idle": "2020-10-20T03:47:32.482342Z",
     "shell.execute_reply": "2020-10-20T03:47:32.481622Z"
    },
    "papermill": {
     "duration": 0.163646,
     "end_time": "2020-10-20T03:47:32.482521",
     "exception": false,
     "start_time": "2020-10-20T03:47:32.318875",
     "status": "completed"
    },
    "tags": []
   },
   "outputs": [
    {
     "name": "stdout",
     "output_type": "stream",
     "text": [
      "x:\n",
      "[[0 1 2]\n",
      " [3 4 5]]\n",
      "\n",
      "np.percentile(x, 90, 0): \n",
      "[2.7 3.7 4.7]\n"
     ]
    }
   ],
   "source": [
    "# 56. Calculate 90th percentile of an axis\n",
    "\n",
    "x = np.arange(6).reshape((2, 3))\n",
    "print('x:')\n",
    "print(x)\n",
    "\n",
    "print('\\nnp.percentile(x, 90, 0): ')\n",
    "print(np.percentile(x, 90, 0))"
   ]
  },
  {
   "cell_type": "markdown",
   "metadata": {
    "papermill": {
     "duration": 0.149471,
     "end_time": "2020-10-20T03:47:32.785625",
     "exception": false,
     "start_time": "2020-10-20T03:47:32.636154",
     "status": "completed"
    },
    "tags": []
   },
   "source": [
    "<div style=\"\">\n",
    "    <div style=\"float: left; width: 80%;\">\n",
    "        <a id=\"57\"></a>\n",
    "        <font><b>Task 57:</b></font>\n",
    "        <br><br>\n",
    "        Find median\n",
    "    </div>\n",
    "    <div style=\"float: right;\">\n",
    "        <a href=\"#top\" class=\"btn btn-primary btn-sm\" role=\"button\" aria-pressed=\"true\" style=\"color:white\" data-toggle=\"popover\" title=\"go to Top\">Go to Top</a>\n",
    "    </div>\n",
    "    <br style=\"clear: left;\" />\n",
    "</div>"
   ]
  },
  {
   "cell_type": "code",
   "execution_count": 62,
   "metadata": {
    "execution": {
     "iopub.execute_input": "2020-10-20T03:47:33.087612Z",
     "iopub.status.busy": "2020-10-20T03:47:33.086970Z",
     "iopub.status.idle": "2020-10-20T03:47:33.090821Z",
     "shell.execute_reply": "2020-10-20T03:47:33.091370Z"
    },
    "papermill": {
     "duration": 0.158272,
     "end_time": "2020-10-20T03:47:33.091525",
     "exception": false,
     "start_time": "2020-10-20T03:47:32.933253",
     "status": "completed"
    },
    "tags": []
   },
   "outputs": [
    {
     "name": "stdout",
     "output_type": "stream",
     "text": [
      "x:\n",
      "[[0 1 2]\n",
      " [3 4 5]]\n",
      "\n",
      "np.median(x): \n",
      "2.5\n"
     ]
    }
   ],
   "source": [
    "# 57. Find median\n",
    "\n",
    "x = np.arange(6).reshape((2, 3))\n",
    "print('x:')\n",
    "print(x)\n",
    "\n",
    "print('\\nnp.median(x): ')\n",
    "print(np.median(x))"
   ]
  },
  {
   "cell_type": "markdown",
   "metadata": {
    "papermill": {
     "duration": 0.150805,
     "end_time": "2020-10-20T03:47:33.393494",
     "exception": false,
     "start_time": "2020-10-20T03:47:33.242689",
     "status": "completed"
    },
    "tags": []
   },
   "source": [
    "<div style=\"\">\n",
    "    <div style=\"float: left; width: 80%;\">\n",
    "        <a id=\"58\"></a>\n",
    "        <font><b>Task 58:</b></font>\n",
    "        <br><br>\n",
    "        Covariance matrix\n",
    "    </div>\n",
    "    <div style=\"float: right;\">\n",
    "        <a href=\"#top\" class=\"btn btn-primary btn-sm\" role=\"button\" aria-pressed=\"true\" style=\"color:white\" data-toggle=\"popover\" title=\"go to Top\">Go to Top</a>\n",
    "    </div>\n",
    "    <br style=\"clear: left;\" />\n",
    "</div>"
   ]
  },
  {
   "cell_type": "code",
   "execution_count": 63,
   "metadata": {
    "execution": {
     "iopub.execute_input": "2020-10-20T03:47:33.696594Z",
     "iopub.status.busy": "2020-10-20T03:47:33.695894Z",
     "iopub.status.idle": "2020-10-20T03:47:33.702883Z",
     "shell.execute_reply": "2020-10-20T03:47:33.702010Z"
    },
    "papermill": {
     "duration": 0.16181,
     "end_time": "2020-10-20T03:47:33.703039",
     "exception": false,
     "start_time": "2020-10-20T03:47:33.541229",
     "status": "completed"
    },
    "tags": []
   },
   "outputs": [
    {
     "name": "stdout",
     "output_type": "stream",
     "text": [
      "x:\n",
      "[0 1 2]\n",
      "\n",
      "y:\n",
      "[7 8 9]\n",
      "\n",
      "np.cov(x, y): \n",
      "[[1. 1.]\n",
      " [1. 1.]]\n"
     ]
    }
   ],
   "source": [
    "# 58. Covariance matrix\n",
    "\n",
    "x = np.array([0, 1, 2])\n",
    "y = np.array([7, 8, 9])\n",
    "\n",
    "print('x:')\n",
    "print(x)\n",
    "print('\\ny:')\n",
    "print(y)\n",
    "\n",
    "print('\\nnp.cov(x, y): ')\n",
    "print(np.cov(x, y))\n",
    "\n",
    "# note: -1 means perfectly in opposite directions"
   ]
  },
  {
   "cell_type": "markdown",
   "metadata": {
    "papermill": {
     "duration": 0.148304,
     "end_time": "2020-10-20T03:47:34.001974",
     "exception": false,
     "start_time": "2020-10-20T03:47:33.853670",
     "status": "completed"
    },
    "tags": []
   },
   "source": [
    "<div style=\"\">\n",
    "    <div style=\"float: left; width: 80%;\">\n",
    "        <a id=\"59\"></a>\n",
    "        <font><b>Task 59:</b></font>\n",
    "        <br><br>\n",
    "        Pearson product-moment correlation\n",
    "    </div>\n",
    "    <div style=\"float: right;\">\n",
    "        <a href=\"#top\" class=\"btn btn-primary btn-sm\" role=\"button\" aria-pressed=\"true\" style=\"color:white\" data-toggle=\"popover\" title=\"go to Top\">Go to Top</a>\n",
    "    </div>\n",
    "    <br style=\"clear: left;\" />\n",
    "</div>"
   ]
  },
  {
   "cell_type": "code",
   "execution_count": 64,
   "metadata": {
    "execution": {
     "iopub.execute_input": "2020-10-20T03:47:34.312768Z",
     "iopub.status.busy": "2020-10-20T03:47:34.312043Z",
     "iopub.status.idle": "2020-10-20T03:47:34.315939Z",
     "shell.execute_reply": "2020-10-20T03:47:34.315049Z"
    },
    "papermill": {
     "duration": 0.165325,
     "end_time": "2020-10-20T03:47:34.316101",
     "exception": false,
     "start_time": "2020-10-20T03:47:34.150776",
     "status": "completed"
    },
    "tags": []
   },
   "outputs": [
    {
     "name": "stdout",
     "output_type": "stream",
     "text": [
      "x:\n",
      "[0 1 3]\n",
      "\n",
      "y:\n",
      "[2 4 5]\n",
      "\n",
      "np.corrcoef(x, y): \n",
      "[[1.         0.92857143]\n",
      " [0.92857143 1.        ]]\n"
     ]
    }
   ],
   "source": [
    "# 59. Pearson product-moment correlation\n",
    "\n",
    "x = np.array([0, 1, 3])\n",
    "y = np.array([2, 4, 5])\n",
    "print('x:')\n",
    "print(x)\n",
    "print('\\ny:')\n",
    "print(y)\n",
    "\n",
    "print('\\nnp.corrcoef(x, y): ')\n",
    "print(np.corrcoef(x, y))"
   ]
  },
  {
   "cell_type": "markdown",
   "metadata": {
    "papermill": {
     "duration": 0.149685,
     "end_time": "2020-10-20T03:47:34.615896",
     "exception": false,
     "start_time": "2020-10-20T03:47:34.466211",
     "status": "completed"
    },
    "tags": []
   },
   "source": [
    "<div style=\"\">\n",
    "    <div style=\"float: left; width: 80%;\">\n",
    "        <a id=\"60\"></a>\n",
    "        <font><b>Task 60:</b></font>\n",
    "        <br><br>\n",
    "        Cross correlation\n",
    "    </div>\n",
    "    <div style=\"float: right;\">\n",
    "        <a href=\"#top\" class=\"btn btn-primary btn-sm\" role=\"button\" aria-pressed=\"true\" style=\"color:white\" data-toggle=\"popover\" title=\"go to Top\">Go to Top</a>\n",
    "    </div>\n",
    "    <br style=\"clear: left;\" />\n",
    "</div>"
   ]
  },
  {
   "cell_type": "code",
   "execution_count": 65,
   "metadata": {
    "execution": {
     "iopub.execute_input": "2020-10-20T03:47:34.922549Z",
     "iopub.status.busy": "2020-10-20T03:47:34.921686Z",
     "iopub.status.idle": "2020-10-20T03:47:34.926132Z",
     "shell.execute_reply": "2020-10-20T03:47:34.924877Z"
    },
    "papermill": {
     "duration": 0.160739,
     "end_time": "2020-10-20T03:47:34.926316",
     "exception": false,
     "start_time": "2020-10-20T03:47:34.765577",
     "status": "completed"
    },
    "tags": []
   },
   "outputs": [
    {
     "name": "stdout",
     "output_type": "stream",
     "text": [
      "x:\n",
      "[0 1 3]\n",
      "\n",
      "y:\n",
      "[2 4 5]\n",
      "\n",
      "np.correlate(x, y): \n",
      "[19]\n"
     ]
    }
   ],
   "source": [
    "# 60. Cross correlation\n",
    "\n",
    "x = np.array([0, 1, 3])\n",
    "y = np.array([2, 4, 5])\n",
    "print('x:')\n",
    "print(x)\n",
    "print('\\ny:')\n",
    "print(y)\n",
    "\n",
    "print('\\nnp.correlate(x, y): ')\n",
    "print(np.correlate(x, y))"
   ]
  },
  {
   "cell_type": "markdown",
   "metadata": {
    "papermill": {
     "duration": 0.154252,
     "end_time": "2020-10-20T03:47:35.275306",
     "exception": false,
     "start_time": "2020-10-20T03:47:35.121054",
     "status": "completed"
    },
    "tags": []
   },
   "source": [
    "<div style=\"\">\n",
    "    <div style=\"float: left; width: 80%;\">\n",
    "        <a id=\"61\"></a>\n",
    "        <font><b>Task 61:</b></font>\n",
    "        <br><br>\n",
    "        Count the number of occurrences\n",
    "    </div>\n",
    "    <div style=\"float: right;\">\n",
    "        <a href=\"#top\" class=\"btn btn-primary btn-sm\" role=\"button\" aria-pressed=\"true\" style=\"color:white\" data-toggle=\"popover\" title=\"go to Top\">Go to Top</a>\n",
    "    </div>\n",
    "    <br style=\"clear: left;\" />\n",
    "</div>"
   ]
  },
  {
   "cell_type": "code",
   "execution_count": 66,
   "metadata": {
    "execution": {
     "iopub.execute_input": "2020-10-20T03:47:35.583199Z",
     "iopub.status.busy": "2020-10-20T03:47:35.582233Z",
     "iopub.status.idle": "2020-10-20T03:47:35.585700Z",
     "shell.execute_reply": "2020-10-20T03:47:35.586212Z"
    },
    "papermill": {
     "duration": 0.160521,
     "end_time": "2020-10-20T03:47:35.586356",
     "exception": false,
     "start_time": "2020-10-20T03:47:35.425835",
     "status": "completed"
    },
    "tags": []
   },
   "outputs": [
    {
     "name": "stdout",
     "output_type": "stream",
     "text": [
      "x:\n",
      "[1 2 2 1 1 1 5 5]\n",
      "\n",
      "np.bincount(x): \n",
      "[0 4 2 0 0 2]\n"
     ]
    }
   ],
   "source": [
    "# 61. Count the number of occurrences\n",
    "\n",
    "x = np.array([1, 2, 2, 1, 1, 1, 5, 5])\n",
    "\n",
    "print('x:')\n",
    "print(x)\n",
    "\n",
    "print('\\nnp.bincount(x): ')\n",
    "print(np.bincount(x))\n",
    "\n",
    "# how to interpret\n",
    "\n",
    "#    starts from 0\n",
    "#    ends with 5\n",
    "    \n",
    "#    0 appears 0 times\n",
    "#    1 appears 4 times\n",
    "#    ..."
   ]
  },
  {
   "cell_type": "markdown",
   "metadata": {
    "papermill": {
     "duration": 0.151108,
     "end_time": "2020-10-20T03:47:35.888891",
     "exception": false,
     "start_time": "2020-10-20T03:47:35.737783",
     "status": "completed"
    },
    "tags": []
   },
   "source": [
    "<div style=\"\">\n",
    "    <div style=\"float: left; width: 80%;\">\n",
    "        <a id=\"62\"></a>\n",
    "        <font><b>Task 62:</b></font>\n",
    "        <br><br>\n",
    "        Create random int numpy array with specific shape\n",
    "    </div>\n",
    "    <div style=\"float: right;\">\n",
    "        <a href=\"#top\" class=\"btn btn-primary btn-sm\" role=\"button\" aria-pressed=\"true\" style=\"color:white\" data-toggle=\"popover\" title=\"go to Top\">Go to Top</a>\n",
    "    </div>\n",
    "    <br style=\"clear: left;\" />\n",
    "</div>"
   ]
  },
  {
   "cell_type": "code",
   "execution_count": 67,
   "metadata": {
    "execution": {
     "iopub.execute_input": "2020-10-20T03:47:36.198363Z",
     "iopub.status.busy": "2020-10-20T03:47:36.197535Z",
     "iopub.status.idle": "2020-10-20T03:47:36.201842Z",
     "shell.execute_reply": "2020-10-20T03:47:36.200841Z"
    },
    "papermill": {
     "duration": 0.161632,
     "end_time": "2020-10-20T03:47:36.201997",
     "exception": false,
     "start_time": "2020-10-20T03:47:36.040365",
     "status": "completed"
    },
    "tags": []
   },
   "outputs": [
    {
     "name": "stdout",
     "output_type": "stream",
     "text": [
      "np.random.randint(10, 20, (4, 2)):\n",
      "\n",
      "[[12 16]\n",
      " [13 15]\n",
      " [14 10]\n",
      " [10 13]]\n"
     ]
    }
   ],
   "source": [
    "# 62. Create random int numpy array with specific shape\n",
    "\n",
    "x = np.random.randint(10, 20, (4, 2))\n",
    "\n",
    "print('np.random.randint(10, 20, (4, 2)):\\n')\n",
    "print(x)"
   ]
  },
  {
   "cell_type": "markdown",
   "metadata": {
    "papermill": {
     "duration": 0.151325,
     "end_time": "2020-10-20T03:47:36.510651",
     "exception": false,
     "start_time": "2020-10-20T03:47:36.359326",
     "status": "completed"
    },
    "tags": []
   },
   "source": [
    "<div style=\"\">\n",
    "    <div style=\"float: left; width: 80%;\">\n",
    "        <a id=\"63\"></a>\n",
    "        <font><b>Task 63:</b></font>\n",
    "        <br><br>\n",
    "        Create 4 different integers from 0, 40.\n",
    "    </div>\n",
    "    <div style=\"float: right;\">\n",
    "        <a href=\"#top\" class=\"btn btn-primary btn-sm\" role=\"button\" aria-pressed=\"true\" style=\"color:white\" data-toggle=\"popover\" title=\"go to Top\">Go to Top</a>\n",
    "    </div>\n",
    "    <br style=\"clear: left;\" />\n",
    "</div>"
   ]
  },
  {
   "cell_type": "code",
   "execution_count": 68,
   "metadata": {
    "execution": {
     "iopub.execute_input": "2020-10-20T03:47:36.821017Z",
     "iopub.status.busy": "2020-10-20T03:47:36.820381Z",
     "iopub.status.idle": "2020-10-20T03:47:36.825796Z",
     "shell.execute_reply": "2020-10-20T03:47:36.825217Z"
    },
    "papermill": {
     "duration": 0.163144,
     "end_time": "2020-10-20T03:47:36.825956",
     "exception": false,
     "start_time": "2020-10-20T03:47:36.662812",
     "status": "completed"
    },
    "tags": []
   },
   "outputs": [
    {
     "name": "stdout",
     "output_type": "stream",
     "text": [
      "np.random.choice(40, 4, replace = False):\n",
      "\n",
      "[ 1 16  2 19]\n"
     ]
    }
   ],
   "source": [
    "# 63. Create 4 different integers from 0, 40. \n",
    "\n",
    "x = np.random.choice(40, 4, replace = False)\n",
    "\n",
    "print('np.random.choice(40, 4, replace = False):\\n')\n",
    "print(x)"
   ]
  },
  {
   "cell_type": "markdown",
   "metadata": {
    "papermill": {
     "duration": 0.151975,
     "end_time": "2020-10-20T03:47:37.130085",
     "exception": false,
     "start_time": "2020-10-20T03:47:36.978110",
     "status": "completed"
    },
    "tags": []
   },
   "source": [
    "<div style=\"\">\n",
    "    <div style=\"float: left; width: 80%;\">\n",
    "        <a id=\"64\"></a>\n",
    "        <font><b>Task 64:</b></font>\n",
    "        <br><br>\n",
    "        Create 4 different integers from 0, 4. (It will throw error as we can't get 5 unique integers from 4)\n",
    "    </div>\n",
    "    <div style=\"float: right;\">\n",
    "        <a href=\"#top\" class=\"btn btn-primary btn-sm\" role=\"button\" aria-pressed=\"true\" style=\"color:white\" data-toggle=\"popover\" title=\"go to Top\">Go to Top</a>\n",
    "    </div>\n",
    "    <br style=\"clear: left;\" />\n",
    "</div>"
   ]
  },
  {
   "cell_type": "code",
   "execution_count": 69,
   "metadata": {
    "execution": {
     "iopub.execute_input": "2020-10-20T03:47:37.442449Z",
     "iopub.status.busy": "2020-10-20T03:47:37.441789Z",
     "iopub.status.idle": "2020-10-20T03:47:37.446376Z",
     "shell.execute_reply": "2020-10-20T03:47:37.445899Z"
    },
    "papermill": {
     "duration": 0.163458,
     "end_time": "2020-10-20T03:47:37.446509",
     "exception": false,
     "start_time": "2020-10-20T03:47:37.283051",
     "status": "completed"
    },
    "tags": []
   },
   "outputs": [
    {
     "name": "stdout",
     "output_type": "stream",
     "text": [
      "Error :  Cannot take a larger sample than population when 'replace=False'\n"
     ]
    }
   ],
   "source": [
    "# 64. Create 4 different integers from 0, 4. (It will throw error as we can't get 5 unique integers from 4)\n",
    "\n",
    "try:\n",
    "    x = np.random.choice(4, 5, replace = False)\n",
    "    \n",
    "    print('np.random.choice(4, 5, replace = False):\\n')\n",
    "    print(x)\n",
    "except Exception as err:\n",
    "    print('Error : ', err)\n",
    "\n",
    "# It is expected to throw an error"
   ]
  },
  {
   "cell_type": "markdown",
   "metadata": {
    "papermill": {
     "duration": 0.161011,
     "end_time": "2020-10-20T03:47:37.789877",
     "exception": false,
     "start_time": "2020-10-20T03:47:37.628866",
     "status": "completed"
    },
    "tags": []
   },
   "source": [
    "<div style=\"\">\n",
    "    <div style=\"float: left; width: 80%;\">\n",
    "        <a id=\"65\"></a>\n",
    "        <font><b>Task 65:</b></font>\n",
    "        <br><br>\n",
    "        Shuffle\n",
    "    </div>\n",
    "    <div style=\"float: right;\">\n",
    "        <a href=\"#top\" class=\"btn btn-primary btn-sm\" role=\"button\" aria-pressed=\"true\" style=\"color:white\" data-toggle=\"popover\" title=\"go to Top\">Go to Top</a>\n",
    "    </div>\n",
    "    <br style=\"clear: left;\" />\n",
    "</div>"
   ]
  },
  {
   "cell_type": "code",
   "execution_count": 70,
   "metadata": {
    "execution": {
     "iopub.execute_input": "2020-10-20T03:47:38.105993Z",
     "iopub.status.busy": "2020-10-20T03:47:38.105004Z",
     "iopub.status.idle": "2020-10-20T03:47:38.109296Z",
     "shell.execute_reply": "2020-10-20T03:47:38.108270Z"
    },
    "papermill": {
     "duration": 0.165579,
     "end_time": "2020-10-20T03:47:38.109488",
     "exception": false,
     "start_time": "2020-10-20T03:47:37.943909",
     "status": "completed"
    },
    "tags": []
   },
   "outputs": [
    {
     "name": "stdout",
     "output_type": "stream",
     "text": [
      "x Before shuffling:\n",
      "[0 1 2 3 4 5 6 7 8 9]\n",
      "\n",
      "x After shuffling:\n",
      "[1 4 9 8 5 6 3 7 0 2]\n"
     ]
    }
   ],
   "source": [
    "# 65. Shuffle\n",
    "\n",
    "x = np.arange(10)\n",
    "\n",
    "print('x Before shuffling:')\n",
    "print(x)\n",
    "\n",
    "print('\\nx After shuffling:')\n",
    "np.random.shuffle(x)\n",
    "print(x)"
   ]
  },
  {
   "cell_type": "markdown",
   "metadata": {
    "papermill": {
     "duration": 0.15655,
     "end_time": "2020-10-20T03:47:38.425239",
     "exception": false,
     "start_time": "2020-10-20T03:47:38.268689",
     "status": "completed"
    },
    "tags": []
   },
   "source": [
    "<div style=\"\">\n",
    "    <div style=\"float: left; width: 80%;\">\n",
    "        <a id=\"66\"></a>\n",
    "        <font><b>Task 66:</b></font>\n",
    "        <br><br>\n",
    "        Shuffling by permutation\n",
    "    </div>\n",
    "    <div style=\"float: right;\">\n",
    "        <a href=\"#top\" class=\"btn btn-primary btn-sm\" role=\"button\" aria-pressed=\"true\" style=\"color:white\" data-toggle=\"popover\" title=\"go to Top\">Go to Top</a>\n",
    "    </div>\n",
    "    <br style=\"clear: left;\" />\n",
    "</div>"
   ]
  },
  {
   "cell_type": "code",
   "execution_count": 71,
   "metadata": {
    "execution": {
     "iopub.execute_input": "2020-10-20T03:47:38.743811Z",
     "iopub.status.busy": "2020-10-20T03:47:38.743020Z",
     "iopub.status.idle": "2020-10-20T03:47:38.746100Z",
     "shell.execute_reply": "2020-10-20T03:47:38.746678Z"
    },
    "papermill": {
     "duration": 0.166153,
     "end_time": "2020-10-20T03:47:38.746830",
     "exception": false,
     "start_time": "2020-10-20T03:47:38.580677",
     "status": "completed"
    },
    "tags": []
   },
   "outputs": [
    {
     "name": "stdout",
     "output_type": "stream",
     "text": [
      "x Before shuffling (using permutation):\n",
      "[0 1 2 3 4 5 6 7 8 9]\n",
      "\n",
      "x After shuffling (using permutation):\n",
      "[7 1 2 3 5 4 0 6 8 9]\n"
     ]
    }
   ],
   "source": [
    "# 66. Shuffling by permutation\n",
    "\n",
    "x = np.arange(10)\n",
    "\n",
    "print('x Before shuffling (using permutation):')\n",
    "print(x)\n",
    "\n",
    "print('\\nx After shuffling (using permutation):')\n",
    "print(np.random.permutation(10))"
   ]
  },
  {
   "cell_type": "markdown",
   "metadata": {
    "papermill": {
     "duration": 0.152155,
     "end_time": "2020-10-20T03:47:39.052268",
     "exception": false,
     "start_time": "2020-10-20T03:47:38.900113",
     "status": "completed"
    },
    "tags": []
   },
   "source": [
    "<div style=\"\">\n",
    "    <div style=\"float: left; width: 80%;\">\n",
    "        <a id=\"67\"></a>\n",
    "        <font><b>Task 67:</b></font>\n",
    "        <br><br>\n",
    "        Seed for random\n",
    "    </div>\n",
    "    <div style=\"float: right;\">\n",
    "        <a href=\"#top\" class=\"btn btn-primary btn-sm\" role=\"button\" aria-pressed=\"true\" style=\"color:white\" data-toggle=\"popover\" title=\"go to Top\">Go to Top</a>\n",
    "    </div>\n",
    "    <br style=\"clear: left;\" />\n",
    "</div>"
   ]
  },
  {
   "cell_type": "code",
   "execution_count": 72,
   "metadata": {
    "execution": {
     "iopub.execute_input": "2020-10-20T03:47:39.367068Z",
     "iopub.status.busy": "2020-10-20T03:47:39.366366Z",
     "iopub.status.idle": "2020-10-20T03:47:39.370291Z",
     "shell.execute_reply": "2020-10-20T03:47:39.370989Z"
    },
    "papermill": {
     "duration": 0.165936,
     "end_time": "2020-10-20T03:47:39.371140",
     "exception": false,
     "start_time": "2020-10-20T03:47:39.205204",
     "status": "completed"
    },
    "tags": []
   },
   "outputs": [
    {
     "name": "stdout",
     "output_type": "stream",
     "text": [
      "Random array after first seed:\n",
      "[0.15416284 0.7400497  0.26331502 0.53373939]\n",
      "\n",
      "Random array after second seed:\n",
      "[0.15416284 0.7400497  0.26331502 0.53373939]\n",
      "\n",
      "Random array after no seed:\n",
      "[0.01457496 0.91874701 0.90071485 0.03342143]\n"
     ]
    }
   ],
   "source": [
    "# 67. Seed for random\n",
    "np.random.seed(12)\n",
    "\n",
    "a = np.random.rand(4)\n",
    "print('Random array after first seed:')\n",
    "print(a)\n",
    "\n",
    "np.random.seed(12)\n",
    "b = np.random.rand(4)\n",
    "print('\\nRandom array after second seed:')\n",
    "print(b)\n",
    "\n",
    "c = np.random.rand(4)\n",
    "print('\\nRandom array after no seed:')\n",
    "print(c)"
   ]
  },
  {
   "cell_type": "markdown",
   "metadata": {
    "papermill": {
     "duration": 0.152409,
     "end_time": "2020-10-20T03:47:39.676853",
     "exception": false,
     "start_time": "2020-10-20T03:47:39.524444",
     "status": "completed"
    },
    "tags": []
   },
   "source": [
    "<div style=\"\">\n",
    "    <div style=\"float: left; width: 80%;\">\n",
    "        <a id=\"68\"></a>\n",
    "        <font><b>Task 68:</b></font>\n",
    "        <br><br>\n",
    "        Get unique elements\n",
    "    </div>\n",
    "    <div style=\"float: right;\">\n",
    "        <a href=\"#top\" class=\"btn btn-primary btn-sm\" role=\"button\" aria-pressed=\"true\" style=\"color:white\" data-toggle=\"popover\" title=\"go to Top\">Go to Top</a>\n",
    "    </div>\n",
    "    <br style=\"clear: left;\" />\n",
    "</div>"
   ]
  },
  {
   "cell_type": "code",
   "execution_count": 73,
   "metadata": {
    "execution": {
     "iopub.execute_input": "2020-10-20T03:47:39.991863Z",
     "iopub.status.busy": "2020-10-20T03:47:39.990858Z",
     "iopub.status.idle": "2020-10-20T03:47:39.996240Z",
     "shell.execute_reply": "2020-10-20T03:47:39.995297Z"
    },
    "papermill": {
     "duration": 0.166589,
     "end_time": "2020-10-20T03:47:39.996405",
     "exception": false,
     "start_time": "2020-10-20T03:47:39.829816",
     "status": "completed"
    },
    "tags": []
   },
   "outputs": [
    {
     "name": "stdout",
     "output_type": "stream",
     "text": [
      "x:\n",
      "[1 2 6 4 2 3 2]\n",
      "\n",
      "unique elements of x:\n",
      "[1 2 3 4 6]\n",
      "\n",
      "unique elements and count:\n",
      "{1: 1, 2: 3, 3: 1, 4: 1, 6: 1}\n",
      "\n",
      "unique elements and count by collections.counter:\n",
      "Counter({2: 3, 1: 1, 6: 1, 4: 1, 3: 1})\n"
     ]
    }
   ],
   "source": [
    "# 68. Get unique elements\n",
    "\n",
    "x = np.array([1, 2, 6, 4, 2, 3, 2])\n",
    "\n",
    "print('x:')\n",
    "print(x)\n",
    "\n",
    "out, indices = np.unique(x, return_inverse=True)\n",
    "\n",
    "print('\\nunique elements of x:')\n",
    "print(out)\n",
    "\n",
    "unique, counts = np.unique(x, return_counts=True)\n",
    "unique_dict = dict(zip(unique, counts))\n",
    "\n",
    "print('\\nunique elements and count:')\n",
    "print(unique_dict)\n",
    "\n",
    "import collections\n",
    "col_counter = collections.Counter(x)\n",
    "print('\\nunique elements and count by collections.counter:')\n",
    "print(col_counter)"
   ]
  },
  {
   "cell_type": "markdown",
   "metadata": {
    "papermill": {
     "duration": 0.156807,
     "end_time": "2020-10-20T03:47:40.310432",
     "exception": false,
     "start_time": "2020-10-20T03:47:40.153625",
     "status": "completed"
    },
    "tags": []
   },
   "source": [
    "<div style=\"\">\n",
    "    <div style=\"float: left; width: 80%;\">\n",
    "        <a id=\"69\"></a>\n",
    "        <font><b>Task 69:</b></font>\n",
    "        <br><br>\n",
    "        Create a boolean array with a shape of x\n",
    "    </div>\n",
    "    <div style=\"float: right;\">\n",
    "        <a href=\"#top\" class=\"btn btn-primary btn-sm\" role=\"button\" aria-pressed=\"true\" style=\"color:white\" data-toggle=\"popover\" title=\"go to Top\">Go to Top</a>\n",
    "    </div>\n",
    "    <br style=\"clear: left;\" />\n",
    "</div>"
   ]
  },
  {
   "cell_type": "code",
   "execution_count": 74,
   "metadata": {
    "execution": {
     "iopub.execute_input": "2020-10-20T03:47:40.623599Z",
     "iopub.status.busy": "2020-10-20T03:47:40.622779Z",
     "iopub.status.idle": "2020-10-20T03:47:40.625937Z",
     "shell.execute_reply": "2020-10-20T03:47:40.626511Z"
    },
    "papermill": {
     "duration": 0.163605,
     "end_time": "2020-10-20T03:47:40.626710",
     "exception": false,
     "start_time": "2020-10-20T03:47:40.463105",
     "status": "completed"
    },
    "tags": []
   },
   "outputs": [
    {
     "name": "stdout",
     "output_type": "stream",
     "text": [
      "x:\n",
      "[0 1 2 5 0]\n",
      "\n",
      "y:\n",
      "[0 1]\n",
      "\n",
      "np.in1d(x, y):\n",
      "[ True  True False False  True]\n"
     ]
    }
   ],
   "source": [
    "# 69. Create a boolean array with a shape of x\n",
    "\n",
    "x = np.array([0, 1, 2, 5, 0])\n",
    "y = np.array([0, 1])\n",
    "\n",
    "print('x:')\n",
    "print(x)\n",
    "\n",
    "print('\\ny:')\n",
    "print(y)\n",
    "\n",
    "print('\\nnp.in1d(x, y):')\n",
    "print(np.in1d(x, y))"
   ]
  },
  {
   "cell_type": "markdown",
   "metadata": {
    "papermill": {
     "duration": 0.153991,
     "end_time": "2020-10-20T03:47:40.936379",
     "exception": false,
     "start_time": "2020-10-20T03:47:40.782388",
     "status": "completed"
    },
    "tags": []
   },
   "source": [
    "<div style=\"\">\n",
    "    <div style=\"float: left; width: 80%;\">\n",
    "        <a id=\"70\"></a>\n",
    "        <font><b>Task 70:</b></font>\n",
    "        <br><br>\n",
    "        Find unique intersection\n",
    "    </div>\n",
    "    <div style=\"float: right;\">\n",
    "        <a href=\"#top\" class=\"btn btn-primary btn-sm\" role=\"button\" aria-pressed=\"true\" style=\"color:white\" data-toggle=\"popover\" title=\"go to Top\">Go to Top</a>\n",
    "    </div>\n",
    "    <br style=\"clear: left;\" />\n",
    "</div>"
   ]
  },
  {
   "cell_type": "code",
   "execution_count": 75,
   "metadata": {
    "execution": {
     "iopub.execute_input": "2020-10-20T03:47:41.253180Z",
     "iopub.status.busy": "2020-10-20T03:47:41.252364Z",
     "iopub.status.idle": "2020-10-20T03:47:41.256339Z",
     "shell.execute_reply": "2020-10-20T03:47:41.255812Z"
    },
    "papermill": {
     "duration": 0.167308,
     "end_time": "2020-10-20T03:47:41.256444",
     "exception": false,
     "start_time": "2020-10-20T03:47:41.089136",
     "status": "completed"
    },
    "tags": []
   },
   "outputs": [
    {
     "name": "stdout",
     "output_type": "stream",
     "text": [
      "x:\n",
      "[0 1 2 5 0]\n",
      "\n",
      "y:\n",
      "[0 1 4]\n",
      "\n",
      "np.intersect1d(x, y):\n",
      "[0 1]\n"
     ]
    }
   ],
   "source": [
    "# 70. Find unique intersection\n",
    "\n",
    "x = np.array([0, 1, 2, 5, 0])\n",
    "y = np.array([0, 1, 4])\n",
    "\n",
    "print('x:')\n",
    "print(x)\n",
    "\n",
    "print('\\ny:')\n",
    "print(y)\n",
    "\n",
    "print('\\nnp.intersect1d(x, y):')\n",
    "print(np.intersect1d(x, y))"
   ]
  },
  {
   "cell_type": "markdown",
   "metadata": {
    "papermill": {
     "duration": 0.154195,
     "end_time": "2020-10-20T03:47:41.564951",
     "exception": false,
     "start_time": "2020-10-20T03:47:41.410756",
     "status": "completed"
    },
    "tags": []
   },
   "source": [
    "<div style=\"\">\n",
    "    <div style=\"float: left; width: 80%;\">\n",
    "        <a id=\"71\"></a>\n",
    "        <font><b>Task 71:</b></font>\n",
    "        <br><br>\n",
    "        Find the diff\n",
    "    </div>\n",
    "    <div style=\"float: right;\">\n",
    "        <a href=\"#top\" class=\"btn btn-primary btn-sm\" role=\"button\" aria-pressed=\"true\" style=\"color:white\" data-toggle=\"popover\" title=\"go to Top\">Go to Top</a>\n",
    "    </div>\n",
    "    <br style=\"clear: left;\" />\n",
    "</div>"
   ]
  },
  {
   "cell_type": "code",
   "execution_count": 76,
   "metadata": {
    "execution": {
     "iopub.execute_input": "2020-10-20T03:47:41.882865Z",
     "iopub.status.busy": "2020-10-20T03:47:41.882174Z",
     "iopub.status.idle": "2020-10-20T03:47:41.887098Z",
     "shell.execute_reply": "2020-10-20T03:47:41.886288Z"
    },
    "papermill": {
     "duration": 0.168712,
     "end_time": "2020-10-20T03:47:41.887231",
     "exception": false,
     "start_time": "2020-10-20T03:47:41.718519",
     "status": "completed"
    },
    "tags": []
   },
   "outputs": [
    {
     "name": "stdout",
     "output_type": "stream",
     "text": [
      "x:\n",
      "[0 1 2 5 0]\n",
      "\n",
      "y:\n",
      "[0 1 4]\n",
      "\n",
      "np.setdiff1d(x, y):\n",
      "[2 5]\n"
     ]
    }
   ],
   "source": [
    "# 71. Find the diff\n",
    "\n",
    "x = np.array([0, 1, 2, 5, 0])\n",
    "y = np.array([0, 1, 4])\n",
    "\n",
    "print('x:')\n",
    "print(x)\n",
    "\n",
    "print('\\ny:')\n",
    "print(y)\n",
    "\n",
    "print('\\nnp.setdiff1d(x, y):')\n",
    "print(np.setdiff1d(x, y))"
   ]
  },
  {
   "cell_type": "markdown",
   "metadata": {
    "papermill": {
     "duration": 0.155596,
     "end_time": "2020-10-20T03:47:42.199701",
     "exception": false,
     "start_time": "2020-10-20T03:47:42.044105",
     "status": "completed"
    },
    "tags": []
   },
   "source": [
    "<div style=\"\">\n",
    "    <div style=\"float: left; width: 80%;\">\n",
    "        <a id=\"72\"></a>\n",
    "        <font><b>Task 72:</b></font>\n",
    "        <br><br>\n",
    "        Trying to inverse a singular matrix\n",
    "    </div>\n",
    "    <div style=\"float: right;\">\n",
    "        <a href=\"#top\" class=\"btn btn-primary btn-sm\" role=\"button\" aria-pressed=\"true\" style=\"color:white\" data-toggle=\"popover\" title=\"go to Top\">Go to Top</a>\n",
    "    </div>\n",
    "    <br style=\"clear: left;\" />\n",
    "</div>"
   ]
  },
  {
   "cell_type": "code",
   "execution_count": 77,
   "metadata": {
    "execution": {
     "iopub.execute_input": "2020-10-20T03:47:42.522402Z",
     "iopub.status.busy": "2020-10-20T03:47:42.521367Z",
     "iopub.status.idle": "2020-10-20T03:47:42.528419Z",
     "shell.execute_reply": "2020-10-20T03:47:42.527608Z"
    },
    "papermill": {
     "duration": 0.171116,
     "end_time": "2020-10-20T03:47:42.528621",
     "exception": false,
     "start_time": "2020-10-20T03:47:42.357505",
     "status": "completed"
    },
    "tags": []
   },
   "outputs": [
    {
     "name": "stdout",
     "output_type": "stream",
     "text": [
      "Error :  Singular matrix\n"
     ]
    }
   ],
   "source": [
    "# 72. Trying to inverse a singular matrix\n",
    "\n",
    "b = np.array([[2,3],[4,6]])\n",
    "\n",
    "try:\n",
    "    np.linalg.inv(b)\n",
    "except Exception as err:\n",
    "    print('Error : ', err)\n",
    "    \n",
    "# Note: Singular Matrix can't be inversed"
   ]
  },
  {
   "cell_type": "markdown",
   "metadata": {
    "papermill": {
     "duration": 0.158568,
     "end_time": "2020-10-20T03:47:42.850000",
     "exception": false,
     "start_time": "2020-10-20T03:47:42.691432",
     "status": "completed"
    },
    "tags": []
   },
   "source": [
    "<div style=\"\">\n",
    "    <div style=\"float: left; width: 80%;\">\n",
    "        <a id=\"73\"></a>\n",
    "        <font><b>Task 73:</b></font>\n",
    "        <br><br>\n",
    "        Find the union\n",
    "    </div>\n",
    "    <div style=\"float: right;\">\n",
    "        <a href=\"#top\" class=\"btn btn-primary btn-sm\" role=\"button\" aria-pressed=\"true\" style=\"color:white\" data-toggle=\"popover\" title=\"go to Top\">Go to Top</a>\n",
    "    </div>\n",
    "    <br style=\"clear: left;\" />\n",
    "</div>"
   ]
  },
  {
   "cell_type": "code",
   "execution_count": 78,
   "metadata": {
    "execution": {
     "iopub.execute_input": "2020-10-20T03:47:43.171909Z",
     "iopub.status.busy": "2020-10-20T03:47:43.171004Z",
     "iopub.status.idle": "2020-10-20T03:47:43.174150Z",
     "shell.execute_reply": "2020-10-20T03:47:43.174875Z"
    },
    "papermill": {
     "duration": 0.166982,
     "end_time": "2020-10-20T03:47:43.175077",
     "exception": false,
     "start_time": "2020-10-20T03:47:43.008095",
     "status": "completed"
    },
    "tags": []
   },
   "outputs": [
    {
     "name": "stdout",
     "output_type": "stream",
     "text": [
      "x:\n",
      "[0 1 2 5 0]\n",
      "\n",
      "y:\n",
      "[0 1 4]\n",
      "\n",
      "np.union1d(x, y):\n",
      "[0 1 2 4 5]\n"
     ]
    }
   ],
   "source": [
    "# 73. Find the union\n",
    "\n",
    "x = np.array([0, 1, 2, 5, 0])\n",
    "y = np.array([0, 1, 4])\n",
    "\n",
    "print('x:')\n",
    "print(x)\n",
    "\n",
    "print('\\ny:')\n",
    "print(y)\n",
    "\n",
    "z = np.union1d(x, y)\n",
    "print('\\nnp.union1d(x, y):')\n",
    "print(z)"
   ]
  },
  {
   "cell_type": "markdown",
   "metadata": {
    "papermill": {
     "duration": 0.157334,
     "end_time": "2020-10-20T03:47:43.489716",
     "exception": false,
     "start_time": "2020-10-20T03:47:43.332382",
     "status": "completed"
    },
    "tags": []
   },
   "source": [
    "<div style=\"\">\n",
    "    <div style=\"float: left; width: 80%;\">\n",
    "        <a id=\"74\"></a>\n",
    "        <font><b>Task 74:</b></font>\n",
    "        <br><br>\n",
    "        Element Sum\n",
    "    </div>\n",
    "    <div style=\"float: right;\">\n",
    "        <a href=\"#top\" class=\"btn btn-primary btn-sm\" role=\"button\" aria-pressed=\"true\" style=\"color:white\" data-toggle=\"popover\" title=\"go to Top\">Go to Top</a>\n",
    "    </div>\n",
    "    <br style=\"clear: left;\" />\n",
    "</div>"
   ]
  },
  {
   "cell_type": "code",
   "execution_count": 79,
   "metadata": {
    "execution": {
     "iopub.execute_input": "2020-10-20T03:47:43.812080Z",
     "iopub.status.busy": "2020-10-20T03:47:43.811177Z",
     "iopub.status.idle": "2020-10-20T03:47:43.815735Z",
     "shell.execute_reply": "2020-10-20T03:47:43.814963Z"
    },
    "papermill": {
     "duration": 0.16969,
     "end_time": "2020-10-20T03:47:43.815933",
     "exception": false,
     "start_time": "2020-10-20T03:47:43.646243",
     "status": "completed"
    },
    "tags": []
   },
   "outputs": [
    {
     "name": "stdout",
     "output_type": "stream",
     "text": [
      "Original Array:\n",
      "[0 0 1 2 1 1 0 0 0]\n",
      "\n",
      "zeros sum:\n",
      "5\n",
      "\n",
      "ones sum:\n",
      "3\n",
      "\n",
      "ones sum by using list:\n",
      "3\n"
     ]
    }
   ],
   "source": [
    "# 74. Element Sum\n",
    "\n",
    "x = np.array([0, 0, 1, 2, 1, 1, 0, 0, 0])\n",
    "print('Original Array:')\n",
    "print(x)\n",
    "\n",
    "num_zeros = (x == 0).sum()\n",
    "num_ones = (x == 1).sum()\n",
    "\n",
    "print('\\nzeros sum:')\n",
    "print(num_zeros)\n",
    "\n",
    "print('\\nones sum:')\n",
    "print(num_ones)\n",
    "\n",
    "print('\\nones sum by using list:')\n",
    "x_list = list(x)\n",
    "print(x_list.count(1))"
   ]
  },
  {
   "cell_type": "markdown",
   "metadata": {
    "papermill": {
     "duration": 0.157419,
     "end_time": "2020-10-20T03:47:44.133135",
     "exception": false,
     "start_time": "2020-10-20T03:47:43.975716",
     "status": "completed"
    },
    "tags": []
   },
   "source": [
    "<div style=\"\">\n",
    "    <div style=\"float: left; width: 80%;\">\n",
    "        <a id=\"75\"></a>\n",
    "        <font><b>Task 75:</b></font>\n",
    "        <br><br>\n",
    "        Pretty print - suppress the scientific notation\n",
    "    </div>\n",
    "    <div style=\"float: right;\">\n",
    "        <a href=\"#top\" class=\"btn btn-primary btn-sm\" role=\"button\" aria-pressed=\"true\" style=\"color:white\" data-toggle=\"popover\" title=\"go to Top\">Go to Top</a>\n",
    "    </div>\n",
    "    <br style=\"clear: left;\" />\n",
    "</div>"
   ]
  },
  {
   "cell_type": "code",
   "execution_count": 80,
   "metadata": {
    "execution": {
     "iopub.execute_input": "2020-10-20T03:47:44.461075Z",
     "iopub.status.busy": "2020-10-20T03:47:44.460198Z",
     "iopub.status.idle": "2020-10-20T03:47:44.463806Z",
     "shell.execute_reply": "2020-10-20T03:47:44.464549Z"
    },
    "papermill": {
     "duration": 0.170034,
     "end_time": "2020-10-20T03:47:44.464762",
     "exception": false,
     "start_time": "2020-10-20T03:47:44.294728",
     "status": "completed"
    },
    "tags": []
   },
   "outputs": [
    {
     "name": "stdout",
     "output_type": "stream",
     "text": [
      "Before:\n",
      "[1.2e-10 2.1e+00 2.3e+01]\n",
      "\n",
      "After suppressing the scientific notation:\n",
      "[ 0.   2.1 23. ]\n"
     ]
    }
   ],
   "source": [
    "# 75. Pretty print - suppress the scientific notation\n",
    "\n",
    "x = np.array([1.2e-10, 2.1, 23])\n",
    "print('Before:')\n",
    "print(x)\n",
    "\n",
    "np.set_printoptions(suppress = True)\n",
    "print('\\nAfter suppressing the scientific notation:')\n",
    "print(x)\n",
    "\n",
    "# reset\n",
    "np.set_printoptions(suppress = False)"
   ]
  },
  {
   "cell_type": "markdown",
   "metadata": {
    "papermill": {
     "duration": 0.15591,
     "end_time": "2020-10-20T03:47:44.776643",
     "exception": false,
     "start_time": "2020-10-20T03:47:44.620733",
     "status": "completed"
    },
    "tags": []
   },
   "source": [
    "<div style=\"\">\n",
    "    <div style=\"float: left; width: 80%;\">\n",
    "        <a id=\"76\"></a>\n",
    "        <font><b>Task 76:</b></font>\n",
    "        <br><br>\n",
    "        Print with decimal format\n",
    "    </div>\n",
    "    <div style=\"float: right;\">\n",
    "        <a href=\"#top\" class=\"btn btn-primary btn-sm\" role=\"button\" aria-pressed=\"true\" style=\"color:white\" data-toggle=\"popover\" title=\"go to Top\">Go to Top</a>\n",
    "    </div>\n",
    "    <br style=\"clear: left;\" />\n",
    "</div>"
   ]
  },
  {
   "cell_type": "code",
   "execution_count": 81,
   "metadata": {
    "execution": {
     "iopub.execute_input": "2020-10-20T03:47:45.096023Z",
     "iopub.status.busy": "2020-10-20T03:47:45.095138Z",
     "iopub.status.idle": "2020-10-20T03:47:45.099114Z",
     "shell.execute_reply": "2020-10-20T03:47:45.098254Z"
    },
    "papermill": {
     "duration": 0.165624,
     "end_time": "2020-10-20T03:47:45.099225",
     "exception": false,
     "start_time": "2020-10-20T03:47:44.933601",
     "status": "completed"
    },
    "tags": []
   },
   "outputs": [
    {
     "name": "stdout",
     "output_type": "stream",
     "text": [
      "Before:\n",
      "[1.245 1.   ]\n",
      "\n",
      "After formattting the float:\n",
      "[ 1.25  1.00]\n"
     ]
    }
   ],
   "source": [
    "# 76. Print with decimal format\n",
    "\n",
    "x = np.array([1.24500, 1.0000])\n",
    "print('Before:')\n",
    "print(x)\n",
    "\n",
    "np.set_printoptions(formatter={'float': '{: 0.2f}'.format})\n",
    "print('\\nAfter formattting the float:')\n",
    "print(x)\n",
    "\n",
    "# Not sure how to reset it"
   ]
  },
  {
   "cell_type": "markdown",
   "metadata": {
    "papermill": {
     "duration": 0.159775,
     "end_time": "2020-10-20T03:47:45.418682",
     "exception": false,
     "start_time": "2020-10-20T03:47:45.258907",
     "status": "completed"
    },
    "tags": []
   },
   "source": [
    "<div style=\"\">\n",
    "    <div style=\"float: left; width: 80%;\">\n",
    "        <a id=\"77\"></a>\n",
    "        <font><b>Task 77:</b></font>\n",
    "        <br><br>\n",
    "        Convert flot array to int array\n",
    "    </div>\n",
    "    <div style=\"float: right;\">\n",
    "        <a href=\"#top\" class=\"btn btn-primary btn-sm\" role=\"button\" aria-pressed=\"true\" style=\"color:white\" data-toggle=\"popover\" title=\"go to Top\">Go to Top</a>\n",
    "    </div>\n",
    "    <br style=\"clear: left;\" />\n",
    "</div>"
   ]
  },
  {
   "cell_type": "code",
   "execution_count": 82,
   "metadata": {
    "execution": {
     "iopub.execute_input": "2020-10-20T03:47:45.739562Z",
     "iopub.status.busy": "2020-10-20T03:47:45.738857Z",
     "iopub.status.idle": "2020-10-20T03:47:45.743184Z",
     "shell.execute_reply": "2020-10-20T03:47:45.742297Z"
    },
    "papermill": {
     "duration": 0.167692,
     "end_time": "2020-10-20T03:47:45.743333",
     "exception": false,
     "start_time": "2020-10-20T03:47:45.575641",
     "status": "completed"
    },
    "tags": []
   },
   "outputs": [
    {
     "name": "stdout",
     "output_type": "stream",
     "text": [
      "Before:\n",
      "[[ 2.00  8.80]\n",
      " [ 2.30  1.90]]\n",
      "\n",
      "After changing the datatype:\n",
      "[[2 8]\n",
      " [2 1]]\n",
      "\n",
      "After changing the datatype by using int_:\n",
      "[[2 8]\n",
      " [2 1]]\n"
     ]
    }
   ],
   "source": [
    "# 77. Convert flot array to int array\n",
    "\n",
    "x = np.array([[2.0, 8.8], [2.3, 1.9]])\n",
    "print('Before:')\n",
    "print(x)\n",
    "\n",
    "y = x.astype(int)\n",
    "print('\\nAfter changing the datatype:')\n",
    "print(y)\n",
    "\n",
    "z = np.int_(x)\n",
    "print('\\nAfter changing the datatype by using int_:')\n",
    "print(z)"
   ]
  },
  {
   "cell_type": "markdown",
   "metadata": {
    "papermill": {
     "duration": 0.156909,
     "end_time": "2020-10-20T03:47:46.058966",
     "exception": false,
     "start_time": "2020-10-20T03:47:45.902057",
     "status": "completed"
    },
    "tags": []
   },
   "source": [
    "<div style=\"\">\n",
    "    <div style=\"float: left; width: 80%;\">\n",
    "        <a id=\"78\"></a>\n",
    "        <font><b>Task 78:</b></font>\n",
    "        <br><br>\n",
    "        array vs asarray\n",
    "    </div>\n",
    "    <div style=\"float: right;\">\n",
    "        <a href=\"#top\" class=\"btn btn-primary btn-sm\" role=\"button\" aria-pressed=\"true\" style=\"color:white\" data-toggle=\"popover\" title=\"go to Top\">Go to Top</a>\n",
    "    </div>\n",
    "    <br style=\"clear: left;\" />\n",
    "</div>"
   ]
  },
  {
   "cell_type": "code",
   "execution_count": 83,
   "metadata": {
    "execution": {
     "iopub.execute_input": "2020-10-20T03:47:46.382734Z",
     "iopub.status.busy": "2020-10-20T03:47:46.382014Z",
     "iopub.status.idle": "2020-10-20T03:47:46.387067Z",
     "shell.execute_reply": "2020-10-20T03:47:46.386274Z"
    },
    "papermill": {
     "duration": 0.171374,
     "end_time": "2020-10-20T03:47:46.387229",
     "exception": false,
     "start_time": "2020-10-20T03:47:46.215855",
     "status": "completed"
    },
    "tags": []
   },
   "outputs": [
    {
     "name": "stdout",
     "output_type": "stream",
     "text": [
      "Before:\n",
      "[[ 1.00  1.00  1.00]\n",
      " [ 1.00  1.00  1.00]\n",
      " [ 1.00  1.00  1.00]]\n",
      "\n",
      "After changing elements by array:\n",
      "[[ 1.00  1.00  1.00]\n",
      " [ 1.00  1.00  1.00]\n",
      " [ 1.00  1.00  1.00]]\n",
      "\n",
      "After changing elements by asarray:\n",
      "[[ 1.00  1.00  1.00]\n",
      " [ 1.00  1.00  1.00]\n",
      " [ 2.00  2.00  2.00]]\n"
     ]
    }
   ],
   "source": [
    "# 78. array vs asarray\n",
    "\n",
    "x = np.matrix(np.ones((3,3)))\n",
    "print('Before:')\n",
    "print(x)\n",
    "\n",
    "\n",
    "np.array(x)[2] = 2\n",
    "print('\\nAfter changing elements by array:')\n",
    "print(x)\n",
    "\n",
    "np.asarray(x)[2] = 2\n",
    "print('\\nAfter changing elements by asarray:')\n",
    "print(x)"
   ]
  },
  {
   "cell_type": "markdown",
   "metadata": {
    "papermill": {
     "duration": 0.157131,
     "end_time": "2020-10-20T03:47:46.701716",
     "exception": false,
     "start_time": "2020-10-20T03:47:46.544585",
     "status": "completed"
    },
    "tags": []
   },
   "source": [
    "<div style=\"\">\n",
    "    <div style=\"float: left; width: 80%;\">\n",
    "        <a id=\"79\"></a>\n",
    "        <font><b>Task 79:</b></font>\n",
    "        <br><br>\n",
    "        Numpy Datetime\n",
    "    </div>\n",
    "    <div style=\"float: right;\">\n",
    "        <a href=\"#top\" class=\"btn btn-primary btn-sm\" role=\"button\" aria-pressed=\"true\" style=\"color:white\" data-toggle=\"popover\" title=\"go to Top\">Go to Top</a>\n",
    "    </div>\n",
    "    <br style=\"clear: left;\" />\n",
    "</div>"
   ]
  },
  {
   "cell_type": "code",
   "execution_count": 84,
   "metadata": {
    "execution": {
     "iopub.execute_input": "2020-10-20T03:47:47.023432Z",
     "iopub.status.busy": "2020-10-20T03:47:47.022790Z",
     "iopub.status.idle": "2020-10-20T03:47:47.026916Z",
     "shell.execute_reply": "2020-10-20T03:47:47.025923Z"
    },
    "papermill": {
     "duration": 0.167636,
     "end_time": "2020-10-20T03:47:47.027086",
     "exception": false,
     "start_time": "2020-10-20T03:47:46.859450",
     "status": "completed"
    },
    "tags": []
   },
   "outputs": [
    {
     "name": "stdout",
     "output_type": "stream",
     "text": [
      "Sample numpy datetime:\n",
      "2020-09-30\n",
      "\n",
      "Numpy Datetime with forcing D option:\n",
      "2020-09-01\n"
     ]
    }
   ],
   "source": [
    "# 79. Numpy Datetime\n",
    "\n",
    "x = np.datetime64('2020-09-30')\n",
    "print('Sample numpy datetime:')\n",
    "print(x)\n",
    "# print(type(x))\n",
    "\n",
    "x1 = np.datetime64('2020-09', 'D')\n",
    "print('\\nNumpy Datetime with forcing D option:')\n",
    "print(x1)\n",
    "# print(type(x1))"
   ]
  },
  {
   "cell_type": "markdown",
   "metadata": {
    "papermill": {
     "duration": 0.197296,
     "end_time": "2020-10-20T03:47:47.384381",
     "exception": false,
     "start_time": "2020-10-20T03:47:47.187085",
     "status": "completed"
    },
    "tags": []
   },
   "source": [
    "<div style=\"\">\n",
    "    <div style=\"float: left; width: 80%;\">\n",
    "        <a id=\"80\"></a>\n",
    "        <font><b>Task 80:</b></font>\n",
    "        <br><br>\n",
    "        Numpy Datetime with arange\n",
    "    </div>\n",
    "    <div style=\"float: right;\">\n",
    "        <a href=\"#top\" class=\"btn btn-primary btn-sm\" role=\"button\" aria-pressed=\"true\" style=\"color:white\" data-toggle=\"popover\" title=\"go to Top\">Go to Top</a>\n",
    "    </div>\n",
    "    <br style=\"clear: left;\" />\n",
    "</div>"
   ]
  },
  {
   "cell_type": "code",
   "execution_count": 85,
   "metadata": {
    "execution": {
     "iopub.execute_input": "2020-10-20T03:47:47.709683Z",
     "iopub.status.busy": "2020-10-20T03:47:47.708827Z",
     "iopub.status.idle": "2020-10-20T03:47:47.712515Z",
     "shell.execute_reply": "2020-10-20T03:47:47.711711Z"
    },
    "papermill": {
     "duration": 0.169317,
     "end_time": "2020-10-20T03:47:47.712678",
     "exception": false,
     "start_time": "2020-10-20T03:47:47.543361",
     "status": "completed"
    },
    "tags": []
   },
   "outputs": [
    {
     "name": "stdout",
     "output_type": "stream",
     "text": [
      "\n",
      "Numpy Datetime range with forcing month:\n",
      "['2020-02' '2020-03' '2020-04' '2020-05']\n",
      "\n",
      "Numpy Datetime range with forcing date:\n",
      "['2020-02-01' '2020-02-02' '2020-02-03' ... '2020-05-29' '2020-05-30'\n",
      " '2020-05-31']\n"
     ]
    }
   ],
   "source": [
    "# 80. Numpy Datetime with arange\n",
    "\n",
    "x = np.arange('2020-02', '2020-06', dtype = 'datetime64[M]')\n",
    "print('\\nNumpy Datetime range with forcing month:')\n",
    "print(x)\n",
    "\n",
    "\n",
    "y = np.arange('2020-02', '2020-06', dtype = 'datetime64[D]')\n",
    "print('\\nNumpy Datetime range with forcing date:')\n",
    "print(y)"
   ]
  },
  {
   "cell_type": "markdown",
   "metadata": {
    "papermill": {
     "duration": 0.158375,
     "end_time": "2020-10-20T03:47:48.030971",
     "exception": false,
     "start_time": "2020-10-20T03:47:47.872596",
     "status": "completed"
    },
    "tags": []
   },
   "source": [
    "<div style=\"\">\n",
    "    <div style=\"float: left; width: 80%;\">\n",
    "        <a id=\"81\"></a>\n",
    "        <font><b>Task 81:</b></font>\n",
    "        <br><br>\n",
    "        Compare Numpy datetime\n",
    "    </div>\n",
    "    <div style=\"float: right;\">\n",
    "        <a href=\"#top\" class=\"btn btn-primary btn-sm\" role=\"button\" aria-pressed=\"true\" style=\"color:white\" data-toggle=\"popover\" title=\"go to Top\">Go to Top</a>\n",
    "    </div>\n",
    "    <br style=\"clear: left;\" />\n",
    "</div>"
   ]
  },
  {
   "cell_type": "code",
   "execution_count": 86,
   "metadata": {
    "execution": {
     "iopub.execute_input": "2020-10-20T03:47:48.364607Z",
     "iopub.status.busy": "2020-10-20T03:47:48.363730Z",
     "iopub.status.idle": "2020-10-20T03:47:48.369058Z",
     "shell.execute_reply": "2020-10-20T03:47:48.368491Z"
    },
    "papermill": {
     "duration": 0.175758,
     "end_time": "2020-10-20T03:47:48.369178",
     "exception": false,
     "start_time": "2020-10-20T03:47:48.193420",
     "status": "completed"
    },
    "tags": []
   },
   "outputs": [
    {
     "name": "stdout",
     "output_type": "stream",
     "text": [
      "np.datetime64('2020') == np.datetime64('2020-01-01'):\n",
      "True\n",
      "\n",
      "np.datetime64('2020-01') == np.datetime64('2020-01-02'):\n",
      "False\n"
     ]
    }
   ],
   "source": [
    "# 81. Compare Numpy datetime\n",
    "\n",
    "print(\"np.datetime64('2020') == np.datetime64('2020-01-01'):\")\n",
    "print(np.datetime64('2020') == np.datetime64('2020-01-01'))\n",
    "\n",
    "print(\"\\nnp.datetime64('2020-01') == np.datetime64('2020-01-02'):\")\n",
    "print(np.datetime64('2020-01') == np.datetime64('2020-01-02'))"
   ]
  },
  {
   "cell_type": "markdown",
   "metadata": {
    "papermill": {
     "duration": 0.186409,
     "end_time": "2020-10-20T03:47:48.724390",
     "exception": false,
     "start_time": "2020-10-20T03:47:48.537981",
     "status": "completed"
    },
    "tags": []
   },
   "source": [
    "<div style=\"\">\n",
    "    <div style=\"float: left; width: 80%;\">\n",
    "        <a id=\"82\"></a>\n",
    "        <font><b>Task 82:</b></font>\n",
    "        <br><br>\n",
    "        Numpy 2D array flat list\n",
    "    </div>\n",
    "    <div style=\"float: right;\">\n",
    "        <a href=\"#top\" class=\"btn btn-primary btn-sm\" role=\"button\" aria-pressed=\"true\" style=\"color:white\" data-toggle=\"popover\" title=\"go to Top\">Go to Top</a>\n",
    "    </div>\n",
    "    <br style=\"clear: left;\" />\n",
    "</div>"
   ]
  },
  {
   "cell_type": "code",
   "execution_count": 87,
   "metadata": {
    "execution": {
     "iopub.execute_input": "2020-10-20T03:47:49.058154Z",
     "iopub.status.busy": "2020-10-20T03:47:49.057499Z",
     "iopub.status.idle": "2020-10-20T03:47:49.060614Z",
     "shell.execute_reply": "2020-10-20T03:47:49.061061Z"
    },
    "papermill": {
     "duration": 0.172904,
     "end_time": "2020-10-20T03:47:49.061201",
     "exception": false,
     "start_time": "2020-10-20T03:47:48.888297",
     "status": "completed"
    },
    "tags": []
   },
   "outputs": [
    {
     "name": "stdout",
     "output_type": "stream",
     "text": [
      "Before:\n",
      "[[[ 0  1]\n",
      "  [ 2  3]\n",
      "  [ 4  5]]\n",
      "\n",
      " [[ 6  7]\n",
      "  [ 8  9]\n",
      "  [10 11]]]\n",
      "\n",
      "After tolist:\n",
      "[[[0, 1], [2, 3], [4, 5]], [[6, 7], [8, 9], [10, 11]]]\n",
      "\n",
      "After flattening the array to list:\n",
      "[array([0, 1]), array([2, 3]), array([4, 5]), array([6, 7]), array([8, 9]), array([10, 11])]\n"
     ]
    }
   ],
   "source": [
    "# 82. Numpy 2D array flat list\n",
    "\n",
    "import numpy as np\n",
    "from itertools import chain\n",
    "\n",
    "a = np.arange(12).reshape(2, 3, 2)\n",
    "print('Before:')\n",
    "print(a)\n",
    "\n",
    "b = a.tolist()\n",
    "print('\\nAfter tolist:')\n",
    "print(b)\n",
    "\n",
    "c = list(chain.from_iterable(a))\n",
    "print('\\nAfter flattening the array to list:')\n",
    "print(c)"
   ]
  },
  {
   "cell_type": "markdown",
   "metadata": {
    "papermill": {
     "duration": 0.159302,
     "end_time": "2020-10-20T03:47:49.381906",
     "exception": false,
     "start_time": "2020-10-20T03:47:49.222604",
     "status": "completed"
    },
    "tags": []
   },
   "source": [
    "<div style=\"\">\n",
    "    <div style=\"float: left; width: 80%;\">\n",
    "        <a id=\"83\"></a>\n",
    "        <font><b>Task 83:</b></font>\n",
    "        <br><br>\n",
    "        Numpy 2D array to flat list\n",
    "    </div>\n",
    "    <div style=\"float: right;\">\n",
    "        <a href=\"#top\" class=\"btn btn-primary btn-sm\" role=\"button\" aria-pressed=\"true\" style=\"color:white\" data-toggle=\"popover\" title=\"go to Top\">Go to Top</a>\n",
    "    </div>\n",
    "    <br style=\"clear: left;\" />\n",
    "</div>"
   ]
  },
  {
   "cell_type": "code",
   "execution_count": 88,
   "metadata": {
    "execution": {
     "iopub.execute_input": "2020-10-20T03:47:49.707703Z",
     "iopub.status.busy": "2020-10-20T03:47:49.706895Z",
     "iopub.status.idle": "2020-10-20T03:47:49.710337Z",
     "shell.execute_reply": "2020-10-20T03:47:49.710824Z"
    },
    "papermill": {
     "duration": 0.169596,
     "end_time": "2020-10-20T03:47:49.710971",
     "exception": false,
     "start_time": "2020-10-20T03:47:49.541375",
     "status": "completed"
    },
    "tags": []
   },
   "outputs": [
    {
     "name": "stdout",
     "output_type": "stream",
     "text": [
      "Before:\n",
      "[[0 1 2]\n",
      " [3 4 5]]\n",
      "\n",
      "After flattening the array to list:\n",
      "[0, 1, 2, 3, 4, 5]\n"
     ]
    }
   ],
   "source": [
    "# 83. Numpy 2D array to flat list\n",
    "\n",
    "a = np.arange(6).reshape(2, 3)\n",
    "print('Before:')\n",
    "print(a)\n",
    "\n",
    "b = list(a.flatten())\n",
    "print('\\nAfter flattening the array to list:')\n",
    "print(b)"
   ]
  },
  {
   "cell_type": "markdown",
   "metadata": {
    "papermill": {
     "duration": 0.160021,
     "end_time": "2020-10-20T03:47:50.030818",
     "exception": false,
     "start_time": "2020-10-20T03:47:49.870797",
     "status": "completed"
    },
    "tags": []
   },
   "source": [
    "<div style=\"\">\n",
    "    <div style=\"float: left; width: 80%;\">\n",
    "        <a id=\"84\"></a>\n",
    "        <font><b>Task 84:</b></font>\n",
    "        <br><br>\n",
    "        Numpy array to Pandas Dataframe\n",
    "    </div>\n",
    "    <div style=\"float: right;\">\n",
    "        <a href=\"#top\" class=\"btn btn-primary btn-sm\" role=\"button\" aria-pressed=\"true\" style=\"color:white\" data-toggle=\"popover\" title=\"go to Top\">Go to Top</a>\n",
    "    </div>\n",
    "    <br style=\"clear: left;\" />\n",
    "</div>"
   ]
  },
  {
   "cell_type": "code",
   "execution_count": 89,
   "metadata": {
    "execution": {
     "iopub.execute_input": "2020-10-20T03:47:50.366861Z",
     "iopub.status.busy": "2020-10-20T03:47:50.365885Z",
     "iopub.status.idle": "2020-10-20T03:47:50.369258Z",
     "shell.execute_reply": "2020-10-20T03:47:50.369786Z"
    },
    "papermill": {
     "duration": 0.176386,
     "end_time": "2020-10-20T03:47:50.369927",
     "exception": false,
     "start_time": "2020-10-20T03:47:50.193541",
     "status": "completed"
    },
    "tags": []
   },
   "outputs": [
    {
     "name": "stdout",
     "output_type": "stream",
     "text": [
      "Numpy Array:\n",
      "[[90 98]\n",
      " [92 99]]\n",
      "\n",
      "Dataframe from Numpy Array:\n",
      "   Maths  Science\n",
      "0     90       98\n",
      "1     92       99\n"
     ]
    }
   ],
   "source": [
    "# 84. Numpy array to Pandas Dataframe\n",
    "\n",
    "x = np.array([[90, 98], [92, 99]])\n",
    "print('Numpy Array:')\n",
    "print(x)\n",
    "\n",
    "df = pd.DataFrame({'Maths': x[:, 0], 'Science': x[:, 1]})\n",
    "print('\\nDataframe from Numpy Array:')\n",
    "print(df)"
   ]
  },
  {
   "cell_type": "markdown",
   "metadata": {
    "papermill": {
     "duration": 0.160823,
     "end_time": "2020-10-20T03:47:50.691847",
     "exception": false,
     "start_time": "2020-10-20T03:47:50.531024",
     "status": "completed"
    },
    "tags": []
   },
   "source": [
    "<div style=\"\">\n",
    "    <div style=\"float: left; width: 80%;\">\n",
    "        <a id=\"85\"></a>\n",
    "        <font><b>Task 85:</b></font>\n",
    "        <br><br>\n",
    "        Numpy to Dataframe by using from_records\n",
    "    </div>\n",
    "    <div style=\"float: right;\">\n",
    "        <a href=\"#top\" class=\"btn btn-primary btn-sm\" role=\"button\" aria-pressed=\"true\" style=\"color:white\" data-toggle=\"popover\" title=\"go to Top\">Go to Top</a>\n",
    "    </div>\n",
    "    <br style=\"clear: left;\" />\n",
    "</div>"
   ]
  },
  {
   "cell_type": "code",
   "execution_count": 90,
   "metadata": {
    "execution": {
     "iopub.execute_input": "2020-10-20T03:47:51.021006Z",
     "iopub.status.busy": "2020-10-20T03:47:51.020268Z",
     "iopub.status.idle": "2020-10-20T03:47:51.024189Z",
     "shell.execute_reply": "2020-10-20T03:47:51.022985Z"
    },
    "papermill": {
     "duration": 0.172906,
     "end_time": "2020-10-20T03:47:51.024357",
     "exception": false,
     "start_time": "2020-10-20T03:47:50.851451",
     "status": "completed"
    },
    "tags": []
   },
   "outputs": [
    {
     "name": "stdout",
     "output_type": "stream",
     "text": [
      "Numpy Array:\n",
      "[[0 1 2]\n",
      " [3 4 5]]\n",
      "\n",
      "Dataframe from Numpy Array by using from_records:\n",
      "   0  1  2\n",
      "0  0  1  2\n",
      "1  3  4  5\n"
     ]
    }
   ],
   "source": [
    "# 85. Numpy to Dataframe by using from_records\n",
    "\n",
    "x = np.arange(6).reshape(2, -1) # -1 is used for lazy option\n",
    "print('Numpy Array:')\n",
    "print(x)\n",
    "\n",
    "df = pd.DataFrame.from_records(x)\n",
    "print('\\nDataframe from Numpy Array by using from_records:')\n",
    "print(df)"
   ]
  },
  {
   "cell_type": "markdown",
   "metadata": {
    "papermill": {
     "duration": 0.161532,
     "end_time": "2020-10-20T03:47:51.347288",
     "exception": false,
     "start_time": "2020-10-20T03:47:51.185756",
     "status": "completed"
    },
    "tags": []
   },
   "source": [
    "<div style=\"\">\n",
    "    <div style=\"float: left; width: 80%;\">\n",
    "        <a id=\"86\"></a>\n",
    "        <font><b>Task 86:</b></font>\n",
    "        <br><br>\n",
    "        Append with hstack\n",
    "    </div>\n",
    "    <div style=\"float: right;\">\n",
    "        <a href=\"#top\" class=\"btn btn-primary btn-sm\" role=\"button\" aria-pressed=\"true\" style=\"color:white\" data-toggle=\"popover\" title=\"go to Top\">Go to Top</a>\n",
    "    </div>\n",
    "    <br style=\"clear: left;\" />\n",
    "</div>"
   ]
  },
  {
   "cell_type": "code",
   "execution_count": 91,
   "metadata": {
    "execution": {
     "iopub.execute_input": "2020-10-20T03:47:51.680671Z",
     "iopub.status.busy": "2020-10-20T03:47:51.680001Z",
     "iopub.status.idle": "2020-10-20T03:47:51.684928Z",
     "shell.execute_reply": "2020-10-20T03:47:51.685600Z"
    },
    "papermill": {
     "duration": 0.175203,
     "end_time": "2020-10-20T03:47:51.685769",
     "exception": false,
     "start_time": "2020-10-20T03:47:51.510566",
     "status": "completed"
    },
    "tags": []
   },
   "outputs": [
    {
     "name": "stdout",
     "output_type": "stream",
     "text": [
      "Numpy Array:\n",
      "[[0 1 2]\n",
      " [3 4 5]]\n",
      "\n",
      "After appending with hstack:\n",
      "[[0 1 2 0]\n",
      " [3 4 5 0]]\n"
     ]
    }
   ],
   "source": [
    "# 86. Append with hstack\n",
    "\n",
    "a = np.arange(6).reshape(2, -1)\n",
    "print('Numpy Array:')\n",
    "print(a)\n",
    "\n",
    "b = np.hstack((a, np.zeros((a.shape[0], 1), dtype = a.dtype)))\n",
    "print('\\nAfter appending with hstack:')\n",
    "print(b)"
   ]
  },
  {
   "cell_type": "markdown",
   "metadata": {
    "papermill": {
     "duration": 0.161338,
     "end_time": "2020-10-20T03:47:52.008285",
     "exception": false,
     "start_time": "2020-10-20T03:47:51.846947",
     "status": "completed"
    },
    "tags": []
   },
   "source": [
    "<div style=\"\">\n",
    "    <div style=\"float: left; width: 80%;\">\n",
    "        <a id=\"87\"></a>\n",
    "        <font><b>Task 87:</b></font>\n",
    "        <br><br>\n",
    "        Ravel vs. Flatten\n",
    "    </div>\n",
    "    <div style=\"float: right;\">\n",
    "        <a href=\"#top\" class=\"btn btn-primary btn-sm\" role=\"button\" aria-pressed=\"true\" style=\"color:white\" data-toggle=\"popover\" title=\"go to Top\">Go to Top</a>\n",
    "    </div>\n",
    "    <br style=\"clear: left;\" />\n",
    "</div>"
   ]
  },
  {
   "cell_type": "code",
   "execution_count": 92,
   "metadata": {
    "execution": {
     "iopub.execute_input": "2020-10-20T03:47:52.342422Z",
     "iopub.status.busy": "2020-10-20T03:47:52.341585Z",
     "iopub.status.idle": "2020-10-20T03:47:52.345453Z",
     "shell.execute_reply": "2020-10-20T03:47:52.344676Z"
    },
    "papermill": {
     "duration": 0.17623,
     "end_time": "2020-10-20T03:47:52.345620",
     "exception": false,
     "start_time": "2020-10-20T03:47:52.169390",
     "status": "completed"
    },
    "tags": []
   },
   "outputs": [
    {
     "name": "stdout",
     "output_type": "stream",
     "text": [
      "Original numpy array:\n",
      "[[1 2]\n",
      " [3 4]]\n",
      "\n",
      "ravel a:\n",
      "[1 2 3 4]\n",
      "\n",
      "flatten a:\n",
      "[1 2 3 4]\n",
      "\n",
      "ravel a base:\n",
      "[[1 2]\n",
      " [3 4]]\n",
      "\n",
      "flatten a base:\n",
      "None\n"
     ]
    }
   ],
   "source": [
    "# 87. Ravel vs. Flatten\n",
    "\n",
    "a = np.array([[1,2],[3,4]])\n",
    "print('Original numpy array:')\n",
    "print(a)\n",
    "\n",
    "ravel_a = np.ravel(a)\n",
    "flatten_a = np.ndarray.flatten(a)  \n",
    "\n",
    "print('\\nravel a:')\n",
    "print(ravel_a)\n",
    "\n",
    "print('\\nflatten a:')\n",
    "print(flatten_a)\n",
    "\n",
    "print('\\nravel a base:')\n",
    "print(ravel_a.base)\n",
    "\n",
    "print('\\nflatten a base:')\n",
    "print(flatten_a.base) # since it is a copy, you would see None as base\n",
    "\n",
    "# Note: if view, you will see the original array in .base\n",
    "# If is a copy, you will see None in .base"
   ]
  },
  {
   "cell_type": "markdown",
   "metadata": {
    "papermill": {
     "duration": 0.165779,
     "end_time": "2020-10-20T03:47:52.674771",
     "exception": false,
     "start_time": "2020-10-20T03:47:52.508992",
     "status": "completed"
    },
    "tags": []
   },
   "source": [
    "<div style=\"\">\n",
    "    <div style=\"float: left; width: 80%;\">\n",
    "        <a id=\"88\"></a>\n",
    "        <font><b>Task 88:</b></font>\n",
    "        <br><br>\n",
    "        Ravel and Flatten with assignment\n",
    "    </div>\n",
    "    <div style=\"float: right;\">\n",
    "        <a href=\"#top\" class=\"btn btn-primary btn-sm\" role=\"button\" aria-pressed=\"true\" style=\"color:white\" data-toggle=\"popover\" title=\"go to Top\">Go to Top</a>\n",
    "    </div>\n",
    "    <br style=\"clear: left;\" />\n",
    "</div>"
   ]
  },
  {
   "cell_type": "code",
   "execution_count": 93,
   "metadata": {
    "execution": {
     "iopub.execute_input": "2020-10-20T03:47:53.007059Z",
     "iopub.status.busy": "2020-10-20T03:47:53.006111Z",
     "iopub.status.idle": "2020-10-20T03:47:53.012787Z",
     "shell.execute_reply": "2020-10-20T03:47:53.011812Z"
    },
    "papermill": {
     "duration": 0.177405,
     "end_time": "2020-10-20T03:47:53.012908",
     "exception": false,
     "start_time": "2020-10-20T03:47:52.835503",
     "status": "completed"
    },
    "tags": []
   },
   "outputs": [
    {
     "name": "stdout",
     "output_type": "stream",
     "text": [
      "Original numpy array, a:\n",
      "[[1 2]\n",
      " [3 4]]\n",
      "\n",
      "ravel a:\n",
      "[1 2 3 4]\n",
      "\n",
      "flatten a:\n",
      "[1 2 3 4]\n",
      "\n",
      "After changing ravel, a:\n",
      "[[100   2]\n",
      " [  3   4]]\n",
      "\n",
      "After changing flatten, a:\n",
      "[[100   2]\n",
      " [  3   4]]\n",
      "\n",
      "ravel a base:\n",
      "[[100   2]\n",
      " [  3   4]]\n",
      "\n",
      "flatten a base:\n",
      "None\n"
     ]
    }
   ],
   "source": [
    "# 88. Ravel and Flatten with assignment\n",
    "\n",
    "a = np.array([[1,2],[3,4]])\n",
    "print('Original numpy array, a:')\n",
    "print(a)\n",
    "\n",
    "ravel_a = np.ravel(a)\n",
    "flatten_a = np.ndarray.flatten(a)  \n",
    "\n",
    "print('\\nravel a:')\n",
    "print(ravel_a)\n",
    "\n",
    "print('\\nflatten a:')\n",
    "print(flatten_a)\n",
    "\n",
    "ravel_a[0] = 100\n",
    "print('\\nAfter changing ravel, a:')\n",
    "print(a)\n",
    "\n",
    "flatten_a[1] = 200\n",
    "print('\\nAfter changing flatten, a:')\n",
    "print(a)\n",
    "\n",
    "print('\\nravel a base:')\n",
    "print(ravel_a.base)\n",
    "\n",
    "print('\\nflatten a base:')\n",
    "print(flatten_a.base) # since it is a copy, you would see None as base\n",
    "\n",
    "# Note: if view, you will see the original array in .base\n",
    "# If is a copy, you will see None in .base"
   ]
  },
  {
   "cell_type": "markdown",
   "metadata": {
    "papermill": {
     "duration": 0.167135,
     "end_time": "2020-10-20T03:47:53.341593",
     "exception": false,
     "start_time": "2020-10-20T03:47:53.174458",
     "status": "completed"
    },
    "tags": []
   },
   "source": [
    "<div style=\"\">\n",
    "    <div style=\"float: left; width: 80%;\">\n",
    "        <a id=\"89\"></a>\n",
    "        <font><b>Task 89:</b></font>\n",
    "        <br><br>\n",
    "        Numpy Concatenate\n",
    "    </div>\n",
    "    <div style=\"float: right;\">\n",
    "        <a href=\"#top\" class=\"btn btn-primary btn-sm\" role=\"button\" aria-pressed=\"true\" style=\"color:white\" data-toggle=\"popover\" title=\"go to Top\">Go to Top</a>\n",
    "    </div>\n",
    "    <br style=\"clear: left;\" />\n",
    "</div>"
   ]
  },
  {
   "cell_type": "code",
   "execution_count": 94,
   "metadata": {
    "execution": {
     "iopub.execute_input": "2020-10-20T03:47:53.674585Z",
     "iopub.status.busy": "2020-10-20T03:47:53.673876Z",
     "iopub.status.idle": "2020-10-20T03:47:53.677942Z",
     "shell.execute_reply": "2020-10-20T03:47:53.677199Z"
    },
    "papermill": {
     "duration": 0.17462,
     "end_time": "2020-10-20T03:47:53.678117",
     "exception": false,
     "start_time": "2020-10-20T03:47:53.503497",
     "status": "completed"
    },
    "tags": []
   },
   "outputs": [
    {
     "name": "stdout",
     "output_type": "stream",
     "text": [
      "a:\n",
      "[[0 1]\n",
      " [2 3]]\n",
      "\n",
      "b:\n",
      "[[5 6]]\n",
      "\n",
      "After appending as a row:\n",
      "[[0 1]\n",
      " [2 3]\n",
      " [5 6]]\n",
      "\n",
      "After appending as a colum:\n",
      "[[0 1 5]\n",
      " [2 3 6]]\n",
      "\n",
      "After flatteeing and appending:\n",
      "[0 1 2 3 5 6]\n"
     ]
    }
   ],
   "source": [
    "# 89. Numpy Concatenate\n",
    "\n",
    "a = np.arange(4).reshape(2, -1)\n",
    "b = np.array([[5, 6]])\n",
    "\n",
    "print('a:')\n",
    "print(a)\n",
    "\n",
    "print('\\nb:')\n",
    "print(b)\n",
    "\n",
    "# appending as a row\n",
    "c = np.concatenate((a, b), axis = 0)\n",
    "print('\\nAfter appending as a row:')\n",
    "print(c)\n",
    "\n",
    "\n",
    "# appending as a colum\n",
    "d = np.concatenate((a, b.T), axis = 1)\n",
    "print('\\nAfter appending as a colum:')\n",
    "print(d)\n",
    "\n",
    "\n",
    "e = np.concatenate((a, b), axis = None)\n",
    "print('\\nAfter flatteeing and appending:')\n",
    "print(e)"
   ]
  },
  {
   "cell_type": "markdown",
   "metadata": {
    "papermill": {
     "duration": 0.163546,
     "end_time": "2020-10-20T03:47:54.006827",
     "exception": false,
     "start_time": "2020-10-20T03:47:53.843281",
     "status": "completed"
    },
    "tags": []
   },
   "source": [
    "<div style=\"\">\n",
    "    <div style=\"float: left; width: 80%;\">\n",
    "        <a id=\"90\"></a>\n",
    "        <font><b>Task 90:</b></font>\n",
    "        <br><br>\n",
    "        Reverse 1D array\n",
    "    </div>\n",
    "    <div style=\"float: right;\">\n",
    "        <a href=\"#top\" class=\"btn btn-primary btn-sm\" role=\"button\" aria-pressed=\"true\" style=\"color:white\" data-toggle=\"popover\" title=\"go to Top\">Go to Top</a>\n",
    "    </div>\n",
    "    <br style=\"clear: left;\" />\n",
    "</div>"
   ]
  },
  {
   "cell_type": "code",
   "execution_count": 95,
   "metadata": {
    "execution": {
     "iopub.execute_input": "2020-10-20T03:47:54.368629Z",
     "iopub.status.busy": "2020-10-20T03:47:54.367658Z",
     "iopub.status.idle": "2020-10-20T03:47:54.371857Z",
     "shell.execute_reply": "2020-10-20T03:47:54.372340Z"
    },
    "papermill": {
     "duration": 0.202606,
     "end_time": "2020-10-20T03:47:54.372518",
     "exception": false,
     "start_time": "2020-10-20T03:47:54.169912",
     "status": "completed"
    },
    "tags": []
   },
   "outputs": [
    {
     "name": "stdout",
     "output_type": "stream",
     "text": [
      "Before:\n",
      "[0 1 2 3]\n",
      "\n",
      "After reversing:\n",
      "[3 2 1 0]\n"
     ]
    }
   ],
   "source": [
    "# 90. Reverse 1D array\n",
    "\n",
    "x = np.arange(4)\n",
    "print('Before:')\n",
    "print(x)\n",
    "\n",
    "y = x[::-1]\n",
    "print('\\nAfter reversing:')\n",
    "print(y)"
   ]
  },
  {
   "cell_type": "markdown",
   "metadata": {
    "papermill": {
     "duration": 0.166505,
     "end_time": "2020-10-20T03:47:54.714781",
     "exception": false,
     "start_time": "2020-10-20T03:47:54.548276",
     "status": "completed"
    },
    "tags": []
   },
   "source": [
    "<div style=\"\">\n",
    "    <div style=\"float: left; width: 80%;\">\n",
    "        <a id=\"91\"></a>\n",
    "        <font><b>Task 91:</b></font>\n",
    "        <br><br>\n",
    "        Reverse 2D Array\n",
    "    </div>\n",
    "    <div style=\"float: right;\">\n",
    "        <a href=\"#top\" class=\"btn btn-primary btn-sm\" role=\"button\" aria-pressed=\"true\" style=\"color:white\" data-toggle=\"popover\" title=\"go to Top\">Go to Top</a>\n",
    "    </div>\n",
    "    <br style=\"clear: left;\" />\n",
    "</div>"
   ]
  },
  {
   "cell_type": "code",
   "execution_count": 96,
   "metadata": {
    "execution": {
     "iopub.execute_input": "2020-10-20T03:47:55.058669Z",
     "iopub.status.busy": "2020-10-20T03:47:55.057944Z",
     "iopub.status.idle": "2020-10-20T03:47:55.061692Z",
     "shell.execute_reply": "2020-10-20T03:47:55.060882Z"
    },
    "papermill": {
     "duration": 0.176697,
     "end_time": "2020-10-20T03:47:55.061837",
     "exception": false,
     "start_time": "2020-10-20T03:47:54.885140",
     "status": "completed"
    },
    "tags": []
   },
   "outputs": [
    {
     "name": "stdout",
     "output_type": "stream",
     "text": [
      "Before:\n",
      "[[0 1 2 3]\n",
      " [4 5 6 7]]\n",
      "\n",
      "After reversing:\n",
      "[[4 5 6 7]\n",
      " [0 1 2 3]]\n"
     ]
    }
   ],
   "source": [
    "# 91. Reverse 2D Array\n",
    "\n",
    "x = np.arange(8).reshape(2, -1)\n",
    "print('Before:')\n",
    "print(x)\n",
    "\n",
    "y = x[::-1]\n",
    "print('\\nAfter reversing:')\n",
    "print(y)"
   ]
  },
  {
   "cell_type": "markdown",
   "metadata": {
    "papermill": {
     "duration": 0.163234,
     "end_time": "2020-10-20T03:47:55.390821",
     "exception": false,
     "start_time": "2020-10-20T03:47:55.227587",
     "status": "completed"
    },
    "tags": []
   },
   "source": [
    "<div style=\"\">\n",
    "    <div style=\"float: left; width: 80%;\">\n",
    "        <a id=\"92\"></a>\n",
    "        <font><b>Task 92:</b></font>\n",
    "        <br><br>\n",
    "        Reverse 2D array with elements\n",
    "    </div>\n",
    "    <div style=\"float: right;\">\n",
    "        <a href=\"#top\" class=\"btn btn-primary btn-sm\" role=\"button\" aria-pressed=\"true\" style=\"color:white\" data-toggle=\"popover\" title=\"go to Top\">Go to Top</a>\n",
    "    </div>\n",
    "    <br style=\"clear: left;\" />\n",
    "</div>"
   ]
  },
  {
   "cell_type": "code",
   "execution_count": 97,
   "metadata": {
    "execution": {
     "iopub.execute_input": "2020-10-20T03:47:55.724233Z",
     "iopub.status.busy": "2020-10-20T03:47:55.723553Z",
     "iopub.status.idle": "2020-10-20T03:47:55.727517Z",
     "shell.execute_reply": "2020-10-20T03:47:55.728068Z"
    },
    "papermill": {
     "duration": 0.175034,
     "end_time": "2020-10-20T03:47:55.728214",
     "exception": false,
     "start_time": "2020-10-20T03:47:55.553180",
     "status": "completed"
    },
    "tags": []
   },
   "outputs": [
    {
     "name": "stdout",
     "output_type": "stream",
     "text": [
      "Before:\n",
      "[[0 1 2 3]\n",
      " [4 5 6 7]]\n",
      "\n",
      "After reversing with flip:\n",
      "[[7 6 5 4]\n",
      " [3 2 1 0]]\n",
      "\n",
      "After reversing with flipud:\n",
      "[[4 5 6 7]\n",
      " [0 1 2 3]]\n",
      "\n",
      "After reversing with fliplr:\n",
      "[[3 2 1 0]\n",
      " [7 6 5 4]]\n"
     ]
    }
   ],
   "source": [
    "# 92. Reverse 2D array with elements\n",
    "\n",
    "x = np.arange(8).reshape(2, -1)\n",
    "print('Before:')\n",
    "print(x)\n",
    "\n",
    "y = np.flip(x)\n",
    "print('\\nAfter reversing with flip:')\n",
    "print(y)\n",
    "\n",
    "y = np.flipud(x)\n",
    "print('\\nAfter reversing with flipud:')\n",
    "print(y)\n",
    "\n",
    "y = np.fliplr(x)\n",
    "print('\\nAfter reversing with fliplr:')\n",
    "print(y)"
   ]
  },
  {
   "cell_type": "markdown",
   "metadata": {
    "papermill": {
     "duration": 0.162464,
     "end_time": "2020-10-20T03:47:56.052711",
     "exception": false,
     "start_time": "2020-10-20T03:47:55.890247",
     "status": "completed"
    },
    "tags": []
   },
   "source": [
    "<div style=\"\">\n",
    "    <div style=\"float: left; width: 80%;\">\n",
    "        <a id=\"93\"></a>\n",
    "        <font><b>Task 93:</b></font>\n",
    "        <br><br>\n",
    "        Image as an array\n",
    "    </div>\n",
    "    <div style=\"float: right;\">\n",
    "        <a href=\"#top\" class=\"btn btn-primary btn-sm\" role=\"button\" aria-pressed=\"true\" style=\"color:white\" data-toggle=\"popover\" title=\"go to Top\">Go to Top</a>\n",
    "    </div>\n",
    "    <br style=\"clear: left;\" />\n",
    "</div>"
   ]
  },
  {
   "cell_type": "code",
   "execution_count": 98,
   "metadata": {
    "execution": {
     "iopub.execute_input": "2020-10-20T03:47:56.392902Z",
     "iopub.status.busy": "2020-10-20T03:47:56.392228Z",
     "iopub.status.idle": "2020-10-20T03:47:56.442205Z",
     "shell.execute_reply": "2020-10-20T03:47:56.441574Z"
    },
    "papermill": {
     "duration": 0.225428,
     "end_time": "2020-10-20T03:47:56.442324",
     "exception": false,
     "start_time": "2020-10-20T03:47:56.216896",
     "status": "completed"
    },
    "tags": []
   },
   "outputs": [
    {
     "name": "stdout",
     "output_type": "stream",
     "text": [
      "<class 'numpy.ndarray'>\n"
     ]
    }
   ],
   "source": [
    "# 93. Image as an array\n",
    "from PIL import Image\n",
    "\n",
    "image_np = np.asarray(Image.open('/kaggle/input/numpy-cheatsheet/cn_tower.jpg'))\n",
    "print(type(image_np))"
   ]
  },
  {
   "cell_type": "markdown",
   "metadata": {
    "papermill": {
     "duration": 0.162049,
     "end_time": "2020-10-20T03:47:56.766906",
     "exception": false,
     "start_time": "2020-10-20T03:47:56.604857",
     "status": "completed"
    },
    "tags": []
   },
   "source": [
    "<div style=\"\">\n",
    "    <div style=\"float: left; width: 80%;\">\n",
    "        <a id=\"94\"></a>\n",
    "        <font><b>Task 94:</b></font>\n",
    "        <br><br>\n",
    "        Array with prefilled values\n",
    "    </div>\n",
    "    <div style=\"float: right;\">\n",
    "        <a href=\"#top\" class=\"btn btn-primary btn-sm\" role=\"button\" aria-pressed=\"true\" style=\"color:white\" data-toggle=\"popover\" title=\"go to Top\">Go to Top</a>\n",
    "    </div>\n",
    "    <br style=\"clear: left;\" />\n",
    "</div>"
   ]
  },
  {
   "cell_type": "code",
   "execution_count": 99,
   "metadata": {
    "execution": {
     "iopub.execute_input": "2020-10-20T03:47:57.098099Z",
     "iopub.status.busy": "2020-10-20T03:47:57.097369Z",
     "iopub.status.idle": "2020-10-20T03:47:57.100862Z",
     "shell.execute_reply": "2020-10-20T03:47:57.100311Z"
    },
    "papermill": {
     "duration": 0.171897,
     "end_time": "2020-10-20T03:47:57.100982",
     "exception": false,
     "start_time": "2020-10-20T03:47:56.929085",
     "status": "completed"
    },
    "tags": []
   },
   "outputs": [
    {
     "name": "stdout",
     "output_type": "stream",
     "text": [
      "Array with prefilled values:\n",
      "[[23 23 23 23]\n",
      " [23 23 23 23]]\n",
      "\n",
      "Array with prefilled values by using empty and fill:\n",
      "[[23 23 23 23]\n",
      " [23 23 23 23]]\n"
     ]
    }
   ],
   "source": [
    "# 94. Array with prefilled values\n",
    "\n",
    "a = np.full((2, 4), 23)\n",
    "print('Array with prefilled values:')\n",
    "print(a)\n",
    "\n",
    "b = np.empty((2, 4), dtype = int)\n",
    "b.fill(23)\n",
    "print('\\nArray with prefilled values by using empty and fill:')\n",
    "print(b)"
   ]
  },
  {
   "cell_type": "markdown",
   "metadata": {
    "papermill": {
     "duration": 0.200667,
     "end_time": "2020-10-20T03:47:57.465619",
     "exception": false,
     "start_time": "2020-10-20T03:47:57.264952",
     "status": "completed"
    },
    "tags": []
   },
   "source": [
    "<div style=\"\">\n",
    "    <div style=\"float: left; width: 80%;\">\n",
    "        <a id=\"95\"></a>\n",
    "        <font><b>Task 95:</b></font>\n",
    "        <br><br>\n",
    "        Delete specific indices\n",
    "    </div>\n",
    "    <div style=\"float: right;\">\n",
    "        <a href=\"#top\" class=\"btn btn-primary btn-sm\" role=\"button\" aria-pressed=\"true\" style=\"color:white\" data-toggle=\"popover\" title=\"go to Top\">Go to Top</a>\n",
    "    </div>\n",
    "    <br style=\"clear: left;\" />\n",
    "</div>"
   ]
  },
  {
   "cell_type": "code",
   "execution_count": 100,
   "metadata": {
    "execution": {
     "iopub.execute_input": "2020-10-20T03:47:57.796948Z",
     "iopub.status.busy": "2020-10-20T03:47:57.795986Z",
     "iopub.status.idle": "2020-10-20T03:47:57.800785Z",
     "shell.execute_reply": "2020-10-20T03:47:57.800144Z"
    },
    "papermill": {
     "duration": 0.172263,
     "end_time": "2020-10-20T03:47:57.800899",
     "exception": false,
     "start_time": "2020-10-20T03:47:57.628636",
     "status": "completed"
    },
    "tags": []
   },
   "outputs": [
    {
     "name": "stdout",
     "output_type": "stream",
     "text": [
      "Before:\n",
      "[1 3 5 4 7]\n",
      "\n",
      "After Deleting specific indices:\n",
      "[1 3 7]\n"
     ]
    }
   ],
   "source": [
    "# 95. Delete specific indices\n",
    "\n",
    "a = np.array([1, 3, 5, 4, 7])\n",
    "print('Before:')\n",
    "print(a)\n",
    "\n",
    "indices = [2, 3]\n",
    "b = np.delete(a, indices)\n",
    "\n",
    "print('\\nAfter Deleting specific indices:')\n",
    "print(b)"
   ]
  },
  {
   "cell_type": "markdown",
   "metadata": {
    "papermill": {
     "duration": 0.164052,
     "end_time": "2020-10-20T03:47:58.129634",
     "exception": false,
     "start_time": "2020-10-20T03:47:57.965582",
     "status": "completed"
    },
    "tags": []
   },
   "source": [
    "<div style=\"\">\n",
    "    <div style=\"float: left; width: 80%;\">\n",
    "        <a id=\"96\"></a>\n",
    "        <font><b>Task 96:</b></font>\n",
    "        <br><br>\n",
    "        Deleting specific elements\n",
    "    </div>\n",
    "    <div style=\"float: right;\">\n",
    "        <a href=\"#top\" class=\"btn btn-primary btn-sm\" role=\"button\" aria-pressed=\"true\" style=\"color:white\" data-toggle=\"popover\" title=\"go to Top\">Go to Top</a>\n",
    "    </div>\n",
    "    <br style=\"clear: left;\" />\n",
    "</div>"
   ]
  },
  {
   "cell_type": "code",
   "execution_count": 101,
   "metadata": {
    "execution": {
     "iopub.execute_input": "2020-10-20T03:47:58.465439Z",
     "iopub.status.busy": "2020-10-20T03:47:58.464793Z",
     "iopub.status.idle": "2020-10-20T03:47:58.467361Z",
     "shell.execute_reply": "2020-10-20T03:47:58.468375Z"
    },
    "papermill": {
     "duration": 0.173994,
     "end_time": "2020-10-20T03:47:58.468598",
     "exception": false,
     "start_time": "2020-10-20T03:47:58.294604",
     "status": "completed"
    },
    "tags": []
   },
   "outputs": [
    {
     "name": "stdout",
     "output_type": "stream",
     "text": [
      "Before:\n",
      "[1 4 5 4]\n",
      "\n",
      "After Deleting specific elements:\n",
      "[1 5]\n"
     ]
    }
   ],
   "source": [
    "# 96. Deleting specific elements\n",
    "\n",
    "a = np.array([1, 4, 5, 4])\n",
    "print('Before:')\n",
    "print(a)\n",
    "\n",
    "b = np.array([3, 4])\n",
    "c = np.setdiff1d(a, b)\n",
    "\n",
    "print('\\nAfter Deleting specific elements:')\n",
    "print(c)"
   ]
  },
  {
   "cell_type": "markdown",
   "metadata": {
    "papermill": {
     "duration": 0.163746,
     "end_time": "2020-10-20T03:47:58.797744",
     "exception": false,
     "start_time": "2020-10-20T03:47:58.633998",
     "status": "completed"
    },
    "tags": []
   },
   "source": [
    "<div style=\"\">\n",
    "    <div style=\"float: left; width: 80%;\">\n",
    "        <a id=\"97\"></a>\n",
    "        <font><b>Task 97:</b></font>\n",
    "        <br><br>\n",
    "        Boolean Numpy Array\n",
    "    </div>\n",
    "    <div style=\"float: right;\">\n",
    "        <a href=\"#top\" class=\"btn btn-primary btn-sm\" role=\"button\" aria-pressed=\"true\" style=\"color:white\" data-toggle=\"popover\" title=\"go to Top\">Go to Top</a>\n",
    "    </div>\n",
    "    <br style=\"clear: left;\" />\n",
    "</div>"
   ]
  },
  {
   "cell_type": "code",
   "execution_count": 102,
   "metadata": {
    "execution": {
     "iopub.execute_input": "2020-10-20T03:47:59.132151Z",
     "iopub.status.busy": "2020-10-20T03:47:59.131500Z",
     "iopub.status.idle": "2020-10-20T03:47:59.134832Z",
     "shell.execute_reply": "2020-10-20T03:47:59.134164Z"
    },
    "papermill": {
     "duration": 0.173338,
     "end_time": "2020-10-20T03:47:59.134979",
     "exception": false,
     "start_time": "2020-10-20T03:47:58.961641",
     "status": "completed"
    },
    "tags": []
   },
   "outputs": [
    {
     "name": "stdout",
     "output_type": "stream",
     "text": [
      "True Boolean Array:\n",
      "[[ True  True]\n",
      " [ True  True]]\n",
      "\n",
      "False Boolean Array:\n",
      "[[False False False]\n",
      " [False False False]]\n",
      "\n",
      "True Boolean Array by using .full:\n",
      "[[ True  True  True  True]\n",
      " [ True  True  True  True]]\n"
     ]
    }
   ],
   "source": [
    "# 97. Boolean Numpy Array\n",
    "\n",
    "a = np.ones((2, 2), dtype = bool)\n",
    "print('True Boolean Array:')\n",
    "print(a)\n",
    "\n",
    "b = np.zeros((2, 3), dtype = bool)\n",
    "print('\\nFalse Boolean Array:')\n",
    "print(b)\n",
    "\n",
    "c = np.full((2, 4), True)\n",
    "print('\\nTrue Boolean Array by using .full:')\n",
    "print(c)"
   ]
  },
  {
   "cell_type": "markdown",
   "metadata": {
    "papermill": {
     "duration": 0.165769,
     "end_time": "2020-10-20T03:47:59.467005",
     "exception": false,
     "start_time": "2020-10-20T03:47:59.301236",
     "status": "completed"
    },
    "tags": []
   },
   "source": [
    "<div style=\"\">\n",
    "    <div style=\"float: left; width: 80%;\">\n",
    "        <a id=\"98\"></a>\n",
    "        <font><b>Task 98:</b></font>\n",
    "        <br><br>\n",
    "        Array of NaN\n",
    "    </div>\n",
    "    <div style=\"float: right;\">\n",
    "        <a href=\"#top\" class=\"btn btn-primary btn-sm\" role=\"button\" aria-pressed=\"true\" style=\"color:white\" data-toggle=\"popover\" title=\"go to Top\">Go to Top</a>\n",
    "    </div>\n",
    "    <br style=\"clear: left;\" />\n",
    "</div>"
   ]
  },
  {
   "cell_type": "code",
   "execution_count": 103,
   "metadata": {
    "execution": {
     "iopub.execute_input": "2020-10-20T03:47:59.832204Z",
     "iopub.status.busy": "2020-10-20T03:47:59.831457Z",
     "iopub.status.idle": "2020-10-20T03:47:59.834731Z",
     "shell.execute_reply": "2020-10-20T03:47:59.835278Z"
    },
    "papermill": {
     "duration": 0.180423,
     "end_time": "2020-10-20T03:47:59.835429",
     "exception": false,
     "start_time": "2020-10-20T03:47:59.655006",
     "status": "completed"
    },
    "tags": []
   },
   "outputs": [
    {
     "name": "stdout",
     "output_type": "stream",
     "text": [
      "nan using empty:\n",
      "[[ nan  nan]\n",
      " [ nan  nan]\n",
      " [ nan  nan]]\n",
      "\n",
      "nan using full:\n",
      "[[ nan  nan]\n",
      " [ nan  nan]\n",
      " [ nan  nan]]\n"
     ]
    }
   ],
   "source": [
    "# 98. Array of NaN\n",
    "\n",
    "a = np.empty((3, 2,))\n",
    "a[:] = np.nan\n",
    "print('nan using empty:')\n",
    "print(a)\n",
    "\n",
    "b = np.full([3, 2], np.nan)\n",
    "print('\\nnan using full:')\n",
    "print(b)"
   ]
  },
  {
   "cell_type": "markdown",
   "metadata": {
    "papermill": {
     "duration": 0.168357,
     "end_time": "2020-10-20T03:48:00.173643",
     "exception": false,
     "start_time": "2020-10-20T03:48:00.005286",
     "status": "completed"
    },
    "tags": []
   },
   "source": [
    "<div style=\"\">\n",
    "    <div style=\"float: left; width: 80%;\">\n",
    "        <a id=\"99\"></a>\n",
    "        <font><b>Task 99**:</b></font>\n",
    "        <br><br>\n",
    "        Replace values with specific condition\n",
    "    </div>\n",
    "    <div style=\"float: right;\">\n",
    "        <a href=\"#top\" class=\"btn btn-primary btn-sm\" role=\"button\" aria-pressed=\"true\" style=\"color:white\" data-toggle=\"popover\" title=\"go to Top\">Go to Top</a>\n",
    "    </div>\n",
    "    <br style=\"clear: left;\" />\n",
    "</div>"
   ]
  },
  {
   "cell_type": "code",
   "execution_count": 104,
   "metadata": {
    "execution": {
     "iopub.execute_input": "2020-10-20T03:48:00.525696Z",
     "iopub.status.busy": "2020-10-20T03:48:00.524880Z",
     "iopub.status.idle": "2020-10-20T03:48:00.530106Z",
     "shell.execute_reply": "2020-10-20T03:48:00.530603Z"
    },
    "papermill": {
     "duration": 0.180068,
     "end_time": "2020-10-20T03:48:00.530750",
     "exception": false,
     "start_time": "2020-10-20T03:48:00.350682",
     "status": "completed"
    },
    "tags": []
   },
   "outputs": [
    {
     "name": "stdout",
     "output_type": "stream",
     "text": [
      "Before:\n",
      "[[ 0.96  0.14  0.28  0.61]\n",
      " [ 0.94  0.85  0.00  0.52]]\n",
      "\n",
      "After updating a[a > 0.5] = 0.5:\n",
      "[[ 0.50  0.14  0.28  0.50]\n",
      " [ 0.50  0.50  0.00  0.50]]\n"
     ]
    }
   ],
   "source": [
    "# 99. Replace values with specific condition\n",
    "\n",
    "import numpy as np\n",
    "a = np.random.rand(2, 4)\n",
    "print('Before:')\n",
    "print(a)\n",
    "\n",
    "a[a > 0.5] = 0.5\n",
    "print('\\nAfter updating a[a > 0.5] = 0.5:')\n",
    "print(a)"
   ]
  },
  {
   "cell_type": "markdown",
   "metadata": {
    "papermill": {
     "duration": 0.166012,
     "end_time": "2020-10-20T03:48:00.863313",
     "exception": false,
     "start_time": "2020-10-20T03:48:00.697301",
     "status": "completed"
    },
    "tags": []
   },
   "source": [
    "<div style=\"\">\n",
    "    <div style=\"float: left; width: 80%;\">\n",
    "        <a id=\"100\"></a>\n",
    "        <font><b>Task 100:</b></font>\n",
    "        <br><br>\n",
    "        Selecting specific columns\n",
    "    </div>\n",
    "    <div style=\"float: right;\">\n",
    "        <a href=\"#top\" class=\"btn btn-primary btn-sm\" role=\"button\" aria-pressed=\"true\" style=\"color:white\" data-toggle=\"popover\" title=\"go to Top\">Go to Top</a>\n",
    "    </div>\n",
    "    <br style=\"clear: left;\" />\n",
    "</div>"
   ]
  },
  {
   "cell_type": "code",
   "execution_count": 105,
   "metadata": {
    "execution": {
     "iopub.execute_input": "2020-10-20T03:48:01.203157Z",
     "iopub.status.busy": "2020-10-20T03:48:01.202277Z",
     "iopub.status.idle": "2020-10-20T03:48:01.205434Z",
     "shell.execute_reply": "2020-10-20T03:48:01.206039Z"
    },
    "papermill": {
     "duration": 0.176907,
     "end_time": "2020-10-20T03:48:01.206194",
     "exception": false,
     "start_time": "2020-10-20T03:48:01.029287",
     "status": "completed"
    },
    "tags": []
   },
   "outputs": [
    {
     "name": "stdout",
     "output_type": "stream",
     "text": [
      "Before:\n",
      "[[ 0  1  2  3]\n",
      " [ 4  5  6  7]\n",
      " [ 8  9 10 11]]\n",
      "\n",
      "After selecting specific columns:\n",
      "[[ 1  3]\n",
      " [ 5  7]\n",
      " [ 9 11]]\n"
     ]
    }
   ],
   "source": [
    "# 100. Selecting specific columns\n",
    "\n",
    "x = np.arange(12).reshape(3, 4)\n",
    "print('Before:')\n",
    "print(x)\n",
    "\n",
    "y = x[:, [1, 3]]\n",
    "print('\\nAfter selecting specific columns:')\n",
    "print(y)"
   ]
  },
  {
   "cell_type": "markdown",
   "metadata": {
    "papermill": {
     "duration": 0.166218,
     "end_time": "2020-10-20T03:48:01.539759",
     "exception": false,
     "start_time": "2020-10-20T03:48:01.373541",
     "status": "completed"
    },
    "tags": []
   },
   "source": [
    "<div style=\"\">\n",
    "    <div style=\"float: left; width: 80%;\">\n",
    "        <a id=\"101\"></a>\n",
    "        <font><b>Task 101:</b></font>\n",
    "        <br><br>\n",
    "        Vectorize\n",
    "    </div>\n",
    "    <div style=\"float: right;\">\n",
    "        <a href=\"#top\" class=\"btn btn-primary btn-sm\" role=\"button\" aria-pressed=\"true\" style=\"color:white\" data-toggle=\"popover\" title=\"go to Top\">Go to Top</a>\n",
    "    </div>\n",
    "    <br style=\"clear: left;\" />\n",
    "</div>"
   ]
  },
  {
   "cell_type": "code",
   "execution_count": 106,
   "metadata": {
    "execution": {
     "iopub.execute_input": "2020-10-20T03:48:01.879855Z",
     "iopub.status.busy": "2020-10-20T03:48:01.879048Z",
     "iopub.status.idle": "2020-10-20T03:48:01.883275Z",
     "shell.execute_reply": "2020-10-20T03:48:01.882318Z"
    },
    "papermill": {
     "duration": 0.177383,
     "end_time": "2020-10-20T03:48:01.883424",
     "exception": false,
     "start_time": "2020-10-20T03:48:01.706041",
     "status": "completed"
    },
    "tags": []
   },
   "outputs": [
    {
     "name": "stdout",
     "output_type": "stream",
     "text": [
      "[202 203 206 210]\n"
     ]
    }
   ],
   "source": [
    "# 101. Vectorize\n",
    "\n",
    "aa = np.array([[1,2,3,4], [2,3,4,5], [5,6,7,8], [9,10,11,12]])\n",
    "bb = np.array([[100,200,300,400], [100,200,300,400], [100,200,300,400], [100,200,300,400]])\n",
    "\n",
    "def vec2(a, b):\n",
    "    return a + b\n",
    "\n",
    "func2 = np.vectorize(vec2)\n",
    "print(func2(bb[:,1], aa[:,1]))"
   ]
  },
  {
   "cell_type": "markdown",
   "metadata": {
    "papermill": {
     "duration": 0.167795,
     "end_time": "2020-10-20T03:48:02.220206",
     "exception": false,
     "start_time": "2020-10-20T03:48:02.052411",
     "status": "completed"
    },
    "tags": []
   },
   "source": [
    "<div style=\"\">\n",
    "    <div style=\"float: left; width: 80%;\">\n",
    "        <a id=\"102\"></a>\n",
    "        <font><b>Task 102:</b></font>\n",
    "        <br><br>\n",
    "        If condition on Numpy array on the fly\n",
    "    </div>\n",
    "    <div style=\"float: right;\">\n",
    "        <a href=\"#top\" class=\"btn btn-primary btn-sm\" role=\"button\" aria-pressed=\"true\" style=\"color:white\" data-toggle=\"popover\" title=\"go to Top\">Go to Top</a>\n",
    "    </div>\n",
    "    <br style=\"clear: left;\" />\n",
    "</div>"
   ]
  },
  {
   "cell_type": "code",
   "execution_count": 107,
   "metadata": {
    "execution": {
     "iopub.execute_input": "2020-10-20T03:48:02.564697Z",
     "iopub.status.busy": "2020-10-20T03:48:02.563948Z",
     "iopub.status.idle": "2020-10-20T03:48:02.566976Z",
     "shell.execute_reply": "2020-10-20T03:48:02.567595Z"
    },
    "papermill": {
     "duration": 0.180933,
     "end_time": "2020-10-20T03:48:02.567741",
     "exception": false,
     "start_time": "2020-10-20T03:48:02.386808",
     "status": "completed"
    },
    "tags": []
   },
   "outputs": [
    {
     "name": "stdout",
     "output_type": "stream",
     "text": [
      "[(0, 1) (2, 3) (4, 5)]\n",
      "[ True  True False]\n",
      "2\n"
     ]
    }
   ],
   "source": [
    "# 102. If condition on Numpy array on the fly\n",
    "\n",
    "a = np.arange(6).view([('b', np.int),('c', np.int)])\n",
    "\n",
    "print(a)\n",
    "\n",
    "print(a['b'] < 4)\n",
    "\n",
    "print((a['b'] < 4).sum())"
   ]
  },
  {
   "cell_type": "markdown",
   "metadata": {
    "papermill": {
     "duration": 0.166308,
     "end_time": "2020-10-20T03:48:02.899984",
     "exception": false,
     "start_time": "2020-10-20T03:48:02.733676",
     "status": "completed"
    },
    "tags": []
   },
   "source": [
    "<div style=\"\">\n",
    "    <div style=\"float: left; width: 80%;\">\n",
    "        <a id=\"103\"></a>\n",
    "        <font><b>Task 103:</b></font>\n",
    "        <br><br>\n",
    "        If condition and sum on Numpy colum\n",
    "    </div>\n",
    "    <div style=\"float: right;\">\n",
    "        <a href=\"#top\" class=\"btn btn-primary btn-sm\" role=\"button\" aria-pressed=\"true\" style=\"color:white\" data-toggle=\"popover\" title=\"go to Top\">Go to Top</a>\n",
    "    </div>\n",
    "    <br style=\"clear: left;\" />\n",
    "</div>"
   ]
  },
  {
   "cell_type": "code",
   "execution_count": 108,
   "metadata": {
    "execution": {
     "iopub.execute_input": "2020-10-20T03:48:03.243199Z",
     "iopub.status.busy": "2020-10-20T03:48:03.242411Z",
     "iopub.status.idle": "2020-10-20T03:48:03.246593Z",
     "shell.execute_reply": "2020-10-20T03:48:03.245421Z"
    },
    "papermill": {
     "duration": 0.179378,
     "end_time": "2020-10-20T03:48:03.246757",
     "exception": false,
     "start_time": "2020-10-20T03:48:03.067379",
     "status": "completed"
    },
    "tags": []
   },
   "outputs": [
    {
     "name": "stdout",
     "output_type": "stream",
     "text": [
      "Original Array:\n",
      "[[7 0 2 6 2]\n",
      " [0 4 6 9 0]\n",
      " [0 9 8 9 6]\n",
      " [1 8 4 0 4]]\n",
      "\n",
      "Printing elements in colmns which are greater than 2: \n",
      "[False  True  True  True]\n",
      "\n",
      "Printing elements' sum in colmns which are greater than 2: \n",
      "3\n"
     ]
    }
   ],
   "source": [
    "# 103. If condition and sum on Numpy colum\n",
    "\n",
    "a = np.random.randint(0, 10, 20).reshape(4, 5)\n",
    "\n",
    "print('Original Array:')\n",
    "print(a)\n",
    "\n",
    "# How many elements in column 3 are greater than 2?\n",
    "b = a[:, 1] > 2\n",
    "\n",
    "print('\\nPrinting elements in colmns which are greater than 2: ')\n",
    "print(b)\n",
    "\n",
    "print('\\nPrinting elements\\' sum in colmns which are greater than 2: ')\n",
    "print(b.sum())"
   ]
  },
  {
   "cell_type": "markdown",
   "metadata": {
    "papermill": {
     "duration": 0.166988,
     "end_time": "2020-10-20T03:48:03.582371",
     "exception": false,
     "start_time": "2020-10-20T03:48:03.415383",
     "status": "completed"
    },
    "tags": []
   },
   "source": [
    "<div style=\"\">\n",
    "    <div style=\"float: left; width: 80%;\">\n",
    "        <a id=\"104\"></a>\n",
    "        <font><b>Task 104:</b></font>\n",
    "        <br><br>\n",
    "        Using Vectorize function on Numpy\n",
    "    </div>\n",
    "    <div style=\"float: right;\">\n",
    "        <a href=\"#top\" class=\"btn btn-primary btn-sm\" role=\"button\" aria-pressed=\"true\" style=\"color:white\" data-toggle=\"popover\" title=\"go to Top\">Go to Top</a>\n",
    "    </div>\n",
    "    <br style=\"clear: left;\" />\n",
    "</div>"
   ]
  },
  {
   "cell_type": "code",
   "execution_count": 109,
   "metadata": {
    "execution": {
     "iopub.execute_input": "2020-10-20T03:48:03.923267Z",
     "iopub.status.busy": "2020-10-20T03:48:03.922601Z",
     "iopub.status.idle": "2020-10-20T03:48:03.926959Z",
     "shell.execute_reply": "2020-10-20T03:48:03.926415Z"
    },
    "papermill": {
     "duration": 0.177085,
     "end_time": "2020-10-20T03:48:03.927066",
     "exception": false,
     "start_time": "2020-10-20T03:48:03.749981",
     "status": "completed"
    },
    "tags": []
   },
   "outputs": [
    {
     "name": "stdout",
     "output_type": "stream",
     "text": [
      "[[7 4 5]\n",
      " [7 7 5]]\n"
     ]
    }
   ],
   "source": [
    "# 104. Using Vectorize function on Numpy\n",
    "\n",
    "def get_max(a, b):\n",
    "    \n",
    "    if (a > b): \n",
    "        return a\n",
    "    \n",
    "    return b\n",
    "    \n",
    "b_vectfunc = np.vectorize(get_max)\n",
    "x = [[1, 2, 3], [4, 7, 2]]\n",
    "y = [7, 4, 5]\n",
    "\n",
    "result = b_vectfunc(x, y)\n",
    "\n",
    "print(result)\n",
    "\n",
    "# Note: It will compare the array element wise and get the max value"
   ]
  },
  {
   "cell_type": "markdown",
   "metadata": {
    "papermill": {
     "duration": 0.169388,
     "end_time": "2020-10-20T03:48:04.265189",
     "exception": false,
     "start_time": "2020-10-20T03:48:04.095801",
     "status": "completed"
    },
    "tags": []
   },
   "source": [
    "<div style=\"\">\n",
    "    <div style=\"float: left; width: 80%;\">\n",
    "        <a id=\"105\"></a>\n",
    "        <font><b>Task 105:</b></font>\n",
    "        <br><br>\n",
    "        Apply Along Axis on Numpy Matrix\n",
    "    </div>\n",
    "    <div style=\"float: right;\">\n",
    "        <a href=\"#top\" class=\"btn btn-primary btn-sm\" role=\"button\" aria-pressed=\"true\" style=\"color:white\" data-toggle=\"popover\" title=\"go to Top\">Go to Top</a>\n",
    "    </div>\n",
    "    <br style=\"clear: left;\" />\n",
    "</div>"
   ]
  },
  {
   "cell_type": "code",
   "execution_count": 110,
   "metadata": {
    "execution": {
     "iopub.execute_input": "2020-10-20T03:48:04.615486Z",
     "iopub.status.busy": "2020-10-20T03:48:04.614538Z",
     "iopub.status.idle": "2020-10-20T03:48:04.617749Z",
     "shell.execute_reply": "2020-10-20T03:48:04.618399Z"
    },
    "papermill": {
     "duration": 0.182701,
     "end_time": "2020-10-20T03:48:04.618595",
     "exception": false,
     "start_time": "2020-10-20T03:48:04.435894",
     "status": "completed"
    },
    "tags": []
   },
   "outputs": [
    {
     "name": "stdout",
     "output_type": "stream",
     "text": [
      "Original array:\n",
      "[[2 6 6]\n",
      " [4 5 6]\n",
      " [6 1 7]]\n",
      "\n",
      "After averaging the first and last element:\n",
      "[ 4.00  3.50  6.50]\n"
     ]
    }
   ],
   "source": [
    "# 105. Apply Along Axis on Numpy Matrix\n",
    "\n",
    "def get_avg(a):\n",
    "    return (a[0] + a[-1]) / 2\n",
    "\n",
    "a = np.random.randint(1, 10, 9).reshape(3, 3)\n",
    "\n",
    "print('Original array:')\n",
    "print(a)\n",
    "\n",
    "b = np.apply_along_axis(get_avg, 0, a)\n",
    "\n",
    "print('\\nAfter averaging the first and last element:')\n",
    "print(b)"
   ]
  },
  {
   "cell_type": "markdown",
   "metadata": {
    "papermill": {
     "duration": 0.169253,
     "end_time": "2020-10-20T03:48:04.956901",
     "exception": false,
     "start_time": "2020-10-20T03:48:04.787648",
     "status": "completed"
    },
    "tags": []
   },
   "source": [
    "<div style=\"\">\n",
    "    <div style=\"float: left; width: 80%;\">\n",
    "        <a id=\"106\"></a>\n",
    "        <font><b>Task 106:</b></font>\n",
    "        <br><br>\n",
    "        Sort the arry by using \n",
    "    </div>\n",
    "    <div style=\"float: right;\">\n",
    "        <a href=\"#top\" class=\"btn btn-primary btn-sm\" role=\"button\" aria-pressed=\"true\" style=\"color:white\" data-toggle=\"popover\" title=\"go to Top\">Go to Top</a>\n",
    "    </div>\n",
    "    <br style=\"clear: left;\" />\n",
    "</div>"
   ]
  },
  {
   "cell_type": "code",
   "execution_count": 111,
   "metadata": {
    "execution": {
     "iopub.execute_input": "2020-10-20T03:48:05.304027Z",
     "iopub.status.busy": "2020-10-20T03:48:05.303324Z",
     "iopub.status.idle": "2020-10-20T03:48:05.307034Z",
     "shell.execute_reply": "2020-10-20T03:48:05.307589Z"
    },
    "papermill": {
     "duration": 0.181223,
     "end_time": "2020-10-20T03:48:05.307755",
     "exception": false,
     "start_time": "2020-10-20T03:48:05.126532",
     "status": "completed"
    },
    "tags": []
   },
   "outputs": [
    {
     "name": "stdout",
     "output_type": "stream",
     "text": [
      "Original Array :\n",
      "[[7 4 3]\n",
      " [5 4 7]\n",
      " [8 5 2]]\n",
      "\n",
      "After sorting :\n",
      "[[5 4 2]\n",
      " [7 4 3]\n",
      " [8 5 7]]\n"
     ]
    }
   ],
   "source": [
    "# 106. Sort the arry by using \n",
    "\n",
    "a = np.random.randint(1, 10, 9).reshape(3, 3)\n",
    "\n",
    "print('Original Array :')\n",
    "print(a)\n",
    "\n",
    "b = np.apply_along_axis(sorted, 0, a)\n",
    "\n",
    "print('\\nAfter sorting :')\n",
    "print(b)"
   ]
  },
  {
   "cell_type": "markdown",
   "metadata": {
    "papermill": {
     "duration": 0.169239,
     "end_time": "2020-10-20T03:48:05.647005",
     "exception": false,
     "start_time": "2020-10-20T03:48:05.477766",
     "status": "completed"
    },
    "tags": []
   },
   "source": [
    "<div style=\"\">\n",
    "    <div style=\"float: left; width: 80%;\">\n",
    "        <a id=\"107\"></a>\n",
    "        <font><b>Task 107:</b></font>\n",
    "        <br><br>\n",
    "        Numpy Roll\n",
    "    </div>\n",
    "    <div style=\"float: right;\">\n",
    "        <a href=\"#top\" class=\"btn btn-primary btn-sm\" role=\"button\" aria-pressed=\"true\" style=\"color:white\" data-toggle=\"popover\" title=\"go to Top\">Go to Top</a>\n",
    "    </div>\n",
    "    <br style=\"clear: left;\" />\n",
    "</div>"
   ]
  },
  {
   "cell_type": "code",
   "execution_count": 112,
   "metadata": {
    "execution": {
     "iopub.execute_input": "2020-10-20T03:48:05.993135Z",
     "iopub.status.busy": "2020-10-20T03:48:05.992527Z",
     "iopub.status.idle": "2020-10-20T03:48:05.995824Z",
     "shell.execute_reply": "2020-10-20T03:48:05.996554Z"
    },
    "papermill": {
     "duration": 0.180989,
     "end_time": "2020-10-20T03:48:05.996717",
     "exception": false,
     "start_time": "2020-10-20T03:48:05.815728",
     "status": "completed"
    },
    "tags": []
   },
   "outputs": [
    {
     "name": "stdout",
     "output_type": "stream",
     "text": [
      "[[1 2 3]\n",
      " [4 5 6]]\n",
      "\n",
      "After:\n",
      "[[3 1 2]\n",
      " [6 4 5]]\n"
     ]
    }
   ],
   "source": [
    "# 107. Numpy Roll\n",
    "\n",
    "import numpy as np\n",
    "\n",
    "x = np.arange(1, 7).reshape(2, 3)\n",
    "\n",
    "print(x)\n",
    "\n",
    "y = np.roll(x, 1, axis = 1)\n",
    "\n",
    "print('\\nAfter:')\n",
    "print(y)"
   ]
  },
  {
   "cell_type": "markdown",
   "metadata": {
    "papermill": {
     "duration": 0.171354,
     "end_time": "2020-10-20T03:48:06.338688",
     "exception": false,
     "start_time": "2020-10-20T03:48:06.167334",
     "status": "completed"
    },
    "tags": []
   },
   "source": [
    "<div style=\"\">\n",
    "    <div style=\"float: left; width: 80%;\">\n",
    "        <a id=\"108\"></a>\n",
    "        <font><b>Task 108:</b></font>\n",
    "        <br><br>\n",
    "        Roll elements\n",
    "    </div>\n",
    "    <div style=\"float: right;\">\n",
    "        <a href=\"#top\" class=\"btn btn-primary btn-sm\" role=\"button\" aria-pressed=\"true\" style=\"color:white\" data-toggle=\"popover\" title=\"go to Top\">Go to Top</a>\n",
    "    </div>\n",
    "    <br style=\"clear: left;\" />\n",
    "</div>"
   ]
  },
  {
   "cell_type": "code",
   "execution_count": 113,
   "metadata": {
    "execution": {
     "iopub.execute_input": "2020-10-20T03:48:06.683176Z",
     "iopub.status.busy": "2020-10-20T03:48:06.682485Z",
     "iopub.status.idle": "2020-10-20T03:48:06.685139Z",
     "shell.execute_reply": "2020-10-20T03:48:06.685659Z"
    },
    "papermill": {
     "duration": 0.177161,
     "end_time": "2020-10-20T03:48:06.685805",
     "exception": false,
     "start_time": "2020-10-20T03:48:06.508644",
     "status": "completed"
    },
    "tags": []
   },
   "outputs": [
    {
     "name": "stdout",
     "output_type": "stream",
     "text": [
      "[0 1 2 3 4 5 6 7 8 9]\n",
      "[8 9 0 1 2 3 4 5 6 7]\n"
     ]
    }
   ],
   "source": [
    "# 108. Roll elements\n",
    "\n",
    "x = np.arange(10)\n",
    "y = np.roll(x, 2)\n",
    "\n",
    "print(x)\n",
    "\n",
    "print(y)"
   ]
  },
  {
   "cell_type": "markdown",
   "metadata": {
    "papermill": {
     "duration": 0.169408,
     "end_time": "2020-10-20T03:48:07.024122",
     "exception": false,
     "start_time": "2020-10-20T03:48:06.854714",
     "status": "completed"
    },
    "tags": []
   },
   "source": [
    "<div style=\"\">\n",
    "    <div style=\"float: left; width: 80%;\">\n",
    "        <a id=\"109\"></a>\n",
    "        <font><b>Task 109:</b></font>\n",
    "        <br><br>\n",
    "        Array Append on Axis 0 and Axis 1\n",
    "    </div>\n",
    "    <div style=\"float: right;\">\n",
    "        <a href=\"#top\" class=\"btn btn-primary btn-sm\" role=\"button\" aria-pressed=\"true\" style=\"color:white\" data-toggle=\"popover\" title=\"go to Top\">Go to Top</a>\n",
    "    </div>\n",
    "    <br style=\"clear: left;\" />\n",
    "</div>"
   ]
  },
  {
   "cell_type": "code",
   "execution_count": 114,
   "metadata": {
    "execution": {
     "iopub.execute_input": "2020-10-20T03:48:07.373412Z",
     "iopub.status.busy": "2020-10-20T03:48:07.372733Z",
     "iopub.status.idle": "2020-10-20T03:48:07.376569Z",
     "shell.execute_reply": "2020-10-20T03:48:07.377259Z"
    },
    "papermill": {
     "duration": 0.183252,
     "end_time": "2020-10-20T03:48:07.377487",
     "exception": false,
     "start_time": "2020-10-20T03:48:07.194235",
     "status": "completed"
    },
    "tags": []
   },
   "outputs": [
    {
     "name": "stdout",
     "output_type": "stream",
     "text": [
      "Array a:\n",
      "[1 2]\n",
      "\n",
      "Array b:\n",
      "[3 4]\n",
      "\n",
      "Array c : append a and b on axis 0:\n",
      "[[1 2]\n",
      " [3 4]]\n",
      "\n",
      "Array d : append a and b on axis 1:\n",
      "[[1 2 3 4]]\n"
     ]
    }
   ],
   "source": [
    "# 109. Array Append on Axis 0 and Axis 1\n",
    "\n",
    "a = np.array([1, 2])\n",
    "b = np.array([3, 4])\n",
    "\n",
    "print('Array a:')\n",
    "print(a)\n",
    "\n",
    "print('\\nArray b:')\n",
    "print(b)\n",
    "\n",
    "c = np.append([a], [b], axis = 0)\n",
    "print('\\nArray c : append a and b on axis 0:')\n",
    "print(c)\n",
    "\n",
    "d = np.append([a], [b], axis = 1)\n",
    "print('\\nArray d : append a and b on axis 1:')\n",
    "print(d)"
   ]
  },
  {
   "cell_type": "markdown",
   "metadata": {
    "papermill": {
     "duration": 0.170701,
     "end_time": "2020-10-20T03:48:07.720634",
     "exception": false,
     "start_time": "2020-10-20T03:48:07.549933",
     "status": "completed"
    },
    "tags": []
   },
   "source": [
    "<div style=\"\">\n",
    "    <div style=\"float: left; width: 80%;\">\n",
    "        <a id=\"110\"></a>\n",
    "        <font><b>Task 110:</b></font>\n",
    "        <br><br>\n",
    "        Rearrange array with specified index\n",
    "    </div>\n",
    "    <div style=\"float: right;\">\n",
    "        <a href=\"#top\" class=\"btn btn-primary btn-sm\" role=\"button\" aria-pressed=\"true\" style=\"color:white\" data-toggle=\"popover\" title=\"go to Top\">Go to Top</a>\n",
    "    </div>\n",
    "    <br style=\"clear: left;\" />\n",
    "</div>"
   ]
  },
  {
   "cell_type": "code",
   "execution_count": 115,
   "metadata": {
    "execution": {
     "iopub.execute_input": "2020-10-20T03:48:08.071586Z",
     "iopub.status.busy": "2020-10-20T03:48:08.070915Z",
     "iopub.status.idle": "2020-10-20T03:48:08.073942Z",
     "shell.execute_reply": "2020-10-20T03:48:08.074565Z"
    },
    "papermill": {
     "duration": 0.181879,
     "end_time": "2020-10-20T03:48:08.074759",
     "exception": false,
     "start_time": "2020-10-20T03:48:07.892880",
     "status": "completed"
    },
    "tags": []
   },
   "outputs": [
    {
     "name": "stdout",
     "output_type": "stream",
     "text": [
      "Before:\n",
      "[11 22 33 44 55]\n",
      "\n",
      "After:\n",
      "[55 33 11 22 44]\n"
     ]
    }
   ],
   "source": [
    "# 110. Rearrange array with specified index\n",
    "\n",
    "a = np.array([11, 22, 33, 44, 55])\n",
    "print('Before:')\n",
    "print(a)\n",
    "\n",
    "idx = [4, 2, 0, 1, 3]\n",
    "\n",
    "b = a[idx]\n",
    "\n",
    "print('\\nAfter:')\n",
    "print(b)"
   ]
  },
  {
   "cell_type": "markdown",
   "metadata": {
    "papermill": {
     "duration": 0.170949,
     "end_time": "2020-10-20T03:48:08.458272",
     "exception": false,
     "start_time": "2020-10-20T03:48:08.287323",
     "status": "completed"
    },
    "tags": []
   },
   "source": [
    "<div style=\"\">\n",
    "    <div style=\"float: left; width: 80%;\">\n",
    "        <a id=\"111\"></a>\n",
    "        <font><b>Task 111:</b></font>\n",
    "        <br><br>\n",
    "        Serialize array with pickle\n",
    "    </div>\n",
    "    <div style=\"float: right;\">\n",
    "        <a href=\"#top\" class=\"btn btn-primary btn-sm\" role=\"button\" aria-pressed=\"true\" style=\"color:white\" data-toggle=\"popover\" title=\"go to Top\">Go to Top</a>\n",
    "    </div>\n",
    "    <br style=\"clear: left;\" />\n",
    "</div>"
   ]
  },
  {
   "cell_type": "code",
   "execution_count": 116,
   "metadata": {
    "execution": {
     "iopub.execute_input": "2020-10-20T03:48:08.812641Z",
     "iopub.status.busy": "2020-10-20T03:48:08.811668Z",
     "iopub.status.idle": "2020-10-20T03:48:08.816338Z",
     "shell.execute_reply": "2020-10-20T03:48:08.815610Z"
    },
    "papermill": {
     "duration": 0.185957,
     "end_time": "2020-10-20T03:48:08.816495",
     "exception": false,
     "start_time": "2020-10-20T03:48:08.630538",
     "status": "completed"
    },
    "tags": []
   },
   "outputs": [
    {
     "name": "stdout",
     "output_type": "stream",
     "text": [
      "Before:\n",
      "[10 20]\n",
      "\n",
      "Serialized Numpy Array:\n",
      "b'\\x80\\x04\\x95\\x9a\\x00\\x00\\x00\\x00\\x00\\x00\\x00\\x8c\\x15numpy.core.multiarray\\x94\\x8c\\x0c_reconstruct\\x94\\x93\\x94\\x8c\\x05numpy\\x94\\x8c\\x07ndarray\\x94\\x93\\x94K\\x00\\x85\\x94C\\x01b\\x94\\x87\\x94R\\x94(K\\x01K\\x02\\x85\\x94h\\x03\\x8c\\x05dtype\\x94\\x93\\x94\\x8c\\x02i8\\x94K\\x00K\\x01\\x87\\x94R\\x94(K\\x03\\x8c\\x01<\\x94NNNJ\\xff\\xff\\xff\\xffJ\\xff\\xff\\xff\\xffK\\x00t\\x94b\\x89C\\x10\\n\\x00\\x00\\x00\\x00\\x00\\x00\\x00\\x14\\x00\\x00\\x00\\x00\\x00\\x00\\x00\\x94t\\x94b.'\n",
      "\n",
      "De-serialized Numpy Array:\n",
      "[10 20]\n"
     ]
    }
   ],
   "source": [
    "# 111. Serialize array with pickle\n",
    "\n",
    "a = np.array([10, 20])\n",
    "print('Before:')\n",
    "print(a)\n",
    "\n",
    "import pickle\n",
    "\n",
    "b = pickle.dumps(a, protocol = 4)\n",
    "\n",
    "print('\\nSerialized Numpy Array:')\n",
    "print(b)\n",
    "\n",
    "c = pickle.loads(b)\n",
    "\n",
    "print('\\nDe-serialized Numpy Array:')\n",
    "print(c)\n",
    "\n",
    "# Check protocols here: https://docs.python.org/3/library/pickle.html"
   ]
  },
  {
   "cell_type": "markdown",
   "metadata": {
    "papermill": {
     "duration": 0.174595,
     "end_time": "2020-10-20T03:48:09.164657",
     "exception": false,
     "start_time": "2020-10-20T03:48:08.990062",
     "status": "completed"
    },
    "tags": []
   },
   "source": [
    "<div style=\"\">\n",
    "    <div style=\"float: left; width: 80%;\">\n",
    "        <a id=\"112\"></a>\n",
    "        <font><b>Task 112:</b></font>\n",
    "        <br><br>\n",
    "        Transpose\n",
    "    </div>\n",
    "    <div style=\"float: right;\">\n",
    "        <a href=\"#top\" class=\"btn btn-primary btn-sm\" role=\"button\" aria-pressed=\"true\" style=\"color:white\" data-toggle=\"popover\" title=\"go to Top\">Go to Top</a>\n",
    "    </div>\n",
    "    <br style=\"clear: left;\" />\n",
    "</div>"
   ]
  },
  {
   "cell_type": "code",
   "execution_count": 117,
   "metadata": {
    "execution": {
     "iopub.execute_input": "2020-10-20T03:48:09.519112Z",
     "iopub.status.busy": "2020-10-20T03:48:09.518276Z",
     "iopub.status.idle": "2020-10-20T03:48:09.521952Z",
     "shell.execute_reply": "2020-10-20T03:48:09.521377Z"
    },
    "papermill": {
     "duration": 0.184025,
     "end_time": "2020-10-20T03:48:09.522068",
     "exception": false,
     "start_time": "2020-10-20T03:48:09.338043",
     "status": "completed"
    },
    "tags": []
   },
   "outputs": [
    {
     "name": "stdout",
     "output_type": "stream",
     "text": [
      "Before:\n",
      "[[0 1 2]\n",
      " [3 4 5]]\n",
      "\n",
      "After:\n",
      "[[0 3]\n",
      " [1 4]\n",
      " [2 5]]\n"
     ]
    }
   ],
   "source": [
    "# 112. Transpose\n",
    "\n",
    "a = np.arange(6).reshape(2, -1) \n",
    "\n",
    "print('Before:')\n",
    "print(a)\n",
    "\n",
    "b = np.transpose(a)\n",
    "print('\\nAfter:')\n",
    "print(b)"
   ]
  },
  {
   "cell_type": "markdown",
   "metadata": {
    "papermill": {
     "duration": 0.17179,
     "end_time": "2020-10-20T03:48:09.866559",
     "exception": false,
     "start_time": "2020-10-20T03:48:09.694769",
     "status": "completed"
    },
    "tags": []
   },
   "source": [
    "<div style=\"\">\n",
    "    <div style=\"float: left; width: 80%;\">\n",
    "        <a id=\"113\"></a>\n",
    "        <font><b>Task 113:</b></font>\n",
    "        <br><br>\n",
    "        Continguous Array\n",
    "    </div>\n",
    "    <div style=\"float: right;\">\n",
    "        <a href=\"#top\" class=\"btn btn-primary btn-sm\" role=\"button\" aria-pressed=\"true\" style=\"color:white\" data-toggle=\"popover\" title=\"go to Top\">Go to Top</a>\n",
    "    </div>\n",
    "    <br style=\"clear: left;\" />\n",
    "</div>"
   ]
  },
  {
   "cell_type": "code",
   "execution_count": 118,
   "metadata": {
    "execution": {
     "iopub.execute_input": "2020-10-20T03:48:10.226351Z",
     "iopub.status.busy": "2020-10-20T03:48:10.225454Z",
     "iopub.status.idle": "2020-10-20T03:48:10.230352Z",
     "shell.execute_reply": "2020-10-20T03:48:10.228872Z"
    },
    "papermill": {
     "duration": 0.188192,
     "end_time": "2020-10-20T03:48:10.230693",
     "exception": false,
     "start_time": "2020-10-20T03:48:10.042501",
     "status": "completed"
    },
    "tags": []
   },
   "outputs": [
    {
     "name": "stdout",
     "output_type": "stream",
     "text": [
      "[4 9 5 3 5]\n",
      "  C_CONTIGUOUS : True\n",
      "  F_CONTIGUOUS : True\n",
      "  OWNDATA : True\n",
      "  WRITEABLE : True\n",
      "  ALIGNED : True\n",
      "  WRITEBACKIFCOPY : False\n",
      "  UPDATEIFCOPY : False\n",
      "\n",
      "[0 2 9 6 4]\n",
      "  C_CONTIGUOUS : True\n",
      "  F_CONTIGUOUS : True\n",
      "  OWNDATA : True\n",
      "  WRITEABLE : True\n",
      "  ALIGNED : True\n",
      "  WRITEBACKIFCOPY : False\n",
      "  UPDATEIFCOPY : False\n",
      "\n"
     ]
    }
   ],
   "source": [
    "# 113. Continguous Array\n",
    "\n",
    "a = np.ascontiguousarray(np.random.randint(0, 10, 5))\n",
    "print(a)\n",
    "print(a.flags)\n",
    "\n",
    "b = np.array(np.random.randint(0, 10, 5))\n",
    "print(b)\n",
    "print(b.flags)\n",
    "\n",
    "# Note: Not sure where we can use this option. I will do some research and update things here"
   ]
  },
  {
   "cell_type": "markdown",
   "metadata": {
    "papermill": {
     "duration": 0.194248,
     "end_time": "2020-10-20T03:48:10.602170",
     "exception": false,
     "start_time": "2020-10-20T03:48:10.407922",
     "status": "completed"
    },
    "tags": []
   },
   "source": [
    "<div style=\"\">\n",
    "    <div style=\"float: left; width: 80%;\">\n",
    "        <a id=\"114\"></a>\n",
    "        <font><b>Task 114:</b></font>\n",
    "        <br><br>\n",
    "        Numpy Reshape with Order\n",
    "    </div>\n",
    "    <div style=\"float: right;\">\n",
    "        <a href=\"#top\" class=\"btn btn-primary btn-sm\" role=\"button\" aria-pressed=\"true\" style=\"color:white\" data-toggle=\"popover\" title=\"go to Top\">Go to Top</a>\n",
    "    </div>\n",
    "    <br style=\"clear: left;\" />\n",
    "</div>"
   ]
  },
  {
   "cell_type": "code",
   "execution_count": 119,
   "metadata": {
    "execution": {
     "iopub.execute_input": "2020-10-20T03:48:10.967367Z",
     "iopub.status.busy": "2020-10-20T03:48:10.966599Z",
     "iopub.status.idle": "2020-10-20T03:48:10.969768Z",
     "shell.execute_reply": "2020-10-20T03:48:10.970344Z"
    },
    "papermill": {
     "duration": 0.185634,
     "end_time": "2020-10-20T03:48:10.970520",
     "exception": false,
     "start_time": "2020-10-20T03:48:10.784886",
     "status": "completed"
    },
    "tags": []
   },
   "outputs": [
    {
     "name": "stdout",
     "output_type": "stream",
     "text": [
      "Original:\n",
      "[[ 0  1]\n",
      " [ 2  3]\n",
      " [ 4  5]\n",
      " [ 6  7]\n",
      " [ 8  9]\n",
      " [10 11]]\n",
      "\n",
      "Reshape with Order F:\n",
      "[[[ 0  1]\n",
      "  [ 6  7]]\n",
      "\n",
      " [[ 2  3]\n",
      "  [ 8  9]]\n",
      "\n",
      " [[ 4  5]\n",
      "  [10 11]]]\n"
     ]
    }
   ],
   "source": [
    "# 114. Numpy Reshape with Order\n",
    "\n",
    "import numpy as np\n",
    "\n",
    "X = np.arange(12).reshape(6, 2)\n",
    "print('Original:')\n",
    "print(X)\n",
    "\n",
    "Y = X.reshape(3, 2, 2, order = 'F')\n",
    "print('\\nReshape with Order F:')\n",
    "print(Y)\n",
    "\n",
    "# Options: \n",
    "# 'C' - # C-like index ordering\n",
    "# 'F' - # Fortran-like index ordering\n",
    "# 'A' - # Mixed Fortran or C (check docucmnetation for more)\n",
    "# 'K' - ?"
   ]
  },
  {
   "cell_type": "markdown",
   "metadata": {
    "papermill": {
     "duration": 0.207111,
     "end_time": "2020-10-20T03:48:11.351590",
     "exception": false,
     "start_time": "2020-10-20T03:48:11.144479",
     "status": "completed"
    },
    "tags": []
   },
   "source": [
    "<div style=\"\">\n",
    "    <div style=\"float: left; width: 80%;\">\n",
    "        <a id=\"115\"></a>\n",
    "        <font><b>Task 115:</b></font>\n",
    "        <br><br>\n",
    "        Element-wise math\n",
    "    </div>\n",
    "    <div style=\"float: right;\">\n",
    "        <a href=\"#top\" class=\"btn btn-primary btn-sm\" role=\"button\" aria-pressed=\"true\" style=\"color:white\" data-toggle=\"popover\" title=\"go to Top\">Go to Top</a>\n",
    "    </div>\n",
    "    <br style=\"clear: left;\" />\n",
    "</div>"
   ]
  },
  {
   "cell_type": "code",
   "execution_count": 120,
   "metadata": {
    "execution": {
     "iopub.execute_input": "2020-10-20T03:48:11.743121Z",
     "iopub.status.busy": "2020-10-20T03:48:11.742503Z",
     "iopub.status.idle": "2020-10-20T03:48:11.746589Z",
     "shell.execute_reply": "2020-10-20T03:48:11.745670Z"
    },
    "papermill": {
     "duration": 0.191752,
     "end_time": "2020-10-20T03:48:11.746766",
     "exception": false,
     "start_time": "2020-10-20T03:48:11.555014",
     "status": "completed"
    },
    "tags": []
   },
   "outputs": [
    {
     "name": "stdout",
     "output_type": "stream",
     "text": [
      "Before:\n",
      "[[0 1]\n",
      " [2 3]\n",
      " [4 5]]\n",
      "\n",
      "After:\n",
      "[ 1 13 41]\n"
     ]
    }
   ],
   "source": [
    "# 115. Element-wise math\n",
    "\n",
    "a = np.arange(6).reshape(3, 2)\n",
    "print('Before:')\n",
    "print(a)\n",
    "\n",
    "# b = x^2 + y^2\n",
    "b = (np.array(a) ** 2).sum(-1)\n",
    "print('\\nAfter:')\n",
    "print(b)"
   ]
  },
  {
   "cell_type": "markdown",
   "metadata": {
    "papermill": {
     "duration": 0.175034,
     "end_time": "2020-10-20T03:48:12.094139",
     "exception": false,
     "start_time": "2020-10-20T03:48:11.919105",
     "status": "completed"
    },
    "tags": []
   },
   "source": [
    "<div style=\"\">\n",
    "    <div style=\"float: left; width: 80%;\">\n",
    "        <a id=\"116\"></a>\n",
    "        <font><b>Task 116:</b></font>\n",
    "        <br><br>\n",
    "        Where with multiple condition\n",
    "    </div>\n",
    "    <div style=\"float: right;\">\n",
    "        <a href=\"#top\" class=\"btn btn-primary btn-sm\" role=\"button\" aria-pressed=\"true\" style=\"color:white\" data-toggle=\"popover\" title=\"go to Top\">Go to Top</a>\n",
    "    </div>\n",
    "    <br style=\"clear: left;\" />\n",
    "</div>"
   ]
  },
  {
   "cell_type": "code",
   "execution_count": 121,
   "metadata": {
    "execution": {
     "iopub.execute_input": "2020-10-20T03:48:12.450130Z",
     "iopub.status.busy": "2020-10-20T03:48:12.449427Z",
     "iopub.status.idle": "2020-10-20T03:48:12.453507Z",
     "shell.execute_reply": "2020-10-20T03:48:12.452655Z"
    },
    "papermill": {
     "duration": 0.184457,
     "end_time": "2020-10-20T03:48:12.453655",
     "exception": false,
     "start_time": "2020-10-20T03:48:12.269198",
     "status": "completed"
    },
    "tags": []
   },
   "outputs": [
    {
     "name": "stdout",
     "output_type": "stream",
     "text": [
      "Original:\n",
      "[ 0.00  1.00  2.00  3.00  4.00]\n",
      "\n",
      "After:\n",
      "[ 2.00  2.00  2.00  4.00  4.00]\n"
     ]
    }
   ],
   "source": [
    "# 116. Where with multiple condition\n",
    "\n",
    "dt = 1.0\n",
    "a = np.arange(0.0, 5.0, dt)\n",
    "print('Original:')\n",
    "print(a)\n",
    "\n",
    "# if a is less than 3 and greater than 0, multiply by 2 or else multiply by 4\n",
    "b = np.where((a >= 0) & (a < 3), 2 * dt, 4 * dt)\n",
    "print('\\nAfter:')\n",
    "print(b)"
   ]
  },
  {
   "cell_type": "markdown",
   "metadata": {
    "papermill": {
     "duration": 0.179297,
     "end_time": "2020-10-20T03:48:12.829653",
     "exception": false,
     "start_time": "2020-10-20T03:48:12.650356",
     "status": "completed"
    },
    "tags": []
   },
   "source": [
    "<div style=\"\">\n",
    "    <div style=\"float: left; width: 80%;\">\n",
    "        <a id=\"117\"></a>\n",
    "        <font><b>Task 117:</b></font>\n",
    "        <br><br>\n",
    "        Subtract Outer\n",
    "    </div>\n",
    "    <div style=\"float: right;\">\n",
    "        <a href=\"#top\" class=\"btn btn-primary btn-sm\" role=\"button\" aria-pressed=\"true\" style=\"color:white\" data-toggle=\"popover\" title=\"go to Top\">Go to Top</a>\n",
    "    </div>\n",
    "    <br style=\"clear: left;\" />\n",
    "</div>"
   ]
  },
  {
   "cell_type": "code",
   "execution_count": 122,
   "metadata": {
    "execution": {
     "iopub.execute_input": "2020-10-20T03:48:13.194616Z",
     "iopub.status.busy": "2020-10-20T03:48:13.193918Z",
     "iopub.status.idle": "2020-10-20T03:48:13.197664Z",
     "shell.execute_reply": "2020-10-20T03:48:13.196740Z"
    },
    "papermill": {
     "duration": 0.188974,
     "end_time": "2020-10-20T03:48:13.197830",
     "exception": false,
     "start_time": "2020-10-20T03:48:13.008856",
     "status": "completed"
    },
    "tags": []
   },
   "outputs": [
    {
     "name": "stdout",
     "output_type": "stream",
     "text": [
      "Original:\n",
      "[[1 7]\n",
      " [6 2]\n",
      " [7 1]]\n",
      "\n",
      "After ravel:\n",
      "[1 7 6 2 7 1]\n"
     ]
    }
   ],
   "source": [
    "# 117. Subtract Outer\n",
    "\n",
    "a, b = [2,7,8], [1,9]\n",
    "\n",
    "c = np.abs(np.subtract.outer(a, b))\n",
    "print('Original:')\n",
    "print(c)\n",
    "\n",
    "d = c.ravel()\n",
    "print('\\nAfter ravel:')\n",
    "print(d)"
   ]
  },
  {
   "cell_type": "markdown",
   "metadata": {
    "papermill": {
     "duration": 0.175166,
     "end_time": "2020-10-20T03:48:13.547735",
     "exception": false,
     "start_time": "2020-10-20T03:48:13.372569",
     "status": "completed"
    },
    "tags": []
   },
   "source": [
    "<div style=\"\">\n",
    "    <div style=\"float: left; width: 80%;\">\n",
    "        <a id=\"118\"></a>\n",
    "        <font><b>Task 118:</b></font>\n",
    "        <br><br>\n",
    "        Multiply Outer\n",
    "    </div>\n",
    "    <div style=\"float: right;\">\n",
    "        <a href=\"#top\" class=\"btn btn-primary btn-sm\" role=\"button\" aria-pressed=\"true\" style=\"color:white\" data-toggle=\"popover\" title=\"go to Top\">Go to Top</a>\n",
    "    </div>\n",
    "    <br style=\"clear: left;\" />\n",
    "</div>"
   ]
  },
  {
   "cell_type": "code",
   "execution_count": 123,
   "metadata": {
    "execution": {
     "iopub.execute_input": "2020-10-20T03:48:13.906779Z",
     "iopub.status.busy": "2020-10-20T03:48:13.905920Z",
     "iopub.status.idle": "2020-10-20T03:48:13.909205Z",
     "shell.execute_reply": "2020-10-20T03:48:13.909763Z"
    },
    "papermill": {
     "duration": 0.187924,
     "end_time": "2020-10-20T03:48:13.909903",
     "exception": false,
     "start_time": "2020-10-20T03:48:13.721979",
     "status": "completed"
    },
    "tags": []
   },
   "outputs": [
    {
     "name": "stdout",
     "output_type": "stream",
     "text": [
      "[[ 4  5  6]\n",
      " [ 8 10 12]\n",
      " [12 15 18]]\n",
      "[ 4  5  6  8 10 12 12 15 18]\n"
     ]
    }
   ],
   "source": [
    "# 118. Multiply Outer\n",
    "\n",
    "a = np.array([1, 2, 3])\n",
    "b = np.array([4, 5, 6])\n",
    "\n",
    "c = np.multiply.outer(a, b)\n",
    "\n",
    "print(c)\n",
    "\n",
    "d = c.ravel()\n",
    "print(d)"
   ]
  },
  {
   "cell_type": "markdown",
   "metadata": {
    "papermill": {
     "duration": 0.182273,
     "end_time": "2020-10-20T03:48:14.272018",
     "exception": false,
     "start_time": "2020-10-20T03:48:14.089745",
     "status": "completed"
    },
    "tags": []
   },
   "source": [
    "<div style=\"\">\n",
    "    <div style=\"float: left; width: 80%;\">\n",
    "        <a id=\"119\"></a>\n",
    "        <font><b>Task 119:</b></font>\n",
    "        <br><br>\n",
    "        Immutable Array\n",
    "    </div>\n",
    "    <div style=\"float: right;\">\n",
    "        <a href=\"#top\" class=\"btn btn-primary btn-sm\" role=\"button\" aria-pressed=\"true\" style=\"color:white\" data-toggle=\"popover\" title=\"go to Top\">Go to Top</a>\n",
    "    </div>\n",
    "    <br style=\"clear: left;\" />\n",
    "</div>"
   ]
  },
  {
   "cell_type": "code",
   "execution_count": 124,
   "metadata": {
    "execution": {
     "iopub.execute_input": "2020-10-20T03:48:14.629116Z",
     "iopub.status.busy": "2020-10-20T03:48:14.628371Z",
     "iopub.status.idle": "2020-10-20T03:48:14.658049Z",
     "shell.execute_reply": "2020-10-20T03:48:14.657202Z"
    },
    "papermill": {
     "duration": 0.210196,
     "end_time": "2020-10-20T03:48:14.658195",
     "exception": false,
     "start_time": "2020-10-20T03:48:14.447999",
     "status": "completed"
    },
    "tags": []
   },
   "outputs": [
    {
     "name": "stdout",
     "output_type": "stream",
     "text": [
      "Before:\n",
      "[0 1 2 3 4 5]\n"
     ]
    },
    {
     "ename": "ValueError",
     "evalue": "assignment destination is read-only",
     "output_type": "error",
     "traceback": [
      "\u001b[0;31m---------------------------------------------------------------------------\u001b[0m",
      "\u001b[0;31mValueError\u001b[0m                                Traceback (most recent call last)",
      "\u001b[0;32m<ipython-input-124-5ae88b57d0dc>\u001b[0m in \u001b[0;36m<module>\u001b[0;34m\u001b[0m\n\u001b[1;32m      7\u001b[0m \u001b[0mprint\u001b[0m\u001b[0;34m(\u001b[0m\u001b[0ma\u001b[0m\u001b[0;34m)\u001b[0m\u001b[0;34m\u001b[0m\u001b[0;34m\u001b[0m\u001b[0m\n\u001b[1;32m      8\u001b[0m \u001b[0;34m\u001b[0m\u001b[0m\n\u001b[0;32m----> 9\u001b[0;31m \u001b[0ma\u001b[0m\u001b[0;34m[\u001b[0m\u001b[0;36m0\u001b[0m\u001b[0;34m]\u001b[0m \u001b[0;34m=\u001b[0m \u001b[0;36m1\u001b[0m \u001b[0;31m# this will throw ValueError: assignment destination is read-only\u001b[0m\u001b[0;34m\u001b[0m\u001b[0;34m\u001b[0m\u001b[0m\n\u001b[0m",
      "\u001b[0;31mValueError\u001b[0m: assignment destination is read-only"
     ]
    }
   ],
   "source": [
    "# 119. Immutable Array\n",
    "\n",
    "a = np.arange(6)\n",
    "a.flags.writeable = False\n",
    "\n",
    "print('Before:')\n",
    "print(a)\n",
    "\n",
    "a[0] = 1 # this will throw ValueError: assignment destination is read-only"
   ]
  },
  {
   "cell_type": "markdown",
   "metadata": {
    "papermill": {
     "duration": 0.175977,
     "end_time": "2020-10-20T03:48:15.009872",
     "exception": false,
     "start_time": "2020-10-20T03:48:14.833895",
     "status": "completed"
    },
    "tags": []
   },
   "source": [
    "<div style=\"\">\n",
    "    <div style=\"float: left; width: 80%;\">\n",
    "        <a id=\"120\"></a>\n",
    "        <font><b>Task 120:</b></font>\n",
    "        <br><br>\n",
    "        Float anomalies in Numpy Arange\n",
    "    </div>\n",
    "    <div style=\"float: right;\">\n",
    "        <a href=\"#top\" class=\"btn btn-primary btn-sm\" role=\"button\" aria-pressed=\"true\" style=\"color:white\" data-toggle=\"popover\" title=\"go to Top\">Go to Top</a>\n",
    "    </div>\n",
    "    <br style=\"clear: left;\" />\n",
    "</div>"
   ]
  },
  {
   "cell_type": "code",
   "execution_count": 125,
   "metadata": {
    "execution": {
     "iopub.execute_input": "2020-10-20T03:48:15.367624Z",
     "iopub.status.busy": "2020-10-20T03:48:15.366769Z",
     "iopub.status.idle": "2020-10-20T03:48:15.372126Z",
     "shell.execute_reply": "2020-10-20T03:48:15.371576Z"
    },
    "papermill": {
     "duration": 0.185695,
     "end_time": "2020-10-20T03:48:15.372248",
     "exception": false,
     "start_time": "2020-10-20T03:48:15.186553",
     "status": "completed"
    },
    "tags": []
   },
   "outputs": [
    {
     "name": "stdout",
     "output_type": "stream",
     "text": [
      "0.0\n",
      "0.1\n",
      "0.2\n",
      "0.30000000000000004\n",
      "0.4\n",
      "0.5\n",
      "0.6000000000000001\n",
      "0.7000000000000001\n",
      "0.8\n",
      "0.9\n",
      "1.0\n",
      "1.1\n",
      "1.2000000000000002\n",
      "1.3\n",
      "1.4000000000000001\n",
      "1.5\n",
      "1.6\n",
      "1.7000000000000002\n",
      "1.8\n",
      "1.9000000000000001\n",
      "2.0\n"
     ]
    }
   ],
   "source": [
    "# 120. Float anomalies in Numpy Arange\n",
    "\n",
    "for i in np.arange(0.0, 2.1, 0.1):\n",
    "    print(i)\n",
    "    \n",
    "# source: \n",
    "# https://docs.python.org/3/tutorial/floatingpoint.html\n",
    "# https://stackoverflow.com/questions/63824157/while-using-np-arange-it-was-incrementing-with-wrong-step-size"
   ]
  },
  {
   "cell_type": "markdown",
   "metadata": {
    "papermill": {
     "duration": 0.174024,
     "end_time": "2020-10-20T03:48:15.721968",
     "exception": false,
     "start_time": "2020-10-20T03:48:15.547944",
     "status": "completed"
    },
    "tags": []
   },
   "source": [
    "<div style=\"\">\n",
    "    <div style=\"float: left; width: 80%;\">\n",
    "        <a id=\"121\"></a>\n",
    "        <font><b>Task 121:</b></font>\n",
    "        <br><br>\n",
    "        Complex number and absolute value\n",
    "    </div>\n",
    "    <div style=\"float: right;\">\n",
    "        <a href=\"#top\" class=\"btn btn-primary btn-sm\" role=\"button\" aria-pressed=\"true\" style=\"color:white\" data-toggle=\"popover\" title=\"go to Top\">Go to Top</a>\n",
    "    </div>\n",
    "    <br style=\"clear: left;\" />\n",
    "</div>"
   ]
  },
  {
   "cell_type": "code",
   "execution_count": 126,
   "metadata": {
    "execution": {
     "iopub.execute_input": "2020-10-20T03:48:16.077130Z",
     "iopub.status.busy": "2020-10-20T03:48:16.076481Z",
     "iopub.status.idle": "2020-10-20T03:48:16.081137Z",
     "shell.execute_reply": "2020-10-20T03:48:16.081649Z"
    },
    "papermill": {
     "duration": 0.187201,
     "end_time": "2020-10-20T03:48:16.081801",
     "exception": false,
     "start_time": "2020-10-20T03:48:15.894600",
     "status": "completed"
    },
    "tags": []
   },
   "outputs": [
    {
     "name": "stdout",
     "output_type": "stream",
     "text": [
      "Original:\n",
      "(1.1-0.2j)\n",
      "\n",
      "Datatype:\n",
      "complex128\n",
      "\n",
      "Absolute Value:\n",
      "1.118033988749895\n"
     ]
    }
   ],
   "source": [
    "# 121. Complex number and absolute value\n",
    "\n",
    "x = np.array(1.1 - 0.2j)\n",
    "print('Original:')\n",
    "print(x)\n",
    "\n",
    "print('\\nDatatype:')\n",
    "print(x.dtype)\n",
    "\n",
    "y = np.abs(x)\n",
    "print('\\nAbsolute Value:')\n",
    "print(y)"
   ]
  },
  {
   "cell_type": "markdown",
   "metadata": {
    "papermill": {
     "duration": 0.188868,
     "end_time": "2020-10-20T03:48:16.447701",
     "exception": false,
     "start_time": "2020-10-20T03:48:16.258833",
     "status": "completed"
    },
    "tags": []
   },
   "source": [
    "<div style=\"\">\n",
    "    <div style=\"float: left; width: 80%;\">\n",
    "        <a id=\"122\"></a>\n",
    "        <font><b>Task 122:</b></font>\n",
    "        <br><br>\n",
    "        Set Error in Numpy\n",
    "    </div>\n",
    "    <div style=\"float: right;\">\n",
    "        <a href=\"#top\" class=\"btn btn-primary btn-sm\" role=\"button\" aria-pressed=\"true\" style=\"color:white\" data-toggle=\"popover\" title=\"go to Top\">Go to Top</a>\n",
    "    </div>\n",
    "    <br style=\"clear: left;\" />\n",
    "</div>"
   ]
  },
  {
   "cell_type": "code",
   "execution_count": 127,
   "metadata": {
    "execution": {
     "iopub.execute_input": "2020-10-20T03:48:16.842118Z",
     "iopub.status.busy": "2020-10-20T03:48:16.841097Z",
     "iopub.status.idle": "2020-10-20T03:48:16.846430Z",
     "shell.execute_reply": "2020-10-20T03:48:16.845611Z"
    },
    "papermill": {
     "duration": 0.217275,
     "end_time": "2020-10-20T03:48:16.846628",
     "exception": false,
     "start_time": "2020-10-20T03:48:16.629353",
     "status": "completed"
    },
    "tags": []
   },
   "outputs": [
    {
     "name": "stdout",
     "output_type": "stream",
     "text": [
      "Mean of empty array:\n",
      "nan\n",
      "\n",
      "After setting error:\n",
      "FloatingPointError:  invalid value encountered in double_scalars\n"
     ]
    }
   ],
   "source": [
    "# 122. Set Error in Numpy\n",
    "\n",
    "np.seterr(all = \"ignore\")\n",
    "a = np.mean([])  # this will be okay as we set the `ignore` option\n",
    "print('Mean of empty array:')\n",
    "print(a)\n",
    "\n",
    "print('\\nAfter setting error:')\n",
    "np.seterr(all = \"raise\")\n",
    "try:\n",
    "    a = np.mean([])\n",
    "except FloatingPointError as err:\n",
    "    print('FloatingPointError: ', err)\n",
    "    \n",
    "# other options: 'ignore’, ‘warn’, ‘raise’, ‘call’, ‘print’, ‘log’"
   ]
  },
  {
   "cell_type": "markdown",
   "metadata": {
    "papermill": {
     "duration": 0.178748,
     "end_time": "2020-10-20T03:48:17.211863",
     "exception": false,
     "start_time": "2020-10-20T03:48:17.033115",
     "status": "completed"
    },
    "tags": []
   },
   "source": [
    "<div style=\"\">\n",
    "    <div style=\"float: left; width: 80%;\">\n",
    "        <a id=\"123\"></a>\n",
    "        <font><b>Task 123:</b></font>\n",
    "        <br><br>\n",
    "        Convert List of List String to Numpy Array\n",
    "    </div>\n",
    "    <div style=\"float: right;\">\n",
    "        <a href=\"#top\" class=\"btn btn-primary btn-sm\" role=\"button\" aria-pressed=\"true\" style=\"color:white\" data-toggle=\"popover\" title=\"go to Top\">Go to Top</a>\n",
    "    </div>\n",
    "    <br style=\"clear: left;\" />\n",
    "</div>"
   ]
  },
  {
   "cell_type": "code",
   "execution_count": 128,
   "metadata": {
    "execution": {
     "iopub.execute_input": "2020-10-20T03:48:17.572245Z",
     "iopub.status.busy": "2020-10-20T03:48:17.571312Z",
     "iopub.status.idle": "2020-10-20T03:48:17.574532Z",
     "shell.execute_reply": "2020-10-20T03:48:17.575179Z"
    },
    "papermill": {
     "duration": 0.188458,
     "end_time": "2020-10-20T03:48:17.575361",
     "exception": false,
     "start_time": "2020-10-20T03:48:17.386903",
     "status": "completed"
    },
    "tags": []
   },
   "outputs": [
    {
     "name": "stdout",
     "output_type": "stream",
     "text": [
      "Original String:\n",
      "\n",
      "[[25  3  2]\n",
      " [ 1 21  0]\n",
      " [ 1  0  0]]\n",
      "\n",
      "\n",
      "After converting string to Numpy Array:\n",
      "[[25  3  2]\n",
      " [ 1 21  0]\n",
      " [ 1  0  0]]\n",
      "\n",
      "After converting string to Numpy Array and add 2 in all elements:\n",
      "[[27  5  4]\n",
      " [ 3 23  2]\n",
      " [ 3  2  2]]\n",
      "\n",
      "Datatype:\n",
      "<class 'numpy.ndarray'>\n"
     ]
    }
   ],
   "source": [
    "# 123. Convert List of List String to Numpy Array\n",
    "\n",
    "import re\n",
    "\n",
    "a_list = '''\n",
    "[[25  3  2]\n",
    " [ 1 21  0]\n",
    " [ 1  0  0]]\n",
    "'''\n",
    "\n",
    "print('Original String:')\n",
    "print(a_list)\n",
    "\n",
    "rows = []\n",
    "\n",
    "for line in filter(len, map(str.strip, a_list.split(\"\\n\"))):\n",
    "    rows.append([ int(v) for v in re.findall(r\"\\b[0-9]+\\b\", line) ])\n",
    "\n",
    "np_rows = np.array(rows)\n",
    "print('\\nAfter converting string to Numpy Array:')\n",
    "print(np_rows)\n",
    "\n",
    "# do this opeartion just to verify\n",
    "np_rows += 2\n",
    "\n",
    "print('\\nAfter converting string to Numpy Array and add 2 in all elements:')\n",
    "print(np_rows)\n",
    "\n",
    "print('\\nDatatype:')\n",
    "print(type(np_rows))"
   ]
  },
  {
   "cell_type": "markdown",
   "metadata": {
    "papermill": {
     "duration": 0.175286,
     "end_time": "2020-10-20T03:48:17.928646",
     "exception": false,
     "start_time": "2020-10-20T03:48:17.753360",
     "status": "completed"
    },
    "tags": []
   },
   "source": [
    "<div style=\"\">\n",
    "    <div style=\"float: left; width: 80%;\">\n",
    "        <a id=\"124\"></a>\n",
    "        <font><b>Task 124:</b></font>\n",
    "        <br><br>\n",
    "        Resize a list with rounds\n",
    "    </div>\n",
    "    <div style=\"float: right;\">\n",
    "        <a href=\"#top\" class=\"btn btn-primary btn-sm\" role=\"button\" aria-pressed=\"true\" style=\"color:white\" data-toggle=\"popover\" title=\"go to Top\">Go to Top</a>\n",
    "    </div>\n",
    "    <br style=\"clear: left;\" />\n",
    "</div>"
   ]
  },
  {
   "cell_type": "code",
   "execution_count": 129,
   "metadata": {
    "execution": {
     "iopub.execute_input": "2020-10-20T03:48:18.293686Z",
     "iopub.status.busy": "2020-10-20T03:48:18.292969Z",
     "iopub.status.idle": "2020-10-20T03:48:18.296924Z",
     "shell.execute_reply": "2020-10-20T03:48:18.296085Z"
    },
    "papermill": {
     "duration": 0.188516,
     "end_time": "2020-10-20T03:48:18.297050",
     "exception": false,
     "start_time": "2020-10-20T03:48:18.108534",
     "status": "completed"
    },
    "tags": []
   },
   "outputs": [
    {
     "name": "stdout",
     "output_type": "stream",
     "text": [
      "[10 20 30 10 20 30 10 20 30 10 20 30]\n"
     ]
    }
   ],
   "source": [
    "# 124. Resize a list with rounds\n",
    "\n",
    "a_list = [10, 20, 30]\n",
    "result = np.resize(a_list, 12)\n",
    "\n",
    "print(result)"
   ]
  },
  {
   "cell_type": "markdown",
   "metadata": {
    "papermill": {
     "duration": 0.202619,
     "end_time": "2020-10-20T03:48:18.677209",
     "exception": false,
     "start_time": "2020-10-20T03:48:18.474590",
     "status": "completed"
    },
    "tags": []
   },
   "source": [
    "<div style=\"\">\n",
    "    <div style=\"float: left; width: 80%;\">\n",
    "        <a id=\"125\"></a>\n",
    "        <font><b>Task 125:</b></font>\n",
    "        <br><br>\n",
    "        Print columns by index\n",
    "    </div>\n",
    "    <div style=\"float: right;\">\n",
    "        <a href=\"#top\" class=\"btn btn-primary btn-sm\" role=\"button\" aria-pressed=\"true\" style=\"color:white\" data-toggle=\"popover\" title=\"go to Top\">Go to Top</a>\n",
    "    </div>\n",
    "    <br style=\"clear: left;\" />\n",
    "</div>"
   ]
  },
  {
   "cell_type": "code",
   "execution_count": 130,
   "metadata": {
    "execution": {
     "iopub.execute_input": "2020-10-20T03:48:19.042186Z",
     "iopub.status.busy": "2020-10-20T03:48:19.041555Z",
     "iopub.status.idle": "2020-10-20T03:48:19.046421Z",
     "shell.execute_reply": "2020-10-20T03:48:19.045773Z"
    },
    "papermill": {
     "duration": 0.191143,
     "end_time": "2020-10-20T03:48:19.046570",
     "exception": false,
     "start_time": "2020-10-20T03:48:18.855427",
     "status": "completed"
    },
    "tags": []
   },
   "outputs": [
    {
     "name": "stdout",
     "output_type": "stream",
     "text": [
      "Original:\n",
      "[[ 1 10 11]\n",
      " [12  0  3]]\n",
      "\n",
      "Printing Cols with Index:\n",
      "0 [ 1 12]\n",
      "1 [10  0]\n",
      "2 [11  3]\n"
     ]
    }
   ],
   "source": [
    "# 125. Print columns by index\n",
    "\n",
    "x = np.array([[1,10,11],[12,0,3]])\n",
    "print('Original:')\n",
    "print(x)\n",
    "\n",
    "print('\\nPrinting Cols with Index:')\n",
    "for i in range(3):\n",
    "    print(i, x[:,i])"
   ]
  },
  {
   "cell_type": "markdown",
   "metadata": {
    "papermill": {
     "duration": 0.180464,
     "end_time": "2020-10-20T03:48:19.406382",
     "exception": false,
     "start_time": "2020-10-20T03:48:19.225918",
     "status": "completed"
    },
    "tags": []
   },
   "source": [
    "<div style=\"\">\n",
    "    <div style=\"float: left; width: 80%;\">\n",
    "        <a id=\"126\"></a>\n",
    "        <font><b>Task 126:</b></font>\n",
    "        <br><br>\n",
    "        Initalize array with tuples\n",
    "    </div>\n",
    "    <div style=\"float: right;\">\n",
    "        <a href=\"#top\" class=\"btn btn-primary btn-sm\" role=\"button\" aria-pressed=\"true\" style=\"color:white\" data-toggle=\"popover\" title=\"go to Top\">Go to Top</a>\n",
    "    </div>\n",
    "    <br style=\"clear: left;\" />\n",
    "</div>"
   ]
  },
  {
   "cell_type": "code",
   "execution_count": 131,
   "metadata": {
    "execution": {
     "iopub.execute_input": "2020-10-20T03:48:19.808077Z",
     "iopub.status.busy": "2020-10-20T03:48:19.807279Z",
     "iopub.status.idle": "2020-10-20T03:48:19.810246Z",
     "shell.execute_reply": "2020-10-20T03:48:19.810754Z"
    },
    "papermill": {
     "duration": 0.22548,
     "end_time": "2020-10-20T03:48:19.810890",
     "exception": false,
     "start_time": "2020-10-20T03:48:19.585410",
     "status": "completed"
    },
    "tags": []
   },
   "outputs": [
    {
     "name": "stdout",
     "output_type": "stream",
     "text": [
      "Original:\n",
      "[[( nan,  nan) ( nan,  nan)]\n",
      " [( nan,  nan) ( nan,  nan)]\n",
      " [( nan,  nan) ( nan,  nan)]]\n",
      "\n",
      "After setting up a tuple:\n",
      "[[( 12.00,  2.00) ( 12.00,  2.00)]\n",
      " [( nan,  nan) ( nan,  nan)]\n",
      " [( nan,  nan) ( nan,  nan)]]\n"
     ]
    }
   ],
   "source": [
    "# 126. Initalize array with tuples\n",
    "\n",
    "a = np.full((3,2), np.nan, dtype='f,f')\n",
    "print('Original:')\n",
    "print(a)\n",
    "\n",
    "\n",
    "a[0] = (12, 2)\n",
    "print('\\nAfter setting up a tuple:')\n",
    "print(a)"
   ]
  },
  {
   "cell_type": "markdown",
   "metadata": {
    "papermill": {
     "duration": 0.177556,
     "end_time": "2020-10-20T03:48:20.164599",
     "exception": false,
     "start_time": "2020-10-20T03:48:19.987043",
     "status": "completed"
    },
    "tags": []
   },
   "source": [
    "<div style=\"\">\n",
    "    <div style=\"float: left; width: 80%;\">\n",
    "        <a id=\"127\"></a>\n",
    "        <font><b>Task 127:</b></font>\n",
    "        <br><br>\n",
    "        Rearrange with permutation\n",
    "    </div>\n",
    "    <div style=\"float: right;\">\n",
    "        <a href=\"#top\" class=\"btn btn-primary btn-sm\" role=\"button\" aria-pressed=\"true\" style=\"color:white\" data-toggle=\"popover\" title=\"go to Top\">Go to Top</a>\n",
    "    </div>\n",
    "    <br style=\"clear: left;\" />\n",
    "</div>"
   ]
  },
  {
   "cell_type": "code",
   "execution_count": 132,
   "metadata": {
    "execution": {
     "iopub.execute_input": "2020-10-20T03:48:20.531960Z",
     "iopub.status.busy": "2020-10-20T03:48:20.531327Z",
     "iopub.status.idle": "2020-10-20T03:48:20.534014Z",
     "shell.execute_reply": "2020-10-20T03:48:20.534636Z"
    },
    "papermill": {
     "duration": 0.18845,
     "end_time": "2020-10-20T03:48:20.534784",
     "exception": false,
     "start_time": "2020-10-20T03:48:20.346334",
     "status": "completed"
    },
    "tags": []
   },
   "outputs": [
    {
     "name": "stdout",
     "output_type": "stream",
     "text": [
      "Original:\n",
      "[[ 10  20  30]\n",
      " [100 200 300]]\n",
      "\n",
      "Afer:\n",
      "[[100 200 300]\n",
      " [ 10  20  30]]\n"
     ]
    }
   ],
   "source": [
    "# 127. Rearrange with permutation\n",
    "\n",
    "a = np.array([[10, 20, 30],\n",
    "                  [100, 200, 300]])\n",
    "\n",
    "print('Original:')\n",
    "print(a)\n",
    "\n",
    "permutation = [1, 0]\n",
    "b = a[permutation]\n",
    "print('\\nAfer:')\n",
    "print(b)"
   ]
  },
  {
   "cell_type": "code",
   "execution_count": 133,
   "metadata": {
    "execution": {
     "iopub.execute_input": "2020-10-20T03:48:20.903609Z",
     "iopub.status.busy": "2020-10-20T03:48:20.902802Z",
     "iopub.status.idle": "2020-10-20T03:48:20.908867Z",
     "shell.execute_reply": "2020-10-20T03:48:20.909581Z"
    },
    "papermill": {
     "duration": 0.19178,
     "end_time": "2020-10-20T03:48:20.909778",
     "exception": false,
     "start_time": "2020-10-20T03:48:20.717998",
     "status": "completed"
    },
    "tags": []
   },
   "outputs": [
    {
     "name": "stdout",
     "output_type": "stream",
     "text": [
      "Original:\n",
      "[[[0 2]\n",
      "  [1 2]\n",
      "  [2 3]]]\n",
      "\n",
      "Shape: (1, 3, 2)\n",
      "\n",
      "After Squeezing:\n",
      "[[0 2]\n",
      " [1 2]\n",
      " [2 3]]\n",
      "\n",
      "Shape: (3, 2)\n"
     ]
    }
   ],
   "source": [
    "# 128. Squeeze 1\n",
    "\n",
    "x = np.array([[[0, 2], [1, 2], [2, 3]]])\n",
    "print('Original:')\n",
    "print(x)\n",
    "print('\\nShape:', x.shape)\n",
    "\n",
    "y = np.squeeze(x)\n",
    "print('\\nAfter Squeezing:')\n",
    "print(y)\n",
    "print('\\nShape:', y.shape)"
   ]
  },
  {
   "cell_type": "code",
   "execution_count": 134,
   "metadata": {
    "execution": {
     "iopub.execute_input": "2020-10-20T03:48:21.281082Z",
     "iopub.status.busy": "2020-10-20T03:48:21.280282Z",
     "iopub.status.idle": "2020-10-20T03:48:21.286234Z",
     "shell.execute_reply": "2020-10-20T03:48:21.284681Z"
    },
    "papermill": {
     "duration": 0.198056,
     "end_time": "2020-10-20T03:48:21.286349",
     "exception": false,
     "start_time": "2020-10-20T03:48:21.088293",
     "status": "completed"
    },
    "tags": []
   },
   "outputs": [
    {
     "name": "stdout",
     "output_type": "stream",
     "text": [
      "Original:\n",
      "[[[0]\n",
      "  [1]\n",
      "  [2]]]\n",
      "\n",
      "Shape: (1, 3, 1)\n",
      "\n",
      "After Squeezing:\n",
      "[0 1 2]\n",
      "\n",
      "Shape: (3,)\n"
     ]
    }
   ],
   "source": [
    "# 129. Squeeze 2\n",
    "\n",
    "x = np.array([[[0], [1], [2]]])\n",
    "print('Original:')\n",
    "print(x)\n",
    "print('\\nShape:', x.shape)\n",
    "\n",
    "y = np.squeeze(x)\n",
    "print('\\nAfter Squeezing:')\n",
    "print(y)\n",
    "print('\\nShape:', y.shape)"
   ]
  },
  {
   "cell_type": "code",
   "execution_count": 135,
   "metadata": {
    "execution": {
     "iopub.execute_input": "2020-10-20T03:48:21.680499Z",
     "iopub.status.busy": "2020-10-20T03:48:21.679416Z",
     "iopub.status.idle": "2020-10-20T03:48:21.687357Z",
     "shell.execute_reply": "2020-10-20T03:48:21.687922Z"
    },
    "papermill": {
     "duration": 0.215035,
     "end_time": "2020-10-20T03:48:21.688068",
     "exception": false,
     "start_time": "2020-10-20T03:48:21.473033",
     "status": "completed"
    },
    "tags": []
   },
   "outputs": [
    {
     "name": "stdout",
     "output_type": "stream",
     "text": [
      "Original:\n",
      "[1 2 4 0]\n",
      "\n",
      "After:\n",
      "[[ 0.00  1.00  0.00  0.00  0.00]\n",
      " [ 0.00  0.00  1.00  0.00  0.00]\n",
      " [ 0.00  0.00  0.00  0.00  1.00]\n",
      " [ 1.00  0.00  0.00  0.00  0.00]]\n"
     ]
    }
   ],
   "source": [
    "# 130. Convert Array indices to One Hot Encoded\n",
    "\n",
    "a = np.array([1, 2, 4, 0])\n",
    "print('Original:')\n",
    "print(a)\n",
    "\n",
    "b = np.zeros((a.size, a.max() + 1))\n",
    "b[np.arange(a.size), a] = 1\n",
    "\n",
    "print('\\nAfter:')\n",
    "print(b)"
   ]
  },
  {
   "cell_type": "code",
   "execution_count": 136,
   "metadata": {
    "execution": {
     "iopub.execute_input": "2020-10-20T03:48:22.066350Z",
     "iopub.status.busy": "2020-10-20T03:48:22.065678Z",
     "iopub.status.idle": "2020-10-20T03:48:22.068549Z",
     "shell.execute_reply": "2020-10-20T03:48:22.068978Z"
    },
    "papermill": {
     "duration": 0.190629,
     "end_time": "2020-10-20T03:48:22.069121",
     "exception": false,
     "start_time": "2020-10-20T03:48:21.878492",
     "status": "completed"
    },
    "tags": []
   },
   "outputs": [
    {
     "name": "stdout",
     "output_type": "stream",
     "text": [
      "262\n"
     ]
    }
   ],
   "source": [
    "# 131. Business Day Count\n",
    "\n",
    "a = np.busday_count('2020-01', '2021-01')\n",
    "\n",
    "print(a)"
   ]
  },
  {
   "cell_type": "code",
   "execution_count": 137,
   "metadata": {
    "execution": {
     "iopub.execute_input": "2020-10-20T03:48:22.447446Z",
     "iopub.status.busy": "2020-10-20T03:48:22.446628Z",
     "iopub.status.idle": "2020-10-20T03:48:22.450256Z",
     "shell.execute_reply": "2020-10-20T03:48:22.450778Z"
    },
    "papermill": {
     "duration": 0.194791,
     "end_time": "2020-10-20T03:48:22.450915",
     "exception": false,
     "start_time": "2020-10-20T03:48:22.256124",
     "status": "completed"
    },
    "tags": []
   },
   "outputs": [
    {
     "name": "stdout",
     "output_type": "stream",
     "text": [
      "[[2 2 3 1 0 3]]\n"
     ]
    }
   ],
   "source": [
    "# 132. Multinomial 1\n",
    "\n",
    "size   = 11\n",
    "levels = 6\n",
    "a = np.random.multinomial(size, np.ones(levels)/levels, size=1)\n",
    "\n",
    "print(a)\n",
    "\n"
   ]
  },
  {
   "cell_type": "code",
   "execution_count": 138,
   "metadata": {
    "execution": {
     "iopub.execute_input": "2020-10-20T03:48:22.825757Z",
     "iopub.status.busy": "2020-10-20T03:48:22.824967Z",
     "iopub.status.idle": "2020-10-20T03:48:22.829293Z",
     "shell.execute_reply": "2020-10-20T03:48:22.828804Z"
    },
    "papermill": {
     "duration": 0.192871,
     "end_time": "2020-10-20T03:48:22.829401",
     "exception": false,
     "start_time": "2020-10-20T03:48:22.636530",
     "status": "completed"
    },
    "tags": []
   },
   "outputs": [
    {
     "name": "stdout",
     "output_type": "stream",
     "text": [
      "[[4 2 4 5 3 2]]\n"
     ]
    }
   ],
   "source": [
    "# 133. Multinomial 2\n",
    "\n",
    "b = np.random.multinomial(20, [1/6.]*6, size=1)\n",
    "print(b)\n",
    "\n",
    "# How to interpret?\n",
    "# Assuue, you throw dice 20 times, if you get a result [[2 3 1 5 3 6]], it means\n",
    "# You got 1 for 2 times\n",
    "# You got 2 for 3 times"
   ]
  },
  {
   "cell_type": "code",
   "execution_count": 139,
   "metadata": {
    "execution": {
     "iopub.execute_input": "2020-10-20T03:48:23.208658Z",
     "iopub.status.busy": "2020-10-20T03:48:23.207783Z",
     "iopub.status.idle": "2020-10-20T03:48:23.211720Z",
     "shell.execute_reply": "2020-10-20T03:48:23.211089Z"
    },
    "papermill": {
     "duration": 0.198769,
     "end_time": "2020-10-20T03:48:23.211828",
     "exception": false,
     "start_time": "2020-10-20T03:48:23.013059",
     "status": "completed"
    },
    "tags": []
   },
   "outputs": [
    {
     "data": {
      "text/plain": [
       "array([ 0.31,  0.55,  0.34])"
      ]
     },
     "execution_count": 139,
     "metadata": {},
     "output_type": "execute_result"
    }
   ],
   "source": [
    "# 134. Random Generator - Draw samples from Beta Distribution\n",
    "\n",
    "from numpy.random import default_rng\n",
    "\n",
    "rng = default_rng()\n",
    "\n",
    "a = np.array([1, 2, 3])\n",
    "b = np.array([7, 8, 9])\n",
    "\n",
    "rng.beta(a + 10, b + 10)\n",
    "\n",
    "# Doc: https://numpy.org/doc/stable/reference/random/index.html\n",
    "# https://numpy.org/doc/stable/reference/random/generated/numpy.random.Generator.beta.html#numpy.random.Generator.beta"
   ]
  },
  {
   "cell_type": "code",
   "execution_count": 140,
   "metadata": {
    "execution": {
     "iopub.execute_input": "2020-10-20T03:48:23.587954Z",
     "iopub.status.busy": "2020-10-20T03:48:23.587159Z",
     "iopub.status.idle": "2020-10-20T03:48:23.590045Z",
     "shell.execute_reply": "2020-10-20T03:48:23.590842Z"
    },
    "papermill": {
     "duration": 0.195009,
     "end_time": "2020-10-20T03:48:23.591013",
     "exception": false,
     "start_time": "2020-10-20T03:48:23.396004",
     "status": "completed"
    },
    "tags": []
   },
   "outputs": [
    {
     "name": "stdout",
     "output_type": "stream",
     "text": [
      "Original:\n",
      "['a' 'b' 'b' 'c' 'c' 'd' 'd']\n",
      "\n",
      "Unique:\n",
      "['a' 'b' 'c' 'd']\n"
     ]
    }
   ],
   "source": [
    "# 135. Get only unique\n",
    "\n",
    "import numpy as np\n",
    "\n",
    "a = np.array(['a', 'b', 'b', 'c', 'c', 'd', 'd'])\n",
    "print('Original:')\n",
    "print(a)\n",
    "\n",
    "b = np.unique(a)\n",
    "print('\\nUnique:')\n",
    "print(b)"
   ]
  },
  {
   "cell_type": "code",
   "execution_count": 141,
   "metadata": {
    "execution": {
     "iopub.execute_input": "2020-10-20T03:48:23.967432Z",
     "iopub.status.busy": "2020-10-20T03:48:23.966652Z",
     "iopub.status.idle": "2020-10-20T03:48:23.969956Z",
     "shell.execute_reply": "2020-10-20T03:48:23.970441Z"
    },
    "papermill": {
     "duration": 0.194485,
     "end_time": "2020-10-20T03:48:23.970621",
     "exception": false,
     "start_time": "2020-10-20T03:48:23.776136",
     "status": "completed"
    },
    "tags": []
   },
   "outputs": [
    {
     "name": "stdout",
     "output_type": "stream",
     "text": [
      "np.searchsorted([1,2,3,4,5], 3):\n",
      "2\n",
      "\n",
      "np.searchsorted([1,2,3,4,5], [7, 2, 3]):\n",
      "[5 1 2]\n"
     ]
    }
   ],
   "source": [
    "# 136. Find indices with SearchSorted\n",
    "\n",
    "import numpy as np\n",
    "\n",
    "a = np.searchsorted([1,2,3,4,5], 3)\n",
    "print('np.searchsorted([1,2,3,4,5], 3):')\n",
    "print(a)\n",
    "\n",
    "\n",
    "b = np.searchsorted([1,2,3,4,5], [7, 2, 3])\n",
    "print('\\nnp.searchsorted([1,2,3,4,5], [7, 2, 3]):')\n",
    "print(b)"
   ]
  },
  {
   "cell_type": "code",
   "execution_count": 142,
   "metadata": {
    "execution": {
     "iopub.execute_input": "2020-10-20T03:48:24.357353Z",
     "iopub.status.busy": "2020-10-20T03:48:24.356688Z",
     "iopub.status.idle": "2020-10-20T03:48:24.360499Z",
     "shell.execute_reply": "2020-10-20T03:48:24.359802Z"
    },
    "papermill": {
     "duration": 0.200525,
     "end_time": "2020-10-20T03:48:24.360629",
     "exception": false,
     "start_time": "2020-10-20T03:48:24.160104",
     "status": "completed"
    },
    "tags": []
   },
   "outputs": [
    {
     "name": "stdout",
     "output_type": "stream",
     "text": [
      "Original:\n",
      "['CA', 'ON', 'NY']\n",
      "\n",
      "After looping 5 rounds:\n",
      "['CA', 'ON', 'NY', 'CA', 'ON']\n",
      "\n",
      "After looping 5 rounds by using Numpy Resize:\n",
      "['CA' 'ON' 'NY' 'CA' 'ON']\n"
     ]
    }
   ],
   "source": [
    "# 137. Loop list by using itertools.cycle\n",
    "\n",
    "import itertools\n",
    "\n",
    "a_list = [\"CA\", \"ON\", \"NY\"]\n",
    "print('Original:')\n",
    "print(a_list)\n",
    "\n",
    "rounds = 5\n",
    "ic = itertools.cycle(a_list)\n",
    "\n",
    "a = [next(ic) for _ in range(rounds)]\n",
    "print('\\nAfter looping 5 rounds:')\n",
    "print(a)\n",
    "\n",
    "# You can do the same in Numpy resize to get Numpy Array\n",
    "b = np.resize(a_list, rounds)\n",
    "print('\\nAfter looping 5 rounds by using Numpy Resize:')\n",
    "print(b)"
   ]
  },
  {
   "cell_type": "code",
   "execution_count": 143,
   "metadata": {
    "execution": {
     "iopub.execute_input": "2020-10-20T03:48:24.740031Z",
     "iopub.status.busy": "2020-10-20T03:48:24.739292Z",
     "iopub.status.idle": "2020-10-20T03:48:24.746662Z",
     "shell.execute_reply": "2020-10-20T03:48:24.747105Z"
    },
    "papermill": {
     "duration": 0.201268,
     "end_time": "2020-10-20T03:48:24.747247",
     "exception": false,
     "start_time": "2020-10-20T03:48:24.545979",
     "status": "completed"
    },
    "tags": []
   },
   "outputs": [
    {
     "name": "stdout",
     "output_type": "stream",
     "text": [
      "Original:\n",
      "[[1 2 3]\n",
      " [4 5 6]\n",
      " [7 8 9]]\n",
      "\n",
      "triu() without any parameter:\n",
      "[[1 2 3]\n",
      " [0 5 6]\n",
      " [0 0 9]]\n",
      "\n",
      "Above 1st diagonal zeroed:\n",
      "[[0 2 3]\n",
      " [0 0 6]\n",
      " [0 0 0]]\n",
      "\n",
      "Below 1st diagonal zeroed:\n",
      "[[1 2 3]\n",
      " [4 5 6]\n",
      " [0 8 9]]\n"
     ]
    }
   ],
   "source": [
    "# 138. Applying Triu function\n",
    "\n",
    "import numpy as np\n",
    "\n",
    "a = np.matrix([[1,2,3],[4,5,6],[7,8,9]])\n",
    "print(\"Original:\")\n",
    "print(a)\n",
    "\n",
    "print(\"\\ntriu() without any parameter:\")\n",
    "print(np.triu(a))\n",
    "\n",
    "print(\"\\nAbove 1st diagonal zeroed:\")\n",
    "print(np.triu(a, 1))\n",
    "\n",
    "print(\"\\nBelow 1st diagonal zeroed:\")\n",
    "print(np.triu(a, -1))"
   ]
  },
  {
   "cell_type": "code",
   "execution_count": 144,
   "metadata": {
    "execution": {
     "iopub.execute_input": "2020-10-20T03:48:25.119663Z",
     "iopub.status.busy": "2020-10-20T03:48:25.118874Z",
     "iopub.status.idle": "2020-10-20T03:48:25.122577Z",
     "shell.execute_reply": "2020-10-20T03:48:25.121860Z"
    },
    "papermill": {
     "duration": 0.194074,
     "end_time": "2020-10-20T03:48:25.122691",
     "exception": false,
     "start_time": "2020-10-20T03:48:24.928617",
     "status": "completed"
    },
    "tags": []
   },
   "outputs": [
    {
     "name": "stdout",
     "output_type": "stream",
     "text": [
      "[1 2 3 4 5 6]\n"
     ]
    }
   ],
   "source": [
    "# 139. Unpack list elements\n",
    "\n",
    "a_list = [[1, 2, 3], [4, 5, 6]]\n",
    "b_list = np.concatenate(a_list).ravel()\n",
    "\n",
    "print(b_list)"
   ]
  },
  {
   "cell_type": "code",
   "execution_count": 145,
   "metadata": {
    "execution": {
     "iopub.execute_input": "2020-10-20T03:48:25.505623Z",
     "iopub.status.busy": "2020-10-20T03:48:25.504710Z",
     "iopub.status.idle": "2020-10-20T03:48:25.509427Z",
     "shell.execute_reply": "2020-10-20T03:48:25.508546Z"
    },
    "papermill": {
     "duration": 0.197989,
     "end_time": "2020-10-20T03:48:25.509610",
     "exception": false,
     "start_time": "2020-10-20T03:48:25.311621",
     "status": "completed"
    },
    "tags": []
   },
   "outputs": [
    {
     "name": "stdout",
     "output_type": "stream",
     "text": [
      "Original:\n",
      "[ 8  4  2  3  1  7 10 12]\n",
      "\n",
      "After partitioning:\n",
      "[ 7  3  2  4  1  8 10 12]\n"
     ]
    }
   ],
   "source": [
    "# 140. Partitioning\n",
    "\n",
    "a = np.array([8, 4, 2, 3, 1, 7, 10, 12])\n",
    "print('Original:')\n",
    "print(a)\n",
    "\n",
    "b = np.partition(a, 5)\n",
    "print('\\nAfter partitioning:')\n",
    "print(b)"
   ]
  },
  {
   "cell_type": "code",
   "execution_count": 146,
   "metadata": {
    "execution": {
     "iopub.execute_input": "2020-10-20T03:48:25.904095Z",
     "iopub.status.busy": "2020-10-20T03:48:25.903308Z",
     "iopub.status.idle": "2020-10-20T03:48:25.909188Z",
     "shell.execute_reply": "2020-10-20T03:48:25.908526Z"
    },
    "papermill": {
     "duration": 0.206434,
     "end_time": "2020-10-20T03:48:25.909345",
     "exception": false,
     "start_time": "2020-10-20T03:48:25.702911",
     "status": "completed"
    },
    "tags": []
   },
   "outputs": [
    {
     "name": "stdout",
     "output_type": "stream",
     "text": [
      "Original:\n",
      "[2 4]\n",
      "\n",
      "Shape:\n",
      "(2,)\n",
      "\n",
      "After expanding dim:\n",
      "[[2 4]]\n",
      "\n",
      "Shape:\n",
      "(1, 2)\n"
     ]
    }
   ],
   "source": [
    "# 141. Expand Dimension\n",
    "\n",
    "import numpy as np\n",
    "a = np.array([2, 4])\n",
    "print('Original:')\n",
    "print(a)\n",
    "print('\\nShape:')\n",
    "print(a.shape)\n",
    "\n",
    "b = np.expand_dims(a, axis = 0)\n",
    "print('\\nAfter expanding dim:')\n",
    "print(b)\n",
    "print('\\nShape:')\n",
    "print(b.shape)"
   ]
  },
  {
   "cell_type": "code",
   "execution_count": 147,
   "metadata": {
    "execution": {
     "iopub.execute_input": "2020-10-20T03:48:26.298012Z",
     "iopub.status.busy": "2020-10-20T03:48:26.297297Z",
     "iopub.status.idle": "2020-10-20T03:48:26.299972Z",
     "shell.execute_reply": "2020-10-20T03:48:26.301378Z"
    },
    "papermill": {
     "duration": 0.20336,
     "end_time": "2020-10-20T03:48:26.301618",
     "exception": false,
     "start_time": "2020-10-20T03:48:26.098258",
     "status": "completed"
    },
    "tags": []
   },
   "outputs": [
    {
     "name": "stdout",
     "output_type": "stream",
     "text": [
      "Original:\n",
      "[ 1.00  3.00  4.00]\n",
      "\n",
      "After np.gradient(a):\n",
      "[ 2.00  1.50  1.00]\n",
      "\n",
      "After np.gradient(a, 2):\n",
      "[ 1.00  0.75  0.50]\n"
     ]
    }
   ],
   "source": [
    "# 142. Gradient sample\n",
    "\n",
    "a = np.array([1, 3, 4], dtype = float)\n",
    "print('Original:')\n",
    "print(a)\n",
    "\n",
    "b = np.gradient(a)\n",
    "print('\\nAfter np.gradient(a):')\n",
    "print(b)\n",
    "\n",
    "c = np.gradient(a, 2)\n",
    "print('\\nAfter np.gradient(a, 2):')\n",
    "print(c)"
   ]
  },
  {
   "cell_type": "code",
   "execution_count": 148,
   "metadata": {
    "execution": {
     "iopub.execute_input": "2020-10-20T03:48:26.683424Z",
     "iopub.status.busy": "2020-10-20T03:48:26.682662Z",
     "iopub.status.idle": "2020-10-20T03:48:26.686768Z",
     "shell.execute_reply": "2020-10-20T03:48:26.687296Z"
    },
    "papermill": {
     "duration": 0.194844,
     "end_time": "2020-10-20T03:48:26.687433",
     "exception": false,
     "start_time": "2020-10-20T03:48:26.492589",
     "status": "completed"
    },
    "tags": []
   },
   "outputs": [
    {
     "name": "stdout",
     "output_type": "stream",
     "text": [
      "Original:\n",
      "[[10 20]\n",
      " [30 40]]\n",
      "\n",
      "After flatten:\n",
      "[10 20 30 40]\n",
      "\n",
      "After flatten with F:\n",
      "[10 30 20 40]\n"
     ]
    }
   ],
   "source": [
    "# 143. \n",
    "\n",
    "a = np.array([[10, 20], [30, 40]])\n",
    "print('Original:')\n",
    "print(a)\n",
    "\n",
    "b = a.flatten()\n",
    "print('\\nAfter flatten:')\n",
    "print(b)\n",
    "\n",
    "c = a.flatten('F')\n",
    "print('\\nAfter flatten with F:')\n",
    "print(c)"
   ]
  },
  {
   "cell_type": "code",
   "execution_count": 149,
   "metadata": {
    "execution": {
     "iopub.execute_input": "2020-10-20T03:48:27.060431Z",
     "iopub.status.busy": "2020-10-20T03:48:27.059752Z",
     "iopub.status.idle": "2020-10-20T03:48:27.267921Z",
     "shell.execute_reply": "2020-10-20T03:48:27.267224Z"
    },
    "papermill": {
     "duration": 0.395839,
     "end_time": "2020-10-20T03:48:27.268039",
     "exception": false,
     "start_time": "2020-10-20T03:48:26.872200",
     "status": "completed"
    },
    "tags": []
   },
   "outputs": [
    {
     "data": {
      "text/plain": [
       "{}"
      ]
     },
     "execution_count": 149,
     "metadata": {},
     "output_type": "execute_result"
    }
   ],
   "source": [
    "# 144. Check atlas\n",
    "\n",
    "import numpy.distutils.system_info as sysinfo\n",
    "sysinfo.get_info('atlas')"
   ]
  },
  {
   "cell_type": "code",
   "execution_count": 150,
   "metadata": {
    "execution": {
     "iopub.execute_input": "2020-10-20T03:48:27.666739Z",
     "iopub.status.busy": "2020-10-20T03:48:27.665805Z",
     "iopub.status.idle": "2020-10-20T03:48:27.669678Z",
     "shell.execute_reply": "2020-10-20T03:48:27.671135Z"
    },
    "papermill": {
     "duration": 0.211529,
     "end_time": "2020-10-20T03:48:27.671333",
     "exception": false,
     "start_time": "2020-10-20T03:48:27.459804",
     "status": "completed"
    },
    "tags": []
   },
   "outputs": [
    {
     "name": "stdout",
     "output_type": "stream",
     "text": [
      "blas_mkl_info:\n",
      "    libraries = ['mkl_rt', 'pthread']\n",
      "    library_dirs = ['/opt/conda/lib']\n",
      "    define_macros = [('SCIPY_MKL_H', None), ('HAVE_CBLAS', None)]\n",
      "    include_dirs = ['/opt/conda/include']\n",
      "blas_opt_info:\n",
      "    libraries = ['mkl_rt', 'pthread']\n",
      "    library_dirs = ['/opt/conda/lib']\n",
      "    define_macros = [('SCIPY_MKL_H', None), ('HAVE_CBLAS', None)]\n",
      "    include_dirs = ['/opt/conda/include']\n",
      "lapack_mkl_info:\n",
      "    libraries = ['mkl_rt', 'pthread']\n",
      "    library_dirs = ['/opt/conda/lib']\n",
      "    define_macros = [('SCIPY_MKL_H', None), ('HAVE_CBLAS', None)]\n",
      "    include_dirs = ['/opt/conda/include']\n",
      "lapack_opt_info:\n",
      "    libraries = ['mkl_rt', 'pthread']\n",
      "    library_dirs = ['/opt/conda/lib']\n",
      "    define_macros = [('SCIPY_MKL_H', None), ('HAVE_CBLAS', None)]\n",
      "    include_dirs = ['/opt/conda/include']\n"
     ]
    }
   ],
   "source": [
    "# 145. Check Numpy Configuration\n",
    "\n",
    "np.show_config()"
   ]
  },
  {
   "cell_type": "markdown",
   "metadata": {
    "papermill": {
     "duration": 0.192939,
     "end_time": "2020-10-20T03:48:28.072118",
     "exception": false,
     "start_time": "2020-10-20T03:48:27.879179",
     "status": "completed"
    },
    "tags": []
   },
   "source": [
    "**Final Notes:**\n",
    "\n",
    "I am adding things still. You can come back and check for more information.\n",
    "\n",
    "Also, if you **like my notebook**, <font style=\"color:blue;size:14px;\">please upvote it</font> as it will motivate me to come up with better approach in the upcoming notebooks."
   ]
  }
 ],
 "metadata": {
  "kernelspec": {
   "display_name": "Python 3 (ipykernel)",
   "language": "python",
   "name": "python3"
  },
  "language_info": {
   "codemirror_mode": {
    "name": "ipython",
    "version": 3
   },
   "file_extension": ".py",
   "mimetype": "text/x-python",
   "name": "python",
   "nbconvert_exporter": "python",
   "pygments_lexer": "ipython3",
   "version": "3.9.13"
  },
  "papermill": {
   "duration": 93.951076,
   "end_time": "2020-10-20T03:48:28.380916",
   "environment_variables": {},
   "exception": null,
   "input_path": "__notebook__.ipynb",
   "output_path": "__notebook__.ipynb",
   "parameters": {},
   "start_time": "2020-10-20T03:46:54.429840",
   "version": "2.1.0"
  }
 },
 "nbformat": 4,
 "nbformat_minor": 4
}
