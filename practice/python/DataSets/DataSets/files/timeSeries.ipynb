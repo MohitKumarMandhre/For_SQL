{
 "cells": [
  {
   "cell_type": "code",
   "execution_count": 1,
   "id": "b806febd",
   "metadata": {},
   "outputs": [],
   "source": [
    "import datetime as dt"
   ]
  },
  {
   "cell_type": "code",
   "execution_count": 4,
   "id": "0c5261c1",
   "metadata": {},
   "outputs": [
    {
     "data": {
      "text/plain": [
       "'2011-09-21 00:00:00'"
      ]
     },
     "execution_count": 4,
     "metadata": {},
     "output_type": "execute_result"
    }
   ],
   "source": [
    "str(dt.datetime(2011,9,21))"
   ]
  },
  {
   "cell_type": "code",
   "execution_count": 6,
   "id": "a8eb00a7",
   "metadata": {},
   "outputs": [],
   "source": [
    "time1  =dt.datetime(2011,9,21)"
   ]
  },
  {
   "cell_type": "code",
   "execution_count": 8,
   "id": "134a1edb",
   "metadata": {},
   "outputs": [
    {
     "data": {
      "text/plain": [
       "2011"
      ]
     },
     "execution_count": 8,
     "metadata": {},
     "output_type": "execute_result"
    }
   ],
   "source": [
    "time1.year"
   ]
  },
  {
   "cell_type": "code",
   "execution_count": 9,
   "id": "da15fbad",
   "metadata": {},
   "outputs": [
    {
     "data": {
      "text/plain": [
       "9"
      ]
     },
     "execution_count": 9,
     "metadata": {},
     "output_type": "execute_result"
    }
   ],
   "source": [
    "time1.month"
   ]
  },
  {
   "cell_type": "code",
   "execution_count": 10,
   "id": "5b54d9ef",
   "metadata": {},
   "outputs": [],
   "source": [
    "import pandas as pd"
   ]
  },
  {
   "cell_type": "code",
   "execution_count": 11,
   "id": "a91ccd6f",
   "metadata": {},
   "outputs": [
    {
     "data": {
      "text/plain": [
       "Timestamp('2012-10-22 00:00:00')"
      ]
     },
     "execution_count": 11,
     "metadata": {},
     "output_type": "execute_result"
    }
   ],
   "source": [
    "pd.Timestamp('2012-10-22')"
   ]
  },
  {
   "cell_type": "code",
   "execution_count": 12,
   "id": "5c35704b",
   "metadata": {},
   "outputs": [
    {
     "data": {
      "text/plain": [
       "Timestamp('2012-10-22 00:00:00')"
      ]
     },
     "execution_count": 12,
     "metadata": {},
     "output_type": "execute_result"
    }
   ],
   "source": [
    "pd.Timestamp('2012-Oct-22')"
   ]
  },
  {
   "cell_type": "code",
   "execution_count": 13,
   "id": "17502bc7",
   "metadata": {},
   "outputs": [
    {
     "name": "stderr",
     "output_type": "stream",
     "text": [
      "C:\\Users\\Tushar\\AppData\\Local\\Temp\\ipykernel_484\\4206311260.py:1: UserWarning: Parsing dates in DD/MM/YYYY format when dayfirst=False (the default) was specified. This may lead to inconsistently parsed dates! Specify a format to ensure consistent parsing.\n",
      "  pd.Timestamp('22-10-2012')\n"
     ]
    },
    {
     "data": {
      "text/plain": [
       "Timestamp('2012-10-22 00:00:00')"
      ]
     },
     "execution_count": 13,
     "metadata": {},
     "output_type": "execute_result"
    }
   ],
   "source": [
    "pd.Timestamp('22-10-2012')"
   ]
  },
  {
   "cell_type": "code",
   "execution_count": 20,
   "id": "bddedbb9",
   "metadata": {},
   "outputs": [
    {
     "data": {
      "text/plain": [
       "DatetimeIndex(['2023-02-01', '2023-02-02', '2023-02-03', '2023-02-06'], dtype='datetime64[ns]', freq='B')"
      ]
     },
     "execution_count": 20,
     "metadata": {},
     "output_type": "execute_result"
    }
   ],
   "source": [
    "pd.date_range(start='2023-02-01' , end='2023-02-6',freq=\"B\")"
   ]
  },
  {
   "cell_type": "code",
   "execution_count": 21,
   "id": "ff565d0b",
   "metadata": {},
   "outputs": [
    {
     "data": {
      "text/plain": [
       "DatetimeIndex(['2023-01-01', '2023-01-16', '2023-01-31', '2023-02-15',\n",
       "               '2023-03-02', '2023-03-17'],\n",
       "              dtype='datetime64[ns]', freq='15D')"
      ]
     },
     "execution_count": 21,
     "metadata": {},
     "output_type": "execute_result"
    }
   ],
   "source": [
    "pd.date_range(start='2023-01-01' , end='2023-03-26',freq=\"15D\") "
   ]
  },
  {
   "cell_type": "code",
   "execution_count": 22,
   "id": "387a7577",
   "metadata": {},
   "outputs": [
    {
     "data": {
      "text/plain": [
       "pandas.core.indexes.datetimes.DatetimeIndex"
      ]
     },
     "execution_count": 22,
     "metadata": {},
     "output_type": "execute_result"
    }
   ],
   "source": [
    "type(pd.date_range(start='2023-01-01' , end='2023-03-26',freq=\"15D\") )"
   ]
  },
  {
   "cell_type": "code",
   "execution_count": 24,
   "id": "b25824a3",
   "metadata": {},
   "outputs": [],
   "source": [
    "dateSeries = pd.Series(pd.date_range(start='2023-01-01' , end='2023-03-26',freq=\"15D\") )"
   ]
  },
  {
   "cell_type": "code",
   "execution_count": 25,
   "id": "c5ac92a7",
   "metadata": {},
   "outputs": [
    {
     "data": {
      "text/plain": [
       "0   2023-01-01\n",
       "1   2023-01-16\n",
       "2   2023-01-31\n",
       "3   2023-02-15\n",
       "4   2023-03-02\n",
       "5   2023-03-17\n",
       "dtype: datetime64[ns]"
      ]
     },
     "execution_count": 25,
     "metadata": {},
     "output_type": "execute_result"
    }
   ],
   "source": [
    "dateSeries"
   ]
  },
  {
   "cell_type": "code",
   "execution_count": 26,
   "id": "240a3410",
   "metadata": {},
   "outputs": [
    {
     "data": {
      "text/plain": [
       "0    6\n",
       "1    0\n",
       "2    1\n",
       "3    2\n",
       "4    3\n",
       "5    4\n",
       "dtype: int64"
      ]
     },
     "execution_count": 26,
     "metadata": {},
     "output_type": "execute_result"
    }
   ],
   "source": [
    "dateSeries.dt.day_of_week"
   ]
  },
  {
   "cell_type": "code",
   "execution_count": 27,
   "id": "5298ea24",
   "metadata": {},
   "outputs": [
    {
     "data": {
      "text/plain": [
       "0     True\n",
       "1    False\n",
       "2    False\n",
       "3    False\n",
       "4    False\n",
       "5    False\n",
       "dtype: bool"
      ]
     },
     "execution_count": 27,
     "metadata": {},
     "output_type": "execute_result"
    }
   ],
   "source": [
    "dateSeries.dt.is_quarter_start"
   ]
  },
  {
   "cell_type": "code",
   "execution_count": null,
   "id": "98375096",
   "metadata": {},
   "outputs": [],
   "source": []
  }
 ],
 "metadata": {
  "kernelspec": {
   "display_name": "Python 3 (ipykernel)",
   "language": "python",
   "name": "python3"
  },
  "language_info": {
   "codemirror_mode": {
    "name": "ipython",
    "version": 3
   },
   "file_extension": ".py",
   "mimetype": "text/x-python",
   "name": "python",
   "nbconvert_exporter": "python",
   "pygments_lexer": "ipython3",
   "version": "3.8.10"
  }
 },
 "nbformat": 4,
 "nbformat_minor": 5
}
