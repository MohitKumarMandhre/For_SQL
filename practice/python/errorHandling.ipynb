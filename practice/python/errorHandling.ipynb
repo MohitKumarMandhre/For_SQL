{
 "cells": [
  {
   "attachments": {},
   "cell_type": "markdown",
   "metadata": {},
   "source": [
    "### ERROR HANDLING, \n",
    "##### dated : 24-01-2023\n",
    "#####  * display meaningfull error message to the end user\n",
    "#####  * to have a alternate approach to handle error\n",
    "#####  * helps in logging the error occured for audit purposes\n",
    "#####  * automate mail sending to desioured stake holders\n",
    "##### * finally makes it easy to remove connections; as it can lead to I/O may remain busy, also data can go corrupted"
   ]
  },
  {
   "cell_type": "markdown",
   "metadata": {},
   "source": []
  },
  {
   "cell_type": "code",
   "execution_count": 40,
   "metadata": {},
   "outputs": [
    {
     "ename": "ValueError",
     "evalue": "invalid literal for int() with base 10: '5t'",
     "output_type": "error",
     "traceback": [
      "\u001b[1;31m---------------------------------------------------------------------------\u001b[0m",
      "\u001b[1;31mValueError\u001b[0m                                Traceback (most recent call last)",
      "Cell \u001b[1;32mIn[40], line 7\u001b[0m\n\u001b[0;32m      4\u001b[0m         \u001b[39mraise\u001b[39;00m \u001b[39mTypeError\u001b[39;00m(\u001b[39m\"\u001b[39m\u001b[39mOnly integers are allowed\u001b[39m\u001b[39m\"\u001b[39m)\n\u001b[0;32m      5\u001b[0m     \u001b[39mprint\u001b[39m( x)\n\u001b[1;32m----> 7\u001b[0m chkAge()\n",
      "Cell \u001b[1;32mIn[40], line 2\u001b[0m, in \u001b[0;36mchkAge\u001b[1;34m()\u001b[0m\n\u001b[0;32m      1\u001b[0m \u001b[39mdef\u001b[39;00m \u001b[39mchkAge\u001b[39m( ):\n\u001b[1;32m----> 2\u001b[0m     x \u001b[39m=\u001b[39m \u001b[39mint\u001b[39;49m( \u001b[39minput\u001b[39;49m())\n\u001b[0;32m      3\u001b[0m     \u001b[39mif\u001b[39;00m \u001b[39mnot\u001b[39;00m \u001b[39mtype\u001b[39m(x) \u001b[39mis\u001b[39;00m \u001b[39mint\u001b[39m:\n\u001b[0;32m      4\u001b[0m         \u001b[39mraise\u001b[39;00m \u001b[39mTypeError\u001b[39;00m(\u001b[39m\"\u001b[39m\u001b[39mOnly integers are allowed\u001b[39m\u001b[39m\"\u001b[39m)\n",
      "\u001b[1;31mValueError\u001b[0m: invalid literal for int() with base 10: '5t'"
     ]
    }
   ],
   "source": [
    "\n",
    "def chkAge( ):\n",
    "    x = int( input())\n",
    "    if not type(x) is int:\n",
    "        raise TypeError(\"Only integers are allowed\")\n",
    "    print( x)\n",
    "\n",
    "chkAge()"
   ]
  },
  {
   "cell_type": "code",
   "execution_count": null,
   "metadata": {},
   "outputs": [],
   "source": [
    "\n",
    "# user defined exceptions - pending\n",
    "class invalidAge(Exception):\n",
    "    pass\n"
   ]
  },
  {
   "cell_type": "code",
   "execution_count": 71,
   "metadata": {},
   "outputs": [
    {
     "name": "stdout",
     "output_type": "stream",
     "text": [
      "Name: Bob Marry, Email: Bob.Marry@gmail.com \n",
      "NEW Sal: 120000.0\n",
      "Name: Aditya Ojha, Email: Aditya.Ojha@gmail.com \n",
      "NEW Sal: 56250.0\n"
     ]
    }
   ],
   "source": [
    "\n",
    "class Emp:\n",
    "    def __init__(self, id, fn, ln, pay): # __ builtin or system variables\n",
    "        self.id = id # default attribute\n",
    "        self.fn = fn\n",
    "        self.ln = ln\n",
    "        self.pay = pay\n",
    "    hike_percentage = 12.50 # attribute\n",
    "\n",
    "    # property, getter and setter will be invoked automatically\n",
    "    @property \n",
    "    def emp_full_name(self):\n",
    "        return '{} {}'.format(self.fn, self.ln)\n",
    "\n",
    "    @property \n",
    "    def emp_email(self):\n",
    "        return '{}.{}@gmail.com'.format(self.fn, self.ln)\n",
    "\n",
    "    def hike_sal(self):\n",
    "        self.pay = self.pay*( 1 + self.hike_percentage/100 )\n",
    "        return self.pay\n",
    "\n",
    "e1 = Emp(1001, 'Bob', 'Marry', 100000)\n",
    "# print( e1.emp_full_name, e1.emp_email )\n",
    "print( \"Name: %s, Email: %s \" % (e1.emp_full_name, e1.emp_email ))\n",
    "e1.hike_percentage = 20\n",
    "# e1.emp_full_name = \"Bobby Marry\" #AttributeError: can't set attribute 'emp_full_name'\n",
    "print( 'NEW Sal: {}'.format(e1.hike_sal() ) )\n",
    "\n",
    "e2 = Emp( 1002, 'Aditya', 'Ojha', 50000)\n",
    "# print( e2.emp_full_name, e2.emp_email )\n",
    "print( \"Name: %s, Email: %s \" % (e2.emp_full_name, e2.emp_email ))\n",
    "e1.hike_percentage = 30\n",
    "print( 'NEW Sal: {}'.format(e2.hike_sal() ) )"
   ]
  },
  {
   "cell_type": "code",
   "execution_count": 1,
   "metadata": {},
   "outputs": [
    {
     "name": "stdout",
     "output_type": "stream",
     "text": [
      "CUSTOMERS LIST:\n",
      "(id, firt_name, last_name, mail, phone)\n",
      "[101, 'abc', 'def', 'a@123.com', 123]\n",
      "[102, 'ghi', 'jkl', 'b@123.com', 456]\n",
      "[103, 'mno', 'pqr', 'c@123.com', 789]\n",
      "\n",
      "Customer Details: [101, 'abc', 'def', 'a@123.com', 123]\n"
     ]
    }
   ],
   "source": [
    "\n",
    "class Customer:\n",
    "    def __init__(self, id, fn, ln, email, phn):\n",
    "        self.id = id\n",
    "        self.fn = fn\n",
    "        self.ln = ln\n",
    "        self.email = email\n",
    "        self.phn = phn\n",
    "\n",
    "    def __str__(self):\n",
    "        return str( [self.id, self.fn, self.ln, self.email, self.phn])\n",
    "    \n",
    "    @property \n",
    "    def cust_full_name(self):\n",
    "        return '{} {}'.format(self.fn, self.ln)\n",
    "\n",
    "    def getCustDetails(self, customersli, id=None, fn=None, ln=None, email=None, phn=None):\n",
    "        # print( id, fn, ln, email, phn)\n",
    "        for x in customersli:\n",
    "            if x.id == id or x.fn == fn or x.ln == ln or x.email == email or x.phn == phn:\n",
    "                return x # cust object\n",
    "        return \"NOT FOUND\"\n",
    "\n",
    "customersli = []\n",
    "\n",
    "c1 = Customer(101, 'abc', 'def', 'a@123.com', 123)\n",
    "customersli.append(c1)\n",
    "# print( c1)\n",
    "c2 = Customer(102, 'ghi', 'jkl', 'b@123.com', 456)\n",
    "# print( c2)\n",
    "customersli.append(c2)\n",
    "\n",
    "c3 = Customer(103, 'mno', 'pqr', 'c@123.com', 789)\n",
    "# print( c2)\n",
    "customersli.append(c3)\n",
    "\n",
    "print(\"CUSTOMERS LIST:\\n(id, firt_name, last_name, mail, phone)\")\n",
    "for x in customersli:\n",
    "    print( str( x))\n",
    "print()\n",
    "\n",
    "c3 = Customer(102, '', '', '', 456)\n",
    "c4 = c3.getCustDetails( customersli, email='a@123.com')\n",
    "print( \"Customer Details:\", str( c4))"
   ]
  },
  {
   "cell_type": "code",
   "execution_count": 2,
   "metadata": {},
   "outputs": [
    {
     "name": "stdout",
     "output_type": "stream",
     "text": [
      "[101, 'abc', 'def', 'a@123.com', 123]\n",
      "<filter object at 0x00000142CFBFF220>\n",
      "Customer Details: NOT FOUND\n"
     ]
    }
   ],
   "source": [
    "class Customer:\n",
    "    def __init__(self, id, fn, ln, email, phn):\n",
    "        self.id = id\n",
    "        self.fn = fn\n",
    "        self.ln = ln\n",
    "        self.email = email\n",
    "        self.phn = phn\n",
    "\n",
    "    def __str__(self):\n",
    "        return str( [self.id, self.fn, self.ln, self.email, self.phn])\n",
    "    \n",
    "    @property \n",
    "    def cust_full_name(self):\n",
    "        return '{} {}'.format(self.fn, self.ln)\n",
    "\n",
    "    @cust_full_name.setter\n",
    "    def cust_full_name(self, fn):\n",
    "        s = '{} is changes to {}'.format(self.fn, fn)\n",
    "        self.fn = fn\n",
    "        print( s)\n",
    "    \n",
    "    @cust_full_name.deleter\n",
    "    def cust_full_name(self):\n",
    "        print( '{} was deleted'.format(self.fn) )\n",
    "\n",
    "    def getCustDetailsId(self, customersli, id):\n",
    "        x = filter(id, customersli)\n",
    "        print( x)\n",
    "        return \"NOT FOUND\"\n",
    "\n",
    "c1 = Customer(101, 'abc', 'def', 'a@123.com', 123)\n",
    "print( c1)\n",
    "\n",
    "c3 = Customer(102, '', '', '', 456)\n",
    "c4 = c3.getCustDetailsId( customersli, 102)\n",
    "print( \"Customer Details:\", str( c4))"
   ]
  },
  {
   "cell_type": "code",
   "execution_count": null,
   "metadata": {},
   "outputs": [],
   "source": [
    "\n",
    "class Product:\n",
    "    def __init__(self, price):\n",
    "        self.price = price\n",
    "\n",
    "    @property\n",
    "    def price(self):\n",
    "        return self.price\n",
    "    \n",
    "    @price.setter\n",
    "    def price(self, new_price):\n",
    "        if new_price>0 and isinstance(new_price, float):\n",
    "            self.price = new_price\n",
    "        else:\n",
    "            print(\"Invalid price\")\n",
    "    \n",
    "p1 = Product(250)\n",
    "print( p1.price )\n",
    "p1.price = 350\n",
    "print( p1.price )\n"
   ]
  },
  {
   "cell_type": "code",
   "execution_count": 1,
   "metadata": {},
   "outputs": [
    {
     "name": "stdout",
     "output_type": "stream",
     "text": [
      "CHECKING\n",
      "again\n"
     ]
    }
   ],
   "source": [
    "print( \"CHECKING\")\n",
    "print(\"again\")"
   ]
  },
  {
   "cell_type": "code",
   "execution_count": null,
   "metadata": {},
   "outputs": [],
   "source": []
  },
  {
   "cell_type": "code",
   "execution_count": null,
   "metadata": {},
   "outputs": [],
   "source": []
  },
  {
   "cell_type": "code",
   "execution_count": null,
   "metadata": {},
   "outputs": [],
   "source": []
  }
 ],
 "metadata": {
  "kernelspec": {
   "display_name": "Python 3",
   "language": "python",
   "name": "python3"
  },
  "language_info": {
   "codemirror_mode": {
    "name": "ipython",
    "version": 3
   },
   "file_extension": ".py",
   "mimetype": "text/x-python",
   "name": "python",
   "nbconvert_exporter": "python",
   "pygments_lexer": "ipython3",
   "version": "3.10.1"
  },
  "orig_nbformat": 4,
  "vscode": {
   "interpreter": {
    "hash": "26de051ba29f2982a8de78e945f0abaf191376122a1563185a90213a26c5da77"
   }
  }
 },
 "nbformat": 4,
 "nbformat_minor": 2
}
