{
 "cells": [
  {
   "cell_type": "code",
   "execution_count": 28,
   "metadata": {},
   "outputs": [
    {
     "name": "stdout",
     "output_type": "stream",
     "text": [
      "A New Exception occurred:  -8\n"
     ]
    }
   ],
   "source": [
    "class MyError(Exception):\n",
    " \n",
    "    # Constructor or Initializer\n",
    "    def __init__(self, value):\n",
    "        self.value = value\n",
    " \n",
    "    # __str__ is to print() the value\n",
    "    def __str__(self):\n",
    "        if self.value < 1:\n",
    "            return('You are giving a Negetive Index.')\n",
    " \n",
    " \n",
    "try:\n",
    "    raise(MyError(-8))\n",
    " \n",
    "# Value of Exception is stored in error\n",
    "except MyError as error:\n",
    "    print('A New Exception occurred: ', error.value)"
   ]
  },
  {
   "attachments": {},
   "cell_type": "markdown",
   "metadata": {},
   "source": [
    "### CLASS OBJ's"
   ]
  },
  {
   "cell_type": "code",
   "execution_count": 29,
   "metadata": {},
   "outputs": [
    {
     "name": "stdout",
     "output_type": "stream",
     "text": [
      "dsgsd\n"
     ]
    },
    {
     "ename": "ValueError",
     "evalue": "not enough values to unpack (expected 3, got 1)",
     "output_type": "error",
     "traceback": [
      "\u001b[1;31m---------------------------------------------------------------------------\u001b[0m",
      "\u001b[1;31mValueError\u001b[0m                                Traceback (most recent call last)",
      "Cell \u001b[1;32mIn[29], line 33\u001b[0m\n\u001b[0;32m     29\u001b[0m         res \u001b[39m=\u001b[39m \u001b[39m'\u001b[39m\u001b[39m*** INVALID DATE ***\u001b[39m\u001b[39m'\u001b[39m\n\u001b[0;32m     31\u001b[0m     \u001b[39mprint\u001b[39m( res)\n\u001b[1;32m---> 33\u001b[0m dob_ckk()\n",
      "Cell \u001b[1;32mIn[29], line 5\u001b[0m, in \u001b[0;36mdob_ckk\u001b[1;34m()\u001b[0m\n\u001b[0;32m      3\u001b[0m dob \u001b[39m=\u001b[39m \u001b[39minput\u001b[39m(\u001b[39m'\u001b[39m\u001b[39mEnter dob in dd-mm-yyyy format: \u001b[39m\u001b[39m'\u001b[39m)\n\u001b[0;32m      4\u001b[0m \u001b[39mprint\u001b[39m( dob)\n\u001b[1;32m----> 5\u001b[0m day, month, year \u001b[39m=\u001b[39m dob\u001b[39m.\u001b[39msplit(\u001b[39m\"\u001b[39m\u001b[39m-\u001b[39m\u001b[39m\"\u001b[39m)\n\u001b[0;32m      6\u001b[0m day, month, year \u001b[39m=\u001b[39m \u001b[39mint\u001b[39m(day), \u001b[39mint\u001b[39m(month), \u001b[39mint\u001b[39m(year)\n\u001b[0;32m      7\u001b[0m thirtyDay \u001b[39m=\u001b[39m [\u001b[39m1\u001b[39m, \u001b[39m3\u001b[39m, \u001b[39m5\u001b[39m, \u001b[39m7\u001b[39m , \u001b[39m8\u001b[39m, \u001b[39m10\u001b[39m, \u001b[39m12\u001b[39m]\n",
      "\u001b[1;31mValueError\u001b[0m: not enough values to unpack (expected 3, got 1)"
     ]
    }
   ],
   "source": [
    "def dob_ckk( ):\n",
    "    res = '!!! VALID DATE !!!'\n",
    "    dob = input('Enter dob in dd-mm-yyyy format: ')\n",
    "    print( dob)\n",
    "    day, month, year = dob.split(\"-\")\n",
    "    day, month, year = int(day), int(month), int(year)\n",
    "    thirtyDay = [1, 3, 5, 7 , 8, 10, 12]\n",
    "    print(day, month, year)\n",
    "    if year < 1900:\n",
    "        print('You are too old')\n",
    "        res = '*** INVALID DATE ***'\n",
    "    if month in thirtyDay:\n",
    "        if day > 31:\n",
    "            print(\"day can be less or equal to 31\") \n",
    "            res = '*** INVALID DATE ***'\n",
    "    else:\n",
    "        if day > 30:\n",
    "            print(\"day can be less or equal to 30\") \n",
    "            res = '*** INVALID DATE ***'\n",
    "\n",
    "    if ((year % 400 == 0) or (year % 100 != 0) and (year % 4 == 0)): \n",
    "        print( \"Leap year\")\n",
    "        if day > 29:\n",
    "            print('Invalid day of FEB')\n",
    "            res = '*** INVALID DATE ***'\n",
    "\n",
    "    elif month == 2 and day > 28:\n",
    "        print('cannot have this day in this month')\n",
    "        res = '*** INVALID DATE ***'\n",
    "\n",
    "    print( res)\n",
    "\n",
    "dob_ckk()"
   ]
  },
  {
   "cell_type": "code",
   "execution_count": null,
   "metadata": {},
   "outputs": [
    {
     "name": "stdout",
     "output_type": "stream",
     "text": [
      "TRY START\n",
      "TRY END\n",
      "else is here on successful try\n",
      "no matter what, I will be here.\n"
     ]
    }
   ],
   "source": [
    "try:\n",
    "    print(\"TRY START\")\n",
    "    # a = 1/0\n",
    "    a = 1/30\n",
    "    print(\"TRY END\")\n",
    "except Exception as e:\n",
    "    print(e)\n",
    "else:\n",
    "    print(\"else is here on successful try\")\n",
    "finally:\n",
    "    print(\"no matter what, I will be here.\")\n",
    "\n",
    "## closing a file in a finally block"
   ]
  },
  {
   "cell_type": "code",
   "execution_count": 42,
   "metadata": {},
   "outputs": [
    {
     "name": "stdout",
     "output_type": "stream",
     "text": [
      "For Patient Id: 1001, Name is ram valli & age is 54\n",
      "Patient(1001, 'ram valli', 54)\n"
     ]
    }
   ],
   "source": [
    "class Person:\n",
    "    def __init__( self, name, age):\n",
    "        if age < 1:\n",
    "            raise Exception(\"Age criteria is invalid.\")\n",
    "        self.name = name\n",
    "        self.age = age\n",
    "    \n",
    "    def get_fname(self):\n",
    "        return self.name.split(\" \")[0]\n",
    "    \n",
    "    def get_lname(self):\n",
    "        return self.name.split(\" \")[-1]\n",
    "\n",
    "    def get_age(self):\n",
    "        return self.age\n",
    "\n",
    "    def get_age_category(self):\n",
    "        if self.age < 18:\n",
    "            return 'CHILD'\n",
    "        elif self.age > 18 and self.age < 60:\n",
    "            return 'ADULT'\n",
    "        else:\n",
    "             return 'SENIOR CITIZEN'\n",
    "\n",
    "class Patient( Person):\n",
    "    def __init__(self, name, age, ssn):\n",
    "        super().__init__(name, age)\n",
    "        self.ssn = ssn\n",
    "    \n",
    "    def __str__(self):\n",
    "        s = \"For Patient Id: \"+str( self.ssn)+\", Name is \"+self.name+\" & age is \"+str( self.age)\n",
    "        return s\n",
    "    \n",
    "    def __repr__(self):\n",
    "        s = \"Patient(\"+str(self.ssn)+\", '\"+self.name+\"', \"+str(self.age)+\")\"\n",
    "        return s\n",
    "\n",
    "    def get_ssn(self):\n",
    "        return self.ssn\n",
    "\n",
    "p1 = Patient( 'ram valli', 54, 1001)\n",
    "print( p1)\n",
    "print( p1.__repr__())\n",
    "# print( p1.get_fname(), p1.get_lname(), p1.get_ssn(), p1.get_age_category() )"
   ]
  },
  {
   "cell_type": "code",
   "execution_count": null,
   "metadata": {},
   "outputs": [],
   "source": [
    "'''\n",
    "# person( fn, ln, age):\n",
    "    get_full_name\n",
    "# student( fn, ln, age, reg_nom, maths, science, english) person I\n",
    "    get_total_marks\n",
    "# teacher( fn, ln, age, subjects) person I\n",
    "    get_subjects\n",
    "# hod is a teacher, head of some dept and manages some teachers\n",
    "# return the full names and subjcts of all the teachers and hod manages\n",
    "'''"
   ]
  },
  {
   "cell_type": "code",
   "execution_count": 9,
   "metadata": {},
   "outputs": [
    {
     "name": "stdout",
     "output_type": "stream",
     "text": [
      "Student full name is Amit Shah and age is 60\n",
      "1001 marks are 70 80 90\n",
      "240\n",
      "AmitShah\n"
     ]
    }
   ],
   "source": [
    "class Person:\n",
    "    def __init__(self, fn, ln, age):\n",
    "        self.fn = fn\n",
    "        self.ln = ln\n",
    "        self.age = age\n",
    "\n",
    "    def __str__(self):\n",
    "        s = \"Person full name is \"+self.fn+\" \"+self.ln+\"and age is \"+str( self.age)\n",
    "        return s\n",
    "    \n",
    "    def get_full_name(self):\n",
    "        return self.fn+self.ln\n",
    "\n",
    "class Student(Person): # inheritance\n",
    "    def __init__(self, fn, ln, age, reg_no, maths, science, english):\n",
    "        super().__init__(fn, ln, age)\n",
    "        self.reg_no = reg_no\n",
    "        self.maths = maths\n",
    "        self.science = science\n",
    "        self.english = english\n",
    "\n",
    "    def __str__(self):\n",
    "        s = \"Student full name is \"+self.fn+\" \"+self.ln+\" and age is \"+str( self.age)+\\\n",
    "            \"\\n\"+str( self.reg_no)+\" marks are \"+str(self.maths)+\" \"+str(self.science)+\" \"+str(self.english)\n",
    "        return s\n",
    "    \n",
    "    def get_total_marks(self):\n",
    "        return self.maths+self.science+self.english\n",
    "\n",
    "class Teacher(Person):\n",
    "    def __init__(self, fn, ln, age, subjects):\n",
    "        super().__init__(fn, ln, age)\n",
    "        self.subjects = subjects\n",
    "\n",
    "    def __str__(self):\n",
    "        s = \"Teacher full name is \"+self.fn+\" \"+self.ln+\" and he/she teaches \"\n",
    "        for x in self.subjects:\n",
    "            s += x+\", \"\n",
    "        return s\n",
    "    \n",
    "    def get_subjects(self):\n",
    "        return self.subjects\n",
    "\n",
    "class HOD(Teacher):\n",
    "    def __init__(self, fn, ln, age, subjects, managesT):\n",
    "        super().__init__(fn, ln, age, subjects)\n",
    "        self.managesT = managesT\n",
    "\n",
    "    def __str__(self):\n",
    "        s = \"HOD full name is \"+self.fn+\" \"+self.ln+\" and he/she teaches \"\n",
    "        for x in self.subjects:\n",
    "            s += x+\", \"\n",
    "        return s\n",
    "\n",
    "    def get_managesT(self):\n",
    "        s = '\\n'+self.fn+\" \"+self.ln+\" manages - \\n\"\n",
    "        for x in self.managesT:\n",
    "            s += str(x)+\"\\n\"\n",
    "        return s\n",
    "\n",
    "# p1 = Person(\"Lalit\", \"Modi\", \"62\")\n",
    "# print( p1)\n",
    "\n",
    "# s1 = Student(\"Amit\", \"Shah\", 60, 1001, 70, 80, 90)\n",
    "# print( s1)\n",
    "# print( s1.get_total_marks())\n",
    "# print( s1.get_full_name() )\n",
    "\n",
    "# t1 = Teacher('Jay', \"Shah\", 54, ['english', 'science'])\n",
    "# print( t1)\n",
    "# print( t1.get_subjects())\n",
    "\n",
    "# h1 = HOD('Jay', \"Shah\", 54, ['english', 'maths'],\\\n",
    "#      [ Teacher('Bob', \"Wisely\", 54, ['english', 'science']), Teacher('Mani', \"Rogg\", 69, ['maths', 'science'])])\n",
    "# print( h1)\n",
    "# print( h1.get_managesT())\n",
    "\n",
    "# print( Teacher('Bob', \"Wisely\", 54, ['english', 'science']))"
   ]
  },
  {
   "cell_type": "code",
   "execution_count": 1,
   "metadata": {},
   "outputs": [
    {
     "name": "stdout",
     "output_type": "stream",
     "text": [
      "Person name is Mayank 25 & he lives in Ambala, Haryana\n",
      "Mayank\n"
     ]
    }
   ],
   "source": [
    "class Person:\n",
    "    def __init__( self, name, age, address):\n",
    "        self.name = name\n",
    "        self.age = age\n",
    "        self.address = address\n",
    "\n",
    "    def __str__( self):\n",
    "        s = \"Person name is \"+self.name+\" \"+str( self.age )+\" & he lives in \"+self.address\n",
    "        return s\n",
    "    \n",
    "    def get_name(self):\n",
    "        return self.name\n",
    "\n",
    "class Employee( Person):\n",
    "    def __init__( self, name, age, address, salary):\n",
    "        super().__init__(name, age, address)\n",
    "        self.salary = salary\n",
    "\n",
    "    def __str__( self):\n",
    "        s = \"Employee name is \"+self.name+\" \"+str( self.age )+\" & he lives in \"\\\n",
    "            +self.address+\" receives salary \"+str( self.salary)\n",
    "        return s\n",
    "    \n",
    "    def get_salary(self):\n",
    "        return self.salary\n",
    "    \n",
    "class SalesEmployee( Employee):\n",
    "    def __init__( self, name, age, address, salary, bonous):\n",
    "        super().__init__(name, age, address, salary)\n",
    "        self.bonous = bonous\n",
    "\n",
    "    def __str__( self):\n",
    "        s = \"Sales Employee name is \"+self.name+\" \"+str( self.age )+\" & he lives in \"\\\n",
    "            +self.address+\" receives salary \"+str( self.salary)+\" has bonous \"+str( self.bonous)\n",
    "        return s\n",
    "    \n",
    "    def get_bonous(self):\n",
    "        return self.bonous\n",
    "\n",
    "class Manager( Person):\n",
    "    def __init__( self, name, age, address, managedEmp):\n",
    "        super().__init__(name, age, address)\n",
    "        self.managedEmp = managedEmp\n",
    "\n",
    "    def __str__( self):\n",
    "        s = \"Manager name is \"+self.name+\" \"+str( self.age )+\" & he lives in \"\\\n",
    "            +self.address+\" \\nmanages -\\n\"\n",
    "        for x in self.managedEmp:\n",
    "            s += str( x)+\"\\n\"\n",
    "        return s\n",
    "\n",
    "p1 = Person('Mayank', 25, \"Ambala, Haryana\")\n",
    "print( p1)\n",
    "print( p1.get_name() )\n",
    "\n",
    "# e1 = Employee('Mayank', 25, \"Ambala, Haryana\", 25000)\n",
    "# print( e1)\n",
    "# print( e1.get_salary() )\n",
    "\n",
    "# se1 = SalesEmployee('Mayank', 25, \"Ambala, Haryana\", 25000, 3500)\n",
    "# print( se1)\n",
    "# print( se1.get_bonous() )\n",
    "\n",
    "# m1 = Manager('Akash', 30, \"Puri, Orissa\",\\\n",
    "#      [\n",
    "#         Employee('Mayank', 25, \"Ambala, Haryana\", 25000),\n",
    "#         Employee('Nischay', 26, \"Noida, Delhi\", 23000),\n",
    "#      ])\n",
    "# print( m1)"
   ]
  },
  {
   "cell_type": "code",
   "execution_count": 7,
   "metadata": {},
   "outputs": [
    {
     "data": {
      "text/plain": [
       "'hello add me 9'"
      ]
     },
     "execution_count": 7,
     "metadata": {},
     "output_type": "execute_result"
    }
   ],
   "source": [
    "\"hello add me \"+str( 9)"
   ]
  }
 ],
 "metadata": {
  "kernelspec": {
   "display_name": "Python 3",
   "language": "python",
   "name": "python3"
  },
  "language_info": {
   "codemirror_mode": {
    "name": "ipython",
    "version": 3
   },
   "file_extension": ".py",
   "mimetype": "text/x-python",
   "name": "python",
   "nbconvert_exporter": "python",
   "pygments_lexer": "ipython3",
   "version": "3.10.1"
  },
  "orig_nbformat": 4,
  "vscode": {
   "interpreter": {
    "hash": "26de051ba29f2982a8de78e945f0abaf191376122a1563185a90213a26c5da77"
   }
  }
 },
 "nbformat": 4,
 "nbformat_minor": 2
}
